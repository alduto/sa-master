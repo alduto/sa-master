{
 "cells": [
  {
   "cell_type": "code",
   "execution_count": 1,
   "metadata": {
    "tags": [
     "parameters"
    ]
   },
   "outputs": [],
   "source": [
    "shape_cat=\"\"\n",
    "vol=\"\"\n",
    "z_range=\"\"\n",
    "key=\"\"\n",
    "quantile=\"\"\n",
    "test=\"\"\n",
    "z_diff=\"\""
   ]
  },
  {
   "cell_type": "code",
   "execution_count": 2,
   "metadata": {},
   "outputs": [],
   "source": [
    "shape_cat=\"mcal\"\n",
    "vol=\"vlim\"\n",
    "z_range=\"all_z\""
   ]
  },
  {
   "cell_type": "code",
   "execution_count": 3,
   "metadata": {},
   "outputs": [],
   "source": [
    "#This header file contains all the common packages\n",
    "%matplotlib inline\n",
    "%run header.py $shape_cat $vol $z_range \n",
    "%run -i func.py  \n",
    "%run -i corr_func.py  "
   ]
  },
  {
   "cell_type": "code",
   "execution_count": 4,
   "metadata": {
    "papermill": {
     "duration": 1.363795,
     "end_time": "2019-11-15T03:19:57.422495",
     "exception": false,
     "start_time": "2019-11-15T03:19:56.058700",
     "status": "completed"
    },
    "tags": []
   },
   "outputs": [],
   "source": [
    "if test==\"foreground\":\n",
    "    members=shapes[(shapes[('All','Z')]-shapes[('All','ZRED2')])>=z_diff]\n",
    "    diff=members[('All','Z')]-members[('All','ZRED2')]\n",
    "    diff.hist()\n",
    "    diff.describe()\n",
    "    \n",
    "elif test==\"background\":\n",
    "    members=shapes[(shapes[('All','Z')]-shapes[('All','ZRED2')])<=-z_diff]\n",
    "    diff=members[('All','Z')]-members[('All','ZRED2')]\n",
    "    diff.hist()\n",
    "    diff.describe()\n",
    "elif test==\"\":\n",
    "    members=shapes\n",
    "else:\n",
    "    raise TypeError"
   ]
  },
  {
   "cell_type": "code",
   "execution_count": 18,
   "metadata": {},
   "outputs": [
    {
     "data": {
      "image/png": "[encoded data removed]",
      "text/plain": [
       "<Figure size 432x288 with 1 Axes>"
      ]
     },
     "metadata": {
      "needs_background": "light"
     },
     "output_type": "display_data"
    },
    {
     "name": "stdout",
     "output_type": "stream",
     "text": [
      "0.03805941343307495\n"
     ]
    }
   ],
   "source": [
    "dz = members[('All', 'ZRED2')] - members[('All', 'Z')]\n",
    "dz.hist(bins=100)\n",
    "plt.show()\n",
    "print(dz.std())"
   ]
  },
  {
   "cell_type": "code",
   "execution_count": 5,
   "metadata": {},
   "outputs": [],
   "source": [
    "# if vol!=\"uber\":\n",
    "#     members=shapes"
   ]
  },
  {
   "cell_type": "code",
   "execution_count": 6,
   "metadata": {},
   "outputs": [],
   "source": [
    "if quantile!=\"\":\n",
    "    i=int(quantile)"
   ]
  },
  {
   "cell_type": "code",
   "execution_count": 7,
   "metadata": {},
   "outputs": [],
   "source": [
    "if key==\"lambda\":\n",
    "    key=('All','All','LAMBDA_CHISQ')\n",
    "elif key==\"z\":\n",
    "    key=('All','All','Z_LAMBDA')\n",
    "elif key==\"mag\":\n",
    "    key=('All','All','BCG_ZLUM')"
   ]
  },
  {
   "cell_type": "code",
   "execution_count": 8,
   "metadata": {},
   "outputs": [],
   "source": [
    "def thirds_by_key(catalog,key):\n",
    "    step0=catalog[key].quantile(0.0)\n",
    "    step1=catalog[key].quantile(0.333333)\n",
    "    step2=catalog[key].quantile(0.666666)\n",
    "    step3=catalog[key].quantile(1)\n",
    "    \n",
    "    catalog1=catalog[(catalog[key]>step0) & (catalog[key]<step1)]\n",
    "    catalog2=catalog[(catalog[key]>step1) & (catalog[key]<step2)]\n",
    "    catalog3=catalog[(catalog[key]>step2) & (catalog[key]<step3)]\n",
    "    \n",
    "    return (catalog1,catalog2,catalog3)"
   ]
  },
  {
   "cell_type": "code",
   "execution_count": 9,
   "metadata": {},
   "outputs": [],
   "source": [
    "if key!=\"\":\n",
    "    clusters_list=thirds_by_key(clusters,key)\n",
    "    clusters=clusters_list[i]"
   ]
  },
  {
   "cell_type": "code",
   "execution_count": 10,
   "metadata": {},
   "outputs": [],
   "source": [
    "sep=\"------------------------------------------------------------------------------\"\n",
    "np.set_printoptions(precision=4)"
   ]
  },
  {
   "cell_type": "code",
   "execution_count": 11,
   "metadata": {},
   "outputs": [],
   "source": [
    "NBINS=10"
   ]
  },
  {
   "cell_type": "code",
   "execution_count": 12,
   "metadata": {},
   "outputs": [],
   "source": [
    "import treecorr\n",
    "import astropy.cosmology\n",
    "from fastprogress import master_bar, progress_bar\n",
    "from ipywidgets import FloatProgress\n",
    "from IPython.display import display\n",
    "from tqdm import tqdm"
   ]
  },
  {
   "cell_type": "code",
   "execution_count": 13,
   "metadata": {},
   "outputs": [
    {
     "data": {
      "text/plain": [
       "105029"
      ]
     },
     "execution_count": 13,
     "metadata": {},
     "output_type": "execute_result"
    }
   ],
   "source": [
    "len(shapes)"
   ]
  },
  {
   "cell_type": "code",
   "execution_count": 14,
   "metadata": {},
   "outputs": [
    {
     "data": {
      "text/plain": [
       "105029"
      ]
     },
     "execution_count": 14,
     "metadata": {},
     "output_type": "execute_result"
    }
   ],
   "source": [
    "len(members)"
   ]
  },
  {
   "cell_type": "code",
   "execution_count": 15,
   "metadata": {},
   "outputs": [],
   "source": [
    "if key==\"\":\n",
    "    assert np.isin(shapes['All','MEM_MATCH_ID'].to_numpy(),clusters.index.to_numpy()).all()==True"
   ]
  },
  {
   "cell_type": "code",
   "execution_count": 16,
   "metadata": {},
   "outputs": [
    {
     "name": "stderr",
     "output_type": "stream",
     "text": [
      "4322it [00:25, 170.46it/s]\n",
      "13it [00:00, 128.03it/s]"
     ]
    },
    {
     "name": "stdout",
     "output_type": "stream",
     "text": [
      "Number of empty sat catalogs is 0\n"
     ]
    },
    {
     "name": "stderr",
     "output_type": "stream",
     "text": [
      "4322it [00:22, 189.30it/s]"
     ]
    },
    {
     "name": "stdout",
     "output_type": "stream",
     "text": [
      "Number of empty sat catalogs is 0\n"
     ]
    },
    {
     "name": "stderr",
     "output_type": "stream",
     "text": [
      "\n"
     ]
    }
   ],
   "source": [
    "ng_abs=get_ng_list('abs', False)\n",
    "ng_rel=get_ng_list('rel', False)"
   ]
  },
  {
   "cell_type": "code",
   "execution_count": 17,
   "metadata": {},
   "outputs": [],
   "source": [
    "try:\n",
    "    ng_r=get_xi_meanlogr_varxi_npairs(clusters,'r','abs')\n",
    "except ValueError as e:\n",
    "    print(e)\n",
    "    ng_r=np.array([[1],[1],[1],[1]])"
   ]
  },
  {
   "cell_type": "code",
   "execution_count": 18,
   "metadata": {},
   "outputs": [],
   "source": [
    "# ng_list=np.load(\"/global/project/projectdirs/des/zhou/sa/data/{}/ng_list_cross.npy\".format(dir_string))\n",
    "# ng_r=np.load(\"/global/project/projectdirs/des/zhou/sa/data/{}/ng_r_list_cross.npy\".format(dir_string))"
   ]
  },
  {
   "cell_type": "code",
   "execution_count": 19,
   "metadata": {},
   "outputs": [],
   "source": [
    "sum_abs=get_sum(ng_abs)\n",
    "mean_abs=get_mean(ng_abs)\n",
    "sig_abs=get_sigma(ng_abs)\n",
    "\n",
    "sum_rel=get_sum(ng_rel)\n",
    "mean_rel=get_mean(ng_rel)\n",
    "sig_rel=get_sigma(ng_rel)\n",
    "\n",
    "cov_rel=get_cov(ng_rel)"
   ]
  },
  {
   "cell_type": "code",
   "execution_count": 20,
   "metadata": {},
   "outputs": [],
   "source": [
    "r_xi=ng_r[0]/ng_r[3]\n",
    "r_meanlogr=ng_r[1]/ng_r[3]\n",
    "r_sigma=r_xi/np.sqrt(len(clusters))"
   ]
  },
  {
   "cell_type": "code",
   "execution_count": 21,
   "metadata": {},
   "outputs": [],
   "source": [
    "if key!=\"\":\n",
    "    np.savez(\"/global/project/projectdirs/des/zhou/sa/data/2pt/{}_{}_{}_{}.npz\".format(shape_cat,vol,key,quantile),sum_abs=sum_abs,mean_abs=mean_abs,sig_abs=sig_abs,sum_rel=sum_rel,mean_rel=mean_rel,sig_rel=sig_rel,r_xi=r_xi,r_meanlogr=r_meanlogr,r_sigma=r_sigma)"
   ]
  },
  {
   "cell_type": "code",
   "execution_count": 22,
   "metadata": {},
   "outputs": [],
   "source": [
    "# matplotlib.rcParams.update({'font.size': 11}) # before plotting coode\n",
    "# plt.figure(figsize=(6.2,5))\n",
    "# ...\n",
    "# plt.tight_layout()\n",
    "# plt.subplots_adjust(hspace=0,wspace=0) # if doing multiple panels/subplots\n",
    "# plt.savefig('namee.pdf', bbox_inches='tight')\n",
    "\n",
    "def plt_w_error(meanlogr,xi,varxi,title):\n",
    "    matplotlib.rcParams.update({'font.size': 11}) \n",
    "    plt.figure(figsize=(6.2,5))\n",
    "    plt.errorbar(np.exp(meanlogr),xi,yerr=varxi,fmt='o')\n",
    "    plt.title(title)\n",
    "    plt.xscale('log')\n",
    "#     ax.set_ylim(-0.020,0.020)\n",
    "    \n",
    "    if title==r\"$\\gamma_+$ of Clusters, Normalized by R_LAMBDA\":\n",
    "        plt.savefig(\"/global/project/projectdirs/des/zhou/sa/image/rel_{}_{}_{}.png\".format(shape_cat,vol,z_range))\n",
    "#     plt.xscale('log')\n",
    "#     plt.yscale('log')"
   ]
  },
  {
   "cell_type": "markdown",
   "metadata": {},
   "source": [
    "# Statistics"
   ]
  },
  {
   "cell_type": "code",
   "execution_count": 23,
   "metadata": {},
   "outputs": [],
   "source": [
    "def print_data(sum_,mean_):\n",
    "    sum_string=[\"Aggregated xi:\", \"Aggregated meanlogr:\",\"Aggregated npairs:\"]\n",
    "    for i,data in enumerate(sum_):\n",
    "        print(sum_string[i])\n",
    "        print(sum_[i])\n",
    "        print(sep)\n",
    "    mean_string=[\"Mean xi:\", \"Mean meanlogr:\",\"Mean npairs:\"]\n",
    "    for i,data in enumerate(mean_):\n",
    "        print(mean_string[i])\n",
    "        print(mean_[i])\n",
    "        print(sep)"
   ]
  },
  {
   "cell_type": "markdown",
   "metadata": {},
   "source": [
    "# Redshift distribution"
   ]
  },
  {
   "cell_type": "code",
   "execution_count": 24,
   "metadata": {},
   "outputs": [
    {
     "data": {
      "text/plain": [
       "ID\n",
       "3007825827    0.619567\n",
       "3007931336    0.408113\n",
       "3007938592    0.408113\n",
       "3007938814    0.408113\n",
       "3007938890    0.408113\n",
       "3007939007    0.408113\n",
       "3007939125    0.408113\n",
       "3007941517    0.408113\n",
       "3007941644    0.408113\n",
       "3007941684    0.408113\n",
       "3007941775    0.408113\n",
       "3007941915    0.408113\n",
       "3007941974    0.408113\n",
       "3007942055    0.408113\n",
       "3007944213    0.408113\n",
       "3007944262    0.408113\n",
       "3007944424    0.408113\n",
       "3007944442    0.408113\n",
       "3007944591    0.408113\n",
       "3007944816    0.408113\n",
       "3007944907    0.408113\n",
       "3007945120    0.408113\n",
       "3007945165    0.408113\n",
       "3007945179    0.408113\n",
       "3007947355    0.408113\n",
       "3007947497    0.408113\n",
       "3007947631    0.408113\n",
       "3007947742    0.408113\n",
       "3007947936    0.408113\n",
       "3007947996    0.408113\n",
       "                ...   \n",
       "3159867562    0.657482\n",
       "3159867613    0.657482\n",
       "3159868278    0.657482\n",
       "3159902051    0.392961\n",
       "3159902961    0.392961\n",
       "3159903152    0.392961\n",
       "3159903244    0.392961\n",
       "3159903463    0.392961\n",
       "3159904225    0.392961\n",
       "3159904377    0.392961\n",
       "3159904656    0.392961\n",
       "3159904704    0.392961\n",
       "3159905114    0.392961\n",
       "3159905259    0.392961\n",
       "3159905808    0.392961\n",
       "3159906099    0.392961\n",
       "3159906104    0.392961\n",
       "3159906323    0.392961\n",
       "3159906440    0.392961\n",
       "3159906650    0.392961\n",
       "3159906789    0.392961\n",
       "3159907402    0.392961\n",
       "3159907580    0.392961\n",
       "3159943467    0.385452\n",
       "3159943713    0.385452\n",
       "3159944414    0.385452\n",
       "3159944537    0.385452\n",
       "3159945177    0.385452\n",
       "3159945721    0.385452\n",
       "3159946033    0.385452\n",
       "Name: (All, Z), Length: 105029, dtype: float32"
      ]
     },
     "execution_count": 24,
     "metadata": {},
     "output_type": "execute_result"
    }
   ],
   "source": [
    "members[('All','Z')]"
   ]
  },
  {
   "cell_type": "code",
   "execution_count": 25,
   "metadata": {},
   "outputs": [
    {
     "data": {
      "image/png": "[encoded data removed]",
      "text/plain": [
       "<Figure size 1200x900 with 1 Axes>"
      ]
     },
     "metadata": {
      "needs_background": "light"
     },
     "output_type": "display_data"
    }
   ],
   "source": [
    "fig,ax=plt.subplots(figsize=(8,6),dpi=150)\n",
    "ax.hist(members[('All','Z')],histtype='step')\n",
    "ax.set_xlabel(\"Redshift z\")\n",
    "ax.set_ylabel(\"Number of redMaPPer member galaxies\")\n",
    "ax.set_title(\"Redshift Distribution of redMaPPer member galaxies\")\n",
    "plt.savefig(\"/home/adt35/des_y1_catalog/sa-master/images/z_hist.pdf\")"
   ]
  },
  {
   "cell_type": "markdown",
   "metadata": {},
   "source": [
    "# Abs Plots"
   ]
  },
  {
   "cell_type": "code",
   "execution_count": 26,
   "metadata": {},
   "outputs": [
    {
     "name": "stdout",
     "output_type": "stream",
     "text": [
      "Aggregated xi:\n",
      "[ -5.0841  -4.5195  -2.3328 -10.0936  -2.4359 -11.002   -8.3528   8.9621\n",
      "  14.0266 -16.9691]\n",
      "------------------------------------------------------------------------------\n",
      "Aggregated meanlogr:\n",
      "[ -3292.0816  -6271.9862  -8715.7173 -12389.0767 -17198.4768 -22259.7214\n",
      " -25051.9586 -22523.4493 -12767.2177  -1338.3202]\n",
      "------------------------------------------------------------------------------\n",
      "Aggregated npairs:\n",
      "[  761.  1627.  2572.  4272.  7100. 11481. 17120. 22818. 24649.  8133.]\n",
      "------------------------------------------------------------------------------\n",
      "Mean xi:\n",
      "[-0.0067 -0.0028 -0.0009 -0.0024 -0.0003 -0.001  -0.0005  0.0004  0.0006\n",
      " -0.0021]\n",
      "------------------------------------------------------------------------------\n",
      "Mean meanlogr:\n",
      "[-4.326  -3.8549 -3.3887 -2.9001 -2.4223 -1.9388 -1.4633 -0.9871 -0.518\n",
      " -0.1646]\n",
      "------------------------------------------------------------------------------\n"
     ]
    },
    {
     "data": {
      "image/png": "[encoded data removed]",
      "text/plain": [
       "<Figure size 446.4x360 with 1 Axes>"
      ]
     },
     "metadata": {
      "needs_background": "light"
     },
     "output_type": "display_data"
    }
   ],
   "source": [
    "plt_w_error(mean_abs[1],-mean_abs[0],sig_abs,r\"$\\gamma_+$ of Clusters On a Absolute Scale \")\n",
    "print_data(sum_abs,mean_abs)"
   ]
  },
  {
   "cell_type": "code",
   "execution_count": 27,
   "metadata": {},
   "outputs": [
    {
     "name": "stdout",
     "output_type": "stream",
     "text": [
      "[ 8.0614e-03 -4.0169e-03  8.0985e-04 -8.0003e-04 -1.1234e-03 -1.6914e-05\n",
      "  3.4635e-04 -8.3508e-05  1.5886e-04  6.9678e-05]\n",
      "[-1.2262e-04  6.1101e-05 -1.2319e-05  1.2169e-05  1.7087e-05  2.5728e-07\n",
      " -5.2684e-06  1.2702e-06 -2.4164e-06 -1.0599e-06]\n"
     ]
    },
    {
     "data": {
      "image/png": "[encoded data removed]",
      "text/plain": [
       "<Figure size 446.4x360 with 1 Axes>"
      ]
     },
     "metadata": {
      "needs_background": "light"
     },
     "output_type": "display_data"
    }
   ],
   "source": [
    "plt_w_error(r_meanlogr,-r_xi,r_sigma,r\"$\\gamma_+$ with Random Catalog\")\n",
    "print(-r_xi)\n",
    "print(r_sigma)"
   ]
  },
  {
   "cell_type": "code",
   "execution_count": 28,
   "metadata": {},
   "outputs": [
    {
     "data": {
      "image/png": "[encoded data removed]",
      "text/plain": [
       "<Figure size 446.4x360 with 1 Axes>"
      ]
     },
     "metadata": {
      "needs_background": "light"
     },
     "output_type": "display_data"
    }
   ],
   "source": [
    "plt_w_error(mean_abs[1],-(mean_abs[0]+r_xi),np.hypot(r_sigma,sig_abs),r\"$\\gamma_+$ of Clusters - $\\gamma_T$ with Random Catalog\")"
   ]
  },
  {
   "cell_type": "markdown",
   "metadata": {},
   "source": [
    "# Rel plots"
   ]
  },
  {
   "cell_type": "code",
   "execution_count": 43,
   "metadata": {},
   "outputs": [
    {
     "name": "stdout",
     "output_type": "stream",
     "text": [
      "Aggregated xi:\n",
      "[ -3.2982  -1.0694 -12.5055  -1.7997  -1.5501  -5.8067  -4.0446  15.7086\n",
      " -26.3428   2.4246]\n",
      "------------------------------------------------------------------------------\n",
      "Aggregated meanlogr:\n",
      "[ -1794.2648  -4367.6069  -7203.8497  -9568.6451 -13376.0262 -17685.9487\n",
      " -20861.6353 -20151.127  -13193.8657  -2000.5896]\n",
      "------------------------------------------------------------------------------\n",
      "Aggregated npairs:\n",
      "[  417.  1132.  2123.  3292.  5506.  9063. 14135. 20072. 24791. 20118.]\n",
      "------------------------------------------------------------------------------\n",
      "Mean xi:\n",
      "[-0.0079 -0.0009 -0.0059 -0.0005 -0.0003 -0.0006 -0.0003  0.0008 -0.0011\n",
      "  0.0001]\n",
      "------------------------------------------------------------------------------\n",
      "Mean meanlogr:\n",
      "[-4.3028 -3.8583 -3.3932 -2.9066 -2.4294 -1.9514 -1.4759 -1.0039 -0.5322\n",
      " -0.0994]\n",
      "------------------------------------------------------------------------------\n"
     ]
    },
    {
     "data": {
      "image/png": "[encoded data removed]",
      "text/plain": [
       "<Figure size 446.4x360 with 1 Axes>"
      ]
     },
     "metadata": {
      "needs_background": "light"
     },
     "output_type": "display_data"
    }
   ],
   "source": [
    "plt_w_error(mean_rel[1],mean_rel[0],sig_rel,r\"$\\gamma_x$ of Clusters, Normalized by R_LAMBDA\")\n",
    "plt.xlabel(\"Distance from BCG [R_LAMBDA]\")\n",
    "plt.ylabel(r\"$\\gamma_x$\")\n",
    "plt.savefig(\"/home/adt35/des_y1_catalog/sa-master/images/gamma_x_rel.pdf\")\n",
    "print_data(sum_rel,mean_rel)"
   ]
  },
  {
   "cell_type": "code",
   "execution_count": 30,
   "metadata": {},
   "outputs": [
    {
     "name": "stdout",
     "output_type": "stream",
     "text": [
      "Error bar size\n",
      "[0.0045 0.003  0.0026 0.0022 0.0019 0.0015 0.0013 0.0011 0.001  0.0011]\n"
     ]
    }
   ],
   "source": [
    "print(\"Error bar size\")\n",
    "print(sig_rel)"
   ]
  },
  {
   "cell_type": "code",
   "execution_count": 31,
   "metadata": {},
   "outputs": [
    {
     "data": {
      "text/plain": [
       "3.18617819366352"
      ]
     },
     "execution_count": 31,
     "metadata": {},
     "output_type": "execute_result"
    }
   ],
   "source": [
    "np.sqrt(np.dot(np.dot(mean_rel[0],np.linalg.inv(cov_rel)),mean_rel[0]))"
   ]
  },
  {
   "cell_type": "code",
   "execution_count": 32,
   "metadata": {},
   "outputs": [
    {
     "data": {
      "text/plain": [
       "10"
      ]
     },
     "execution_count": 32,
     "metadata": {},
     "output_type": "execute_result"
    }
   ],
   "source": [
    "len(cov_rel)"
   ]
  },
  {
   "cell_type": "code",
   "execution_count": 33,
   "metadata": {},
   "outputs": [
    {
     "data": {
      "text/plain": [
       "array([[ 2.0649e-05,  8.4287e-08, -1.6133e-07, -1.6091e-07,  5.3978e-08,\n",
       "         1.6674e-07, -2.3408e-08,  5.2084e-09, -7.8844e-08, -2.9750e-08],\n",
       "       [ 8.4287e-08,  8.9489e-06,  1.0017e-07,  5.7019e-09, -8.8495e-08,\n",
       "         4.0107e-08, -2.9202e-08, -9.1377e-08, -3.2162e-08,  3.5791e-08],\n",
       "       [-1.6133e-07,  1.0017e-07,  6.7987e-06,  1.2507e-07,  6.8667e-08,\n",
       "        -4.1423e-10, -2.7556e-08, -9.6256e-08,  9.1723e-09, -6.2739e-08],\n",
       "       [-1.6091e-07,  5.7019e-09,  1.2507e-07,  5.0289e-06,  7.7404e-09,\n",
       "         1.2419e-08, -1.3999e-08,  1.1337e-08, -2.9643e-08,  4.3124e-08],\n",
       "       [ 5.3978e-08, -8.8495e-08,  6.8667e-08,  7.7404e-09,  3.4810e-06,\n",
       "        -3.1657e-08, -8.5339e-08,  1.6368e-08,  1.7320e-08,  8.3206e-09],\n",
       "       [ 1.6674e-07,  4.0107e-08, -4.1423e-10,  1.2419e-08, -3.1657e-08,\n",
       "         2.3696e-06,  3.3117e-08, -2.4037e-08,  3.5199e-08,  1.3102e-08],\n",
       "       [-2.3408e-08, -2.9202e-08, -2.7556e-08, -1.3999e-08, -8.5339e-08,\n",
       "         3.3117e-08,  1.6082e-06,  1.6503e-08, -5.5988e-09, -1.2321e-08],\n",
       "       [ 5.2084e-09, -9.1377e-08, -9.6256e-08,  1.1337e-08,  1.6368e-08,\n",
       "        -2.4037e-08,  1.6503e-08,  1.2353e-06, -4.4110e-09, -8.2886e-10],\n",
       "       [-7.8844e-08, -3.2162e-08,  9.1723e-09, -2.9643e-08,  1.7320e-08,\n",
       "         3.5199e-08, -5.5988e-09, -4.4110e-09,  9.9273e-07,  2.7190e-10],\n",
       "       [-2.9750e-08,  3.5791e-08, -6.2739e-08,  4.3124e-08,  8.3206e-09,\n",
       "         1.3102e-08, -1.2321e-08, -8.2886e-10,  2.7190e-10,  1.1394e-06]])"
      ]
     },
     "execution_count": 33,
     "metadata": {},
     "output_type": "execute_result"
    }
   ],
   "source": [
    "cov_rel"
   ]
  },
  {
   "cell_type": "code",
   "execution_count": 34,
   "metadata": {},
   "outputs": [
    {
     "data": {
      "text/plain": [
       "-1.6132900096244008e-07"
      ]
     },
     "execution_count": 34,
     "metadata": {},
     "output_type": "execute_result"
    }
   ],
   "source": [
    "cov_rel.min()"
   ]
  },
  {
   "cell_type": "code",
   "execution_count": 35,
   "metadata": {},
   "outputs": [
    {
     "data": {
      "text/plain": [
       "2.06491660172243e-05"
      ]
     },
     "execution_count": 35,
     "metadata": {},
     "output_type": "execute_result"
    }
   ],
   "source": [
    "cov_rel.max()"
   ]
  },
  {
   "cell_type": "code",
   "execution_count": 36,
   "metadata": {},
   "outputs": [
    {
     "name": "stdout",
     "output_type": "stream",
     "text": [
      "['0.01', '0.02', '0.03', '0.05', '0.09', '0.14', '0.23', '0.37', '0.59', '0.91']\n"
     ]
    }
   ],
   "source": [
    "ticks_val=np.exp(mean_rel[1])\n",
    "ticks_string=[\"{:.2f}\".format(val) for val in ticks_val]\n",
    "print(ticks_string)"
   ]
  },
  {
   "cell_type": "code",
   "execution_count": 37,
   "metadata": {},
   "outputs": [
    {
     "data": {
      "image/png": "[encoded data removed]",
      "text/plain": [
       "<Figure size 446.4x360 with 2 Axes>"
      ]
     },
     "metadata": {
      "needs_background": "light"
     },
     "output_type": "display_data"
    }
   ],
   "source": [
    "fig,ax=plt.subplots(figsize=(6.2,5))\n",
    "\n",
    "from matplotlib.ticker import StrMethodFormatter\n",
    "import matplotlib.ticker as ticker\n",
    "import matplotlib.colors as colors\n",
    "\n",
    "plt.matshow(np.abs(cov_rel),fignum=0,norm=colors.LogNorm(vmin=np.abs(cov_rel).min(),vmax=np.abs(cov_rel).max()))\n",
    "\n",
    "ax.xaxis.set_major_locator(ticker.MultipleLocator(1.00))\n",
    "ax.yaxis.set_major_locator(ticker.MultipleLocator(1.00))\n",
    "\n",
    "ax.set_xticks(range(len(ticks_val)))\n",
    "ax.set_yticks(range(len(ticks_val)))\n",
    "\n",
    "ax.set_xticklabels(ticks_val)\n",
    "\n",
    "\n",
    "ax.xaxis.set_major_formatter(ticker.FixedFormatter(ticks_string))\n",
    "ax.yaxis.set_major_formatter(ticker.FixedFormatter(ticks_string))\n",
    "\n",
    "ax.set_xlabel(\"[R_LAMBDA]\",labelpad=10)\n",
    "\n",
    "def fmt(x, pos):\n",
    "    a, b = '{:.2e}'.format(x).split('e')\n",
    "    b = int(b)\n",
    "    return r'${} \\times 10^{{{}}}$'.format(a, b)\n",
    "\n",
    "\n",
    "cb=plt.colorbar(pad=0.06,format=ticker.FuncFormatter(fmt))\n",
    "\n",
    "\n",
    "\n",
    "\n",
    "ax.set_title('Covariance Matrix of $\\gamma_x$ at Different R_LAMBDA',fontsize=11,pad=12);\n",
    "plt.savefig('/home/adt35/des_y1_catalog/sa-master/images/cov.pdf')"
   ]
  },
  {
   "cell_type": "code",
   "execution_count": 38,
   "metadata": {},
   "outputs": [],
   "source": [
    "# print(f.number)"
   ]
  },
  {
   "cell_type": "code",
   "execution_count": 39,
   "metadata": {},
   "outputs": [
    {
     "data": {
      "text/plain": [
       "array([ -392.785 ,   -90.9314,  -862.7288,  -107.8303,   -64.2762,\n",
       "        -217.195 ,  -209.0416,   557.8073, -1089.6628,    56.3259])"
      ]
     },
     "execution_count": 39,
     "metadata": {},
     "output_type": "execute_result"
    }
   ],
   "source": [
    "np.dot(mean_rel[0],np.linalg.inv(cov_rel))"
   ]
  },
  {
   "cell_type": "code",
   "execution_count": 40,
   "metadata": {},
   "outputs": [
    {
     "data": {
      "text/plain": [
       "array([-0.0079, -0.0009, -0.0059, -0.0005, -0.0003, -0.0006, -0.0003,\n",
       "        0.0008, -0.0011,  0.0001])"
      ]
     },
     "execution_count": 40,
     "metadata": {},
     "output_type": "execute_result"
    }
   ],
   "source": [
    "mean_rel[0]"
   ]
  },
  {
   "cell_type": "code",
   "execution_count": 41,
   "metadata": {},
   "outputs": [
    {
     "data": {
      "text/plain": [
       "array([[ 2.0649e-05,  8.4287e-08, -1.6133e-07, -1.6091e-07,  5.3978e-08,\n",
       "         1.6674e-07, -2.3408e-08,  5.2084e-09, -7.8844e-08, -2.9750e-08],\n",
       "       [ 8.4287e-08,  8.9489e-06,  1.0017e-07,  5.7019e-09, -8.8495e-08,\n",
       "         4.0107e-08, -2.9202e-08, -9.1377e-08, -3.2162e-08,  3.5791e-08],\n",
       "       [-1.6133e-07,  1.0017e-07,  6.7987e-06,  1.2507e-07,  6.8667e-08,\n",
       "        -4.1423e-10, -2.7556e-08, -9.6256e-08,  9.1723e-09, -6.2739e-08],\n",
       "       [-1.6091e-07,  5.7019e-09,  1.2507e-07,  5.0289e-06,  7.7404e-09,\n",
       "         1.2419e-08, -1.3999e-08,  1.1337e-08, -2.9643e-08,  4.3124e-08],\n",
       "       [ 5.3978e-08, -8.8495e-08,  6.8667e-08,  7.7404e-09,  3.4810e-06,\n",
       "        -3.1657e-08, -8.5339e-08,  1.6368e-08,  1.7320e-08,  8.3206e-09],\n",
       "       [ 1.6674e-07,  4.0107e-08, -4.1423e-10,  1.2419e-08, -3.1657e-08,\n",
       "         2.3696e-06,  3.3117e-08, -2.4037e-08,  3.5199e-08,  1.3102e-08],\n",
       "       [-2.3408e-08, -2.9202e-08, -2.7556e-08, -1.3999e-08, -8.5339e-08,\n",
       "         3.3117e-08,  1.6082e-06,  1.6503e-08, -5.5988e-09, -1.2321e-08],\n",
       "       [ 5.2084e-09, -9.1377e-08, -9.6256e-08,  1.1337e-08,  1.6368e-08,\n",
       "        -2.4037e-08,  1.6503e-08,  1.2353e-06, -4.4110e-09, -8.2886e-10],\n",
       "       [-7.8844e-08, -3.2162e-08,  9.1723e-09, -2.9643e-08,  1.7320e-08,\n",
       "         3.5199e-08, -5.5988e-09, -4.4110e-09,  9.9273e-07,  2.7190e-10],\n",
       "       [-2.9750e-08,  3.5791e-08, -6.2739e-08,  4.3124e-08,  8.3206e-09,\n",
       "         1.3102e-08, -1.2321e-08, -8.2886e-10,  2.7190e-10,  1.1394e-06]])"
      ]
     },
     "execution_count": 41,
     "metadata": {},
     "output_type": "execute_result"
    }
   ],
   "source": [
    "cov_rel"
   ]
  },
  {
   "cell_type": "code",
   "execution_count": 42,
   "metadata": {},
   "outputs": [
    {
     "data": {
      "text/plain": [
       "array([[ 4.8500e+04, -4.5361e+02,  1.1442e+03,  1.5486e+03, -8.2437e+02,\n",
       "        -3.5041e+03,  7.8565e+02, -2.1562e+02,  4.0146e+03,  1.3387e+03],\n",
       "       [-4.5361e+02,  1.1192e+05, -1.6032e+03, -6.1511e+01,  2.8713e+03,\n",
       "        -1.8060e+03,  2.0898e+03,  8.0662e+03,  3.6655e+03, -3.5862e+03],\n",
       "       [ 1.1442e+03, -1.6032e+03,  1.4749e+05, -3.7241e+03, -2.9710e+03,\n",
       "         9.5335e+00,  2.2670e+03,  1.1413e+04, -1.3223e+03,  8.3973e+03],\n",
       "       [ 1.5486e+03, -6.1511e+01, -3.7241e+03,  1.9911e+05, -3.6717e+02,\n",
       "        -1.2513e+03,  1.6819e+03, -2.1538e+03,  6.1536e+03, -7.6666e+03],\n",
       "       [-8.2437e+02,  2.8713e+03, -2.9710e+03, -3.6717e+02,  2.8787e+05,\n",
       "         3.6913e+03,  1.5192e+04, -3.9775e+03, -5.0406e+03, -2.2436e+03],\n",
       "       [-3.5041e+03, -1.8060e+03,  9.5335e+00, -1.2513e+03,  3.6913e+03,\n",
       "         4.2280e+05, -8.7804e+03,  8.1306e+03, -1.5442e+04, -4.9611e+03],\n",
       "       [ 7.8565e+02,  2.0898e+03,  2.2670e+03,  1.6819e+03,  1.5192e+04,\n",
       "        -8.7804e+03,  6.2306e+05, -8.3660e+03,  3.6806e+03,  6.7368e+03],\n",
       "       [-2.1562e+02,  8.0662e+03,  1.1413e+04, -2.1538e+03, -3.9775e+03,\n",
       "         8.1306e+03, -8.3660e+03,  8.1137e+05,  3.4133e+03,  8.8552e+02],\n",
       "       [ 4.0146e+03,  3.6655e+03, -1.3223e+03,  6.1536e+03, -5.0406e+03,\n",
       "        -1.5442e+04,  3.6806e+03,  3.4133e+03,  1.0086e+06, -3.0008e+02],\n",
       "       [ 1.3387e+03, -3.5862e+03,  8.3973e+03, -7.6666e+03, -2.2436e+03,\n",
       "        -4.9611e+03,  6.7368e+03,  8.8552e+02, -3.0008e+02,  8.7874e+05]])"
      ]
     },
     "execution_count": 42,
     "metadata": {},
     "output_type": "execute_result"
    }
   ],
   "source": [
    "np.linalg.inv(cov_rel)"
   ]
  },
  {
   "cell_type": "code",
   "execution_count": 46,
   "metadata": {},
   "outputs": [
    {
     "data": {
      "text/plain": [
       "103.05765207810082"
      ]
     },
     "execution_count": 46,
     "metadata": {},
     "output_type": "execute_result"
    }
   ],
   "source": [
    "np.matmul(np.matmul(mean_rel[0], np.linalg.inv(cov_rel)), mean_rel[0])*np.dot(mean_rel[0], np.dot(np.linalg.inv(cov_rel), mean_rel[0]))"
   ]
  },
  {
   "cell_type": "code",
   "execution_count": 47,
   "metadata": {},
   "outputs": [
    {
     "data": {
      "text/plain": [
       "10.185226433561821"
      ]
     },
     "execution_count": 47,
     "metadata": {},
     "output_type": "execute_result"
    }
   ],
   "source": [
    "np.sum(mean_rel[0]**2/np.diagonal(cov_rel))"
   ]
  },
  {
   "cell_type": "code",
   "execution_count": 49,
   "metadata": {},
   "outputs": [
    {
     "data": {
      "text/plain": [
       "True"
      ]
     },
     "execution_count": 49,
     "metadata": {},
     "output_type": "execute_result"
    }
   ],
   "source": [
    "np.all(np.linalg.eigvals(cov_rel)>0)"
   ]
  },
  {
   "cell_type": "code",
   "execution_count": 50,
   "metadata": {},
   "outputs": [
    {
     "data": {
      "text/plain": [
       "10.15173148177693"
      ]
     },
     "execution_count": 50,
     "metadata": {},
     "output_type": "execute_result"
    }
   ],
   "source": [
    "np.matmul(np.matmul(mean_rel[0], np.linalg.inv(cov_rel)), mean_rel[0])"
   ]
  },
  {
   "cell_type": "code",
   "execution_count": 51,
   "metadata": {},
   "outputs": [
    {
     "data": {
      "text/plain": [
       "10.15173148177693"
      ]
     },
     "execution_count": 51,
     "metadata": {},
     "output_type": "execute_result"
    }
   ],
   "source": [
    "np.dot(mean_rel[0], np.dot(np.linalg.inv(cov_rel), mean_rel[0]))"
   ]
  },
  {
   "cell_type": "code",
   "execution_count": null,
   "metadata": {},
   "outputs": [],
   "source": []
  }
 ],
 "metadata": {
  "kernelspec": {
   "display_name": "Python 3",
   "language": "python",
   "name": "python3"
  },
  "language_info": {
   "codemirror_mode": {
    "name": "ipython",
    "version": 3
   },
   "file_extension": ".py",
   "mimetype": "text/x-python",
   "name": "python",
   "nbconvert_exporter": "python",
   "pygments_lexer": "ipython3",
   "version": "3.7.2"
  }
 },
 "nbformat": 4,
 "nbformat_minor": 4
}
