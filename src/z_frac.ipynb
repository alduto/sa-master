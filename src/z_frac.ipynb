{
 "cells": [
  {
   "cell_type": "code",
   "execution_count": 1,
   "metadata": {
    "tags": [
     "parameters"
    ]
   },
   "outputs": [],
   "source": [
    "shape_cat=\"mcal\"\n",
    "vol=\"vlim\"\n",
    "z_range=\"all_z\"\n",
    "key=\"\"\n",
    "quantile=\"\"\n",
    "test=\"\"\n",
    "z_diff=\"\""
   ]
  },
  {
   "cell_type": "code",
   "execution_count": 2,
   "metadata": {},
   "outputs": [],
   "source": [
    "from astropy.io import fits\n",
    "from astropy.table import Table\n",
    "import pandas as pd\n",
    "import fitsio as fio\n",
    "import numpy as np\n",
    "import ast\n",
    "\n",
    "import astropy.cosmology\n",
    "from astropy.coordinates import SkyCoord  # High-level coordinates\n",
    "from astropy.coordinates import ICRS, Galactic, FK4, FK5  # Low-level frames\n",
    "from astropy.coordinates import Angle, Latitude, Longitude  # Angles\n",
    "import astropy.units as u\n",
    "from IPython.display import display, Math\n",
    "from tqdm.notebook import tqdm\n",
    "tqdm.pandas()"
   ]
  },
  {
   "cell_type": "code",
   "execution_count": 3,
   "metadata": {},
   "outputs": [],
   "source": [
    "#This header file contains all the common packages\n",
    "%matplotlib inline\n",
    "%run -i header.py $shape_cat $vol $z_range \n",
    "%run -i func.py  "
   ]
  },
  {
   "cell_type": "code",
   "execution_count": 4,
   "metadata": {},
   "outputs": [],
   "source": [
    "BPZ_table=Table(fits.open('/lsst/troxel/y1a1/mcal-y1a1-combined-griz-blind-v3-matched_BPZbase.fits')[1].data)"
   ]
  },
  {
   "cell_type": "code",
   "execution_count": 5,
   "metadata": {},
   "outputs": [
    {
     "data": {
      "text/html": [
       "<i>Table length=136930995</i>\n",
       "<table id=\"table139860852765864\" class=\"table-striped table-bordered table-condensed\">\n",
       "<thead><tr><th>template_id</th><th>coadd_objects_id</th><th>r11</th><th>r22</th><th>template_type</th><th>median_z</th><th>mean_z</th><th>minchi2</th><th>mode_z</th><th>z_sigma68</th><th>z_sigma</th><th>kl_post_prior</th><th>z_mc</th></tr></thead>\n",
       "<thead><tr><th>int64</th><th>int64</th><th>float64</th><th>float64</th><th>float64</th><th>float64</th><th>float64</th><th>float64</th><th>float64</th><th>float64</th><th>float64</th><th>float64</th><th>float64</th></tr></thead>\n",
       "<tr><td>24</td><td>3007825738</td><td>0.34419721337254455</td><td>0.7797333138830541</td><td>2.6666666666666665</td><td>0.5877911726071515</td><td>0.5924987689164418</td><td>1.0369240172085483</td><td>0.59</td><td>0.021323520502312843</td><td>0.029561286126199307</td><td>2.1855233372462246</td><td>0.6002927486379405</td></tr>\n",
       "<tr><td>12</td><td>3007825739</td><td>0.42446256532802235</td><td>0.9309083875559503</td><td>1.3333333333333333</td><td>1.1253882294802928</td><td>1.1448296848132031</td><td>1.3296750399402413</td><td>1.1</td><td>0.10571546589672931</td><td>0.13225376095756353</td><td>1.4916991224401337</td><td>1.199187001030529</td></tr>\n",
       "<tr><td>-999</td><td>3007825740</td><td>-9999.0</td><td>-9999.0</td><td>nan</td><td>nan</td><td>nan</td><td>nan</td><td>nan</td><td>nan</td><td>nan</td><td>nan</td><td>nan</td></tr>\n",
       "<tr><td>0</td><td>3007825741</td><td>-0.3458804781852995</td><td>-0.8582562267378256</td><td>0.0</td><td>1.7011487212816951</td><td>1.707580413967189</td><td>18.250247076419214</td><td>1.69</td><td>0.06679824049968064</td><td>0.08433142355939317</td><td>2.7375563687735474</td><td>1.679424380744105</td></tr>\n",
       "<tr><td>27</td><td>3007825742</td><td>0.7252602691592988</td><td>0.6394488945126897</td><td>3.0</td><td>0.5205978402465985</td><td>0.4933850080160066</td><td>0.8984133269614176</td><td>0.54</td><td>0.051618966840527136</td><td>0.08961329125754196</td><td>1.327558988249807</td><td>0.4483999125373314</td></tr>\n",
       "<tr><td>0</td><td>3007825743</td><td>0.04798363296142777</td><td>-0.15751114893393023</td><td>0.0</td><td>0.7581173882531212</td><td>0.7663845608564833</td><td>7.1800122975606655</td><td>0.77</td><td>0.06709741900835586</td><td>0.07170692747900025</td><td>1.3478543567883392</td><td>0.6842515468023642</td></tr>\n",
       "<tr><td>15</td><td>3007825744</td><td>-0.21488057127988305</td><td>-1.2586116959823124</td><td>1.6666666666666665</td><td>0.9263041353840054</td><td>0.9628493798941085</td><td>0.3287888709393769</td><td>0.85</td><td>0.1808643177650735</td><td>0.2330704206459537</td><td>0.5058619184796762</td><td>0.6104984912325317</td></tr>\n",
       "<tr><td>5</td><td>3007825745</td><td>2.0515732304151912</td><td>1.490275053383235</td><td>0.5555555555555556</td><td>0.7237060362467485</td><td>0.7217561076016299</td><td>0.017370651534065473</td><td>0.74</td><td>0.07021215734153663</td><td>0.06608050328312412</td><td>1.314694314191227</td><td>0.7477558565487331</td></tr>\n",
       "<tr><td>19</td><td>3007825746</td><td>0.17234656276413768</td><td>1.1723058467189156</td><td>2.111111111111111</td><td>1.0698524035721073</td><td>1.0858594236968515</td><td>0.2337819316916807</td><td>1.12</td><td>0.20365738447860215</td><td>0.2276165085534737</td><td>0.6946623862759298</td><td>1.130480303599848</td></tr>\n",
       "<tr><td>-999</td><td>3007825748</td><td>-9999.0</td><td>-9999.0</td><td>nan</td><td>nan</td><td>nan</td><td>nan</td><td>nan</td><td>nan</td><td>nan</td><td>nan</td><td>nan</td></tr>\n",
       "<tr><td>...</td><td>...</td><td>...</td><td>...</td><td>...</td><td>...</td><td>...</td><td>...</td><td>...</td><td>...</td><td>...</td><td>...</td><td>...</td></tr>\n",
       "<tr><td>46</td><td>3172249291</td><td>0.11972011779977504</td><td>-2.4205892981869725</td><td>5.0</td><td>0.6587733686451972</td><td>0.662518139627901</td><td>7.983252065428417</td><td>0.68</td><td>0.035834675540161676</td><td>0.06846234788794782</td><td>2.0398226234239196</td><td>0.6478692558029808</td></tr>\n",
       "<tr><td>10</td><td>3172249295</td><td>0.5476797374474248</td><td>0.19036251167084597</td><td>1.1111111111111112</td><td>0.8642136348265392</td><td>0.8681210479021368</td><td>2.8799921386726055</td><td>0.87</td><td>0.02807233307415674</td><td>0.026823860051101052</td><td>2.355560400837365</td><td>0.8677172524690333</td></tr>\n",
       "<tr><td>46</td><td>3172249297</td><td>0.3356496024204403</td><td>-0.12400982982287978</td><td>5.0</td><td>0.2949412135700892</td><td>0.33341677746645765</td><td>0.148429626890902</td><td>0.3</td><td>0.0036348034381100958</td><td>0.3015997118831915</td><td>4.956989567692579</td><td>0.05751197855520069</td></tr>\n",
       "<tr><td>-999</td><td>3172249299</td><td>-9999.0</td><td>-9999.0</td><td>nan</td><td>nan</td><td>nan</td><td>nan</td><td>nan</td><td>nan</td><td>nan</td><td>nan</td><td>nan</td></tr>\n",
       "<tr><td>20</td><td>3172249301</td><td>0.7728091407161893</td><td>0.7257863910433288</td><td>2.2222222222222223</td><td>0.6137661661513716</td><td>0.6199502388937048</td><td>1.868007371602289</td><td>0.61</td><td>0.027129079103355824</td><td>0.026447183226005092</td><td>2.080189657123154</td><td>0.5952380724311311</td></tr>\n",
       "<tr><td>0</td><td>3172249302</td><td>0.6586842856900914</td><td>0.6092389248846846</td><td>0.0</td><td>0.5546509219430434</td><td>0.5597593608964786</td><td>21.298031204349172</td><td>0.56</td><td>0.009209542848053365</td><td>0.009040968291354902</td><td>3.562155897588589</td><td>0.5547378234412224</td></tr>\n",
       "<tr><td>46</td><td>3172249303</td><td>0.42790531702078666</td><td>1.23485492868097</td><td>5.0</td><td>0.5339663073118429</td><td>0.5376231587957729</td><td>2.70105135507265</td><td>0.54</td><td>0.17137233791988582</td><td>0.48465800329283615</td><td>1.788761624336796</td><td>0.5990674309367842</td></tr>\n",
       "<tr><td>-999</td><td>3172249306</td><td>-9999.0</td><td>-9999.0</td><td>nan</td><td>nan</td><td>nan</td><td>nan</td><td>nan</td><td>nan</td><td>nan</td><td>nan</td><td>nan</td></tr>\n",
       "<tr><td>3</td><td>3172249307</td><td>1.8518560450782262</td><td>1.5216113618692586</td><td>0.3333333333333333</td><td>0.9738244012424451</td><td>0.9846377860860237</td><td>0.4717169972520878</td><td>0.98</td><td>0.05541431741126013</td><td>0.07317802909925183</td><td>1.6688947561709275</td><td>1.0182887944555288</td></tr>\n",
       "<tr><td>24</td><td>3172249309</td><td>-10.884825288453328</td><td>1.112289761049482</td><td>2.6666666666666665</td><td>0.461804271523773</td><td>0.6507190526983483</td><td>0.09711661441727415</td><td>0.42000000000000004</td><td>0.16336642201309834</td><td>0.703759372918973</td><td>1.0642245984503529</td><td>0.3110232799838321</td></tr>\n",
       "</table>"
      ],
      "text/plain": [
       "<Table length=136930995>\n",
       "template_id coadd_objects_id ...   kl_post_prior            z_mc       \n",
       "   int64         int64       ...      float64             float64      \n",
       "----------- ---------------- ... ------------------ -------------------\n",
       "         24       3007825738 ... 2.1855233372462246  0.6002927486379405\n",
       "         12       3007825739 ... 1.4916991224401337   1.199187001030529\n",
       "       -999       3007825740 ...                nan                 nan\n",
       "          0       3007825741 ... 2.7375563687735474   1.679424380744105\n",
       "         27       3007825742 ...  1.327558988249807  0.4483999125373314\n",
       "          0       3007825743 ... 1.3478543567883392  0.6842515468023642\n",
       "         15       3007825744 ... 0.5058619184796762  0.6104984912325317\n",
       "          5       3007825745 ...  1.314694314191227  0.7477558565487331\n",
       "         19       3007825746 ... 0.6946623862759298   1.130480303599848\n",
       "       -999       3007825748 ...                nan                 nan\n",
       "        ...              ... ...                ...                 ...\n",
       "         46       3172249291 ... 2.0398226234239196  0.6478692558029808\n",
       "         10       3172249295 ...  2.355560400837365  0.8677172524690333\n",
       "         46       3172249297 ...  4.956989567692579 0.05751197855520069\n",
       "       -999       3172249299 ...                nan                 nan\n",
       "         20       3172249301 ...  2.080189657123154  0.5952380724311311\n",
       "          0       3172249302 ...  3.562155897588589  0.5547378234412224\n",
       "         46       3172249303 ...  1.788761624336796  0.5990674309367842\n",
       "       -999       3172249306 ...                nan                 nan\n",
       "          3       3172249307 ... 1.6688947561709275  1.0182887944555288\n",
       "         24       3172249309 ... 1.0642245984503529  0.3110232799838321"
      ]
     },
     "execution_count": 5,
     "metadata": {},
     "output_type": "execute_result"
    }
   ],
   "source": [
    "BPZ_table"
   ]
  },
  {
   "cell_type": "code",
   "execution_count": 6,
   "metadata": {},
   "outputs": [],
   "source": [
    "BPZ_table=BPZ_table[['mean_z','coadd_objects_id']]"
   ]
  },
  {
   "cell_type": "code",
   "execution_count": 7,
   "metadata": {},
   "outputs": [],
   "source": [
    "BPZ_half=BPZ_table.to_pandas()\n",
    "BPZ_table=None"
   ]
  },
  {
   "cell_type": "code",
   "execution_count": 8,
   "metadata": {},
   "outputs": [],
   "source": [
    "mcal = fio.FITS('/lsst/troxel/y1a1/mcal-y1a1-combined-riz-unblind-v4-matched.fits',memmap=True,mode='r')[1]\n",
    "mcal_id=mcal['coadd_objects_id'][:] "
   ]
  },
  {
   "cell_type": "code",
   "execution_count": 9,
   "metadata": {},
   "outputs": [
    {
     "data": {
      "text/plain": [
       "\n",
       "  file: /lsst/troxel/y1a1/mcal-y1a1-combined-riz-unblind-v4-matched.fits\n",
       "  extension: 1\n",
       "  type: BINARY_TBL\n",
       "  rows: 136930995\n",
       "  column info:\n",
       "    coadd_objects_id\n",
       "                        i8  \n",
       "    flags               i4  \n",
       "    mask_frac           f8  \n",
       "    psf_e1              f8  \n",
       "    psf_e2              f8  \n",
       "    psf_size            f8  \n",
       "    mcal_psf_e1         f8  \n",
       "    mcal_psf_e2         f8  \n",
       "    mcal_psf_size       f8  \n",
       "    e1                  f8  \n",
       "    e1_1p               f8  \n",
       "    e1_1m               f8  \n",
       "    e1_2p               f8  \n",
       "    e1_2m               f8  \n",
       "    e2                  f8  \n",
       "    e2_1p               f8  \n",
       "    e2_1m               f8  \n",
       "    e2_2p               f8  \n",
       "    e2_2m               f8  \n",
       "    size                f8  \n",
       "    size_1p             f8  \n",
       "    size_1m             f8  \n",
       "    size_2p             f8  \n",
       "    size_2m             f8  \n",
       "    size_err            f8  \n",
       "    size_err_1p         f8  \n",
       "    size_err_1m         f8  \n",
       "    size_err_2p         f8  \n",
       "    size_err_2m         f8  \n",
       "    snr                 f8  \n",
       "    snr_1p              f8  \n",
       "    snr_1m              f8  \n",
       "    snr_2p              f8  \n",
       "    snr_2m              f8  \n",
       "    covmat_0_0          f8  \n",
       "    covmat_0_0_1p       f8  \n",
       "    covmat_0_0_1m       f8  \n",
       "    covmat_0_0_2p       f8  \n",
       "    covmat_0_0_2m       f8  \n",
       "    covmat_0_1          f8  \n",
       "    covmat_0_1_1p       f8  \n",
       "    covmat_0_1_1m       f8  \n",
       "    covmat_0_1_2p       f8  \n",
       "    covmat_0_1_2m       f8  \n",
       "    covmat_1_1          f8  \n",
       "    covmat_1_1_1p       f8  \n",
       "    covmat_1_1_1m       f8  \n",
       "    covmat_1_1_2p       f8  \n",
       "    covmat_1_1_2m       f8  \n",
       "    flux_r              f8  \n",
       "    flux_r_1p           f8  \n",
       "    flux_r_1m           f8  \n",
       "    flux_r_2p           f8  \n",
       "    flux_r_2m           f8  \n",
       "    flux_err_r          f8  \n",
       "    flux_i              f8  \n",
       "    flux_i_1p           f8  \n",
       "    flux_i_1m           f8  \n",
       "    flux_i_2p           f8  \n",
       "    flux_i_2m           f8  \n",
       "    flux_err_i          f8  \n",
       "    flux_z              f8  \n",
       "    flux_z_1p           f8  \n",
       "    flux_z_1m           f8  \n",
       "    flux_z_2p           f8  \n",
       "    flux_z_2m           f8  \n",
       "    flux_err_z          f8  \n",
       "    R11                 f8  \n",
       "    R12                 f8  \n",
       "    R21                 f8  \n",
       "    R22                 f8  \n",
       "    region              i2  \n",
       "    ra                  f8  \n",
       "    dec                 f8  \n",
       "    tilename           S12  \n",
       "    flags_select        i4  \n",
       "    flags_select_1p     i4  \n",
       "    flags_select_1m     i4  \n",
       "    flags_select_2p     i4  \n",
       "    flags_select_2m     i4  "
      ]
     },
     "execution_count": 9,
     "metadata": {},
     "output_type": "execute_result"
    }
   ],
   "source": [
    "mcal"
   ]
  },
  {
   "cell_type": "code",
   "execution_count": 10,
   "metadata": {},
   "outputs": [],
   "source": [
    "BPZ_half.set_index(\"coadd_objects_id\",inplace=True)"
   ]
  },
  {
   "cell_type": "code",
   "execution_count": 11,
   "metadata": {},
   "outputs": [],
   "source": [
    "BPZ_id=BPZ_half.index.to_numpy()\n",
    "shapes_id=shapes.index.to_numpy()"
   ]
  },
  {
   "cell_type": "code",
   "execution_count": 12,
   "metadata": {},
   "outputs": [],
   "source": [
    "i_mcal,i_BPZ=sort2n(mcal_id,BPZ_id)"
   ]
  },
  {
   "cell_type": "code",
   "execution_count": 13,
   "metadata": {},
   "outputs": [],
   "source": [
    "mcal_half=pd.DataFrame(mcal.read(rows=[i_mcal],columns=['coadd_objects_id','ra','dec','e1','e2','flags_select']).byteswap().newbyteorder())\n",
    "mcal_columns=mcal_half.columns\n",
    "mcal_product_col=pd.MultiIndex.from_product([['All'],mcal_columns],names=['Band','Data'])\n",
    "mcal_half.columns=mcal_product_col\n",
    "mcal_half[('All','RA')]=mcal_half[('All','ra')]\n",
    "mcal_half[('All','DEC')]=mcal_half[('All','dec')]\n",
    "mcal_half.drop(columns=[('All','ra'),('All','dec')],inplace=True)\n",
    "mcal_half.set_index(('All','coadd_objects_id'),inplace=True)"
   ]
  },
  {
   "cell_type": "code",
   "execution_count": 14,
   "metadata": {},
   "outputs": [],
   "source": [
    "BPZ_columns=BPZ_half.columns.to_list()\n",
    "BPZ_product_col=pd.MultiIndex.from_product([['All'],BPZ_columns],names=['Band','Data'])\n",
    "BPZ_half.columns=BPZ_product_col"
   ]
  },
  {
   "cell_type": "code",
   "execution_count": 15,
   "metadata": {},
   "outputs": [],
   "source": [
    "drop_columns=[('All',column) for column in BPZ_columns if column!='mean_z']\n",
    "BPZ_half.drop(columns=drop_columns,inplace=True)"
   ]
  },
  {
   "cell_type": "code",
   "execution_count": 16,
   "metadata": {},
   "outputs": [],
   "source": [
    "assert len(BPZ_half)==len(mcal_half)"
   ]
  },
  {
   "cell_type": "code",
   "execution_count": 17,
   "metadata": {},
   "outputs": [],
   "source": [
    "mcal_half.sort_index(inplace=True)\n",
    "BPZ_half.sort_index(inplace=True)"
   ]
  },
  {
   "cell_type": "code",
   "execution_count": 18,
   "metadata": {},
   "outputs": [],
   "source": [
    "assert np.all(mcal_half.index==BPZ_half.index)\n",
    "mcal_half[('All','mean_z')]=BPZ_half[('All','mean_z')]"
   ]
  },
  {
   "cell_type": "code",
   "execution_count": 19,
   "metadata": {},
   "outputs": [],
   "source": [
    "BPZ=mcal_half\n",
    "BPZ.index.name=\"ID\""
   ]
  },
  {
   "cell_type": "code",
   "execution_count": 20,
   "metadata": {},
   "outputs": [],
   "source": [
    "BPZ_half=None\n",
    "mcal_half=None"
   ]
  },
  {
   "cell_type": "markdown",
   "metadata": {},
   "source": [
    "# BPZ&shape"
   ]
  },
  {
   "cell_type": "code",
   "execution_count": 21,
   "metadata": {},
   "outputs": [],
   "source": [
    "i_BPZ,i_shapes=sort2n(BPZ_id,shapes_id)"
   ]
  },
  {
   "cell_type": "code",
   "execution_count": 22,
   "metadata": {},
   "outputs": [
    {
     "name": "stdout",
     "output_type": "stream",
     "text": [
      "Help on function sort2n in module __main__:\n",
      "\n",
      "sort2n(x, y)\n",
      "    Sorts and matches two arrays of object ids where x is unique and y is not (in DES this is coadd_objects_id).\n",
      "    Slower than sort2().\n",
      "\n"
     ]
    }
   ],
   "source": [
    "help(sort2n)"
   ]
  },
  {
   "cell_type": "code",
   "execution_count": 23,
   "metadata": {},
   "outputs": [],
   "source": [
    "BPZ_half=BPZ.iloc[i_BPZ]"
   ]
  },
  {
   "cell_type": "code",
   "execution_count": 24,
   "metadata": {},
   "outputs": [
    {
     "name": "stderr",
     "output_type": "stream",
     "text": [
      "/cvmfs/sw.lsst.eu/linux-x86_64/lsst_distrib/w_2019_23/python/miniconda3-4.5.12/envs/lsst-scipipe-1172c30/lib/python3.7/site-packages/pandas/core/frame.py:3940: SettingWithCopyWarning: \n",
      "A value is trying to be set on a copy of a slice from a DataFrame\n",
      "\n",
      "See the caveats in the documentation: http://pandas.pydata.org/pandas-docs/stable/indexing.html#indexing-view-versus-copy\n",
      "  errors=errors)\n"
     ]
    }
   ],
   "source": [
    "BPZ_half.drop([('All',           'RA'),\n",
    "            ('All',          'DEC'),\n",
    "            ('All',           'e1'),\n",
    "            ('All',           'e2'),\n",
    "            ('All', 'flags_select')],inplace=True,axis=1)"
   ]
  },
  {
   "cell_type": "code",
   "execution_count": 25,
   "metadata": {},
   "outputs": [],
   "source": [
    "shape_BPZ=pd.concat([shapes,BPZ_half],axis=1,verify_integrity=True)"
   ]
  },
  {
   "cell_type": "code",
   "execution_count": 26,
   "metadata": {},
   "outputs": [],
   "source": [
    "# This looks like a suspicious criterion to select memebers\n",
    "\n",
    "members=shape_BPZ[(shape_BPZ[('All','Z')]-shape_BPZ[('All','mean_z')])<=-0.1]"
   ]
  },
  {
   "cell_type": "code",
   "execution_count": 27,
   "metadata": {},
   "outputs": [
    {
     "data": {
      "text/plain": [
       "MultiIndex(levels=[['All', 'g', 'i', 'r', 'z'], ['CHISQ', 'DEC', 'EBV', 'MEM_MATCH_ID', 'MODEL_MAG', 'MODEL_MAGERR', 'P', 'PFREE', 'PP', 'R', 'R11', 'R12', 'R21', 'R22', 'RA', 'REFMAG', 'REFMAG_ERR', 'REFMAG_FIT', 'REFMAG_FIT_E', 'R_LAMBDA', 'THETA_I', 'THETA_R', 'Theta_cen', 'Theta_sat', 'Z', 'ZMAG', 'ZMAG_ERR', 'ZRED', 'ZRED2', 'ZRED2_E', 'ZRED_E', 'ZSPEC', 'alpha', 'angR', 'covmat_0_0', 'covmat_0_0_1m', 'covmat_0_0_1p', 'covmat_0_0_2m', 'covmat_0_0_2p', 'covmat_0_1', 'covmat_0_1_1m', 'covmat_0_1_1p', 'covmat_0_1_2m', 'covmat_0_1_2p', 'covmat_1_1', 'covmat_1_1_1m', 'covmat_1_1_1p', 'covmat_1_1_2m', 'covmat_1_1_2p', 'dec', 'e', 'e1', 'e1_1m', 'e1_1p', 'e1_2m', 'e1_2p', 'e2', 'e2_1m', 'e2_1p', 'e2_2m', 'e2_2p', 'ep', 'ex', 'flags', 'flags_select', 'flags_select_1m', 'flags_select_1p', 'flags_select_2m', 'flags_select_2p', 'flux_err_i', 'flux_err_r', 'flux_err_z', 'flux_i', 'flux_i_1m', 'flux_i_1p', 'flux_i_2m', 'flux_i_2p', 'flux_r', 'flux_r_1m', 'flux_r_1p', 'flux_r_2m', 'flux_r_2p', 'flux_z', 'flux_z_1m', 'flux_z_1p', 'flux_z_2m', 'flux_z_2p', 'mask_frac', 'mcal_psf_e1', 'mcal_psf_e2', 'mcal_psf_size', 'mean_z', 'normLR', 'phi', 'preprocessed_e', 'psf_e1', 'psf_e2', 'psf_size', 'ra', 'region', 'size', 'size_1m', 'size_1p', 'size_2m', 'size_2p', 'size_err', 'size_err_1m', 'size_err_1p', 'size_err_2m', 'size_err_2p', 'snr', 'snr_1m', 'snr_1p', 'snr_2m', 'snr_2p', 'tilename']],\n",
       "           codes=[[0, 0, 0, 0, 0, 0, 0, 0, 0, 0, 0, 0, 0, 0, 0, 0, 0, 0, 0, 0, 0, 0, 1, 1, 3, 3, 2, 2, 4, 4, 0, 0, 0, 0, 0, 0, 0, 0, 0, 0, 0, 0, 0, 0, 0, 0, 0, 0, 0, 0, 0, 0, 0, 0, 0, 0, 0, 0, 0, 0, 0, 0, 0, 0, 0, 0, 0, 0, 0, 0, 0, 0, 0, 0, 0, 0, 0, 0, 0, 0, 0, 0, 0, 0, 0, 0, 0, 0, 0, 0, 0, 0, 0, 0, 0, 0, 0, 0, 0, 0, 0, 0, 0, 0, 0, 0, 0, 0, 0, 0, 0, 0, 0, 0, 0, 0, 0, 0, 0, 0, 0, 0], [3, 24, 14, 1, 9, 6, 7, 20, 21, 17, 18, 15, 16, 27, 30, 28, 29, 0, 2, 31, 25, 26, 4, 5, 4, 5, 4, 5, 4, 5, 63, 87, 95, 96, 97, 88, 89, 90, 51, 53, 52, 55, 54, 56, 58, 57, 60, 59, 100, 102, 101, 104, 103, 105, 107, 106, 109, 108, 110, 112, 111, 114, 113, 34, 36, 35, 38, 37, 39, 41, 40, 43, 42, 44, 46, 45, 48, 47, 77, 79, 78, 81, 80, 70, 72, 74, 73, 76, 75, 69, 82, 84, 83, 86, 85, 71, 10, 11, 12, 13, 99, 98, 49, 115, 64, 66, 65, 68, 67, 8, 22, 23, 32, 93, 33, 94, 50, 61, 62, 92, 19, 91]],\n",
       "           names=['Band', 'Data'])"
      ]
     },
     "execution_count": 27,
     "metadata": {},
     "output_type": "execute_result"
    }
   ],
   "source": [
    "shape_BPZ.columns"
   ]
  },
  {
   "cell_type": "code",
   "execution_count": 28,
   "metadata": {},
   "outputs": [
    {
     "data": {
      "text/plain": [
       "0.00023640374482052074"
      ]
     },
     "execution_count": 28,
     "metadata": {},
     "output_type": "execute_result"
    }
   ],
   "source": [
    "len(members)/len(BPZ)"
   ]
  },
  {
   "cell_type": "code",
   "execution_count": 29,
   "metadata": {},
   "outputs": [
    {
     "data": {
      "text/plain": [
       "<matplotlib.legend.Legend at 0x7f33aeaa3da0>"
      ]
     },
     "execution_count": 29,
     "metadata": {},
     "output_type": "execute_result"
    },
    {
     "data": {
      "image/png": "[encoded data removed]",
      "text/plain": [
       "<Figure size 432x288 with 1 Axes>"
      ]
     },
     "metadata": {
      "needs_background": "light"
     },
     "output_type": "display_data"
    }
   ],
   "source": [
    "BINS=np.arange(0,2,0.1)\n",
    "plt.hist(shape_BPZ[('All','Z')],histtype=\"step\",label=\"redmapper\",bins=BINS)\n",
    "plt.hist(shape_BPZ[('All','mean_z')],histtype=\"step\",label=\"BPZ\",bins=BINS)\n",
    "plt.legend()"
   ]
  },
  {
   "cell_type": "code",
   "execution_count": 30,
   "metadata": {},
   "outputs": [
    {
     "data": {
      "text/plain": [
       "Text(0, 0.5, 'BPZ')"
      ]
     },
     "execution_count": 30,
     "metadata": {},
     "output_type": "execute_result"
    },
    {
     "data": {
      "image/png": "[encoded data removed]",
      "text/plain": [
       "<Figure size 432x288 with 1 Axes>"
      ]
     },
     "metadata": {
      "needs_background": "light"
     },
     "output_type": "display_data"
    }
   ],
   "source": [
    "plt.scatter(shape_BPZ[('All','Z')],shape_BPZ[('All','mean_z')],s=1,)\n",
    "# plt.axis('equal')\n",
    "plt.xlim(0,3)\n",
    "plt.ylim(0,3)\n",
    "plt.xlabel(\"red_z\")\n",
    "plt.ylabel(\"BPZ\")"
   ]
  },
  {
   "cell_type": "code",
   "execution_count": 31,
   "metadata": {},
   "outputs": [
    {
     "data": {
      "text/plain": [
       "105029"
      ]
     },
     "execution_count": 31,
     "metadata": {},
     "output_type": "execute_result"
    }
   ],
   "source": [
    "len(shape_BPZ[('All','mean_z')])"
   ]
  },
  {
   "cell_type": "code",
   "execution_count": 32,
   "metadata": {},
   "outputs": [
    {
     "data": {
      "text/plain": [
       "count    105029.000000\n",
       "mean          0.470596\n",
       "std           0.118353\n",
       "min           0.069967\n",
       "25%           0.391294\n",
       "50%           0.479863\n",
       "75%           0.560855\n",
       "max           0.947782\n",
       "Name: (All, ZRED2), dtype: float64"
      ]
     },
     "execution_count": 32,
     "metadata": {},
     "output_type": "execute_result"
    }
   ],
   "source": [
    "shapes[('All','ZRED2')].describe()"
   ]
  },
  {
   "cell_type": "markdown",
   "metadata": {},
   "source": [
    "# Masking &saving"
   ]
  },
  {
   "cell_type": "code",
   "execution_count": 33,
   "metadata": {},
   "outputs": [],
   "source": [
    "BPZ=BPZ[BPZ['All','flags_select']==0]\n",
    "BPZ.dropna(axis=0,how='any',inplace=True)"
   ]
  },
  {
   "cell_type": "code",
   "execution_count": 34,
   "metadata": {},
   "outputs": [
    {
     "data": {
      "text/plain": [
       "False"
      ]
     },
     "execution_count": 34,
     "metadata": {},
     "output_type": "execute_result"
    }
   ],
   "source": [
    "np.any(np.isnan(BPZ[('All','mean_z')]))"
   ]
  },
  {
   "cell_type": "code",
   "execution_count": 35,
   "metadata": {
    "papermill": {
     "duration": null,
     "end_time": null,
     "exception": null,
     "start_time": null,
     "status": "completed"
    },
    "tags": []
   },
   "outputs": [],
   "source": [
    "H0=100 #km s-1 Mpc-1\n",
    "Om0=0.3\n",
    "Ode0=0.7\n",
    "lcdm=astropy.cosmology.FlatLambdaCDM(H0, Om0)"
   ]
  },
  {
   "cell_type": "code",
   "execution_count": 36,
   "metadata": {
    "papermill": {
     "duration": null,
     "end_time": null,
     "exception": null,
     "start_time": null,
     "status": "completed"
    },
    "tags": []
   },
   "outputs": [
    {
     "data": {
      "application/vnd.jupyter.widget-view+json": {
       "model_id": "73909923c7d8472b8b63d910a2eb1b5c",
       "version_major": 2,
       "version_minor": 0
      },
      "text/plain": [
       "HBox(children=(FloatProgress(value=0.0, max=34714036.0), HTML(value='')))"
      ]
     },
     "metadata": {},
     "output_type": "display_data"
    },
    {
     "name": "stdout",
     "output_type": "stream",
     "text": [
      "\n"
     ]
    }
   ],
   "source": [
    "BPZ[('All','angR')]=BPZ.progress_apply(lambda x:np.float(lcdm.angular_diameter_distance(x[('All','mean_z')])/u.Mpc),axis=1)"
   ]
  },
  {
   "cell_type": "code",
   "execution_count": 37,
   "metadata": {},
   "outputs": [],
   "source": [
    "shape_BPZ.to_pickle(\"/home/adt35/des_y1_catalog/sa-master/data/shape_BPZ.pkl\")\n",
    "BPZ.to_pickle(\"/home/adt35/des_y1_catalog/sa-master/data/BPZ.pkl\")"
   ]
  },
  {
   "cell_type": "code",
   "execution_count": null,
   "metadata": {},
   "outputs": [],
   "source": []
  }
 ],
 "metadata": {
  "kernelspec": {
   "display_name": "Python 3",
   "language": "python",
   "name": "python3"
  },
  "language_info": {
   "codemirror_mode": {
    "name": "ipython",
    "version": 3
   },
   "file_extension": ".py",
   "mimetype": "text/x-python",
   "name": "python",
   "nbconvert_exporter": "python",
   "pygments_lexer": "ipython3",
   "version": "3.7.2"
  }
 },
 "nbformat": 4,
 "nbformat_minor": 4
}
