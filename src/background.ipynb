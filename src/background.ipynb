{
 "cells": [
  {
   "cell_type": "code",
   "execution_count": 1,
   "metadata": {
    "tags": [
     "parameters"
    ]
   },
   "outputs": [],
   "source": [
    "shape_cat=\"mcal\"\n",
    "vol=\"vlim\"\n",
    "z_range=\"all_z\"\n",
    "\n",
    "lambda_range=0\n",
    "with_r=True"
   ]
  },
  {
   "cell_type": "code",
   "execution_count": 2,
   "metadata": {},
   "outputs": [],
   "source": [
    "from astropy.io import fits\n",
    "from astropy.table import Table\n",
    "import pandas as pd\n",
    "import fitsio as fio\n",
    "import numpy as np\n",
    "import ast\n",
    "import gc\n",
    "\n",
    "import astropy.cosmology\n",
    "from astropy.coordinates import SkyCoord  # High-level coordinates\n",
    "from astropy.coordinates import ICRS, Galactic, FK4, FK5  # Low-level frames\n",
    "from astropy.coordinates import Angle, Latitude, Longitude  # Angles\n",
    "import astropy.units as u\n",
    "from IPython.display import display, Math\n",
    "from tqdm.notebook import tqdm\n",
    "tqdm.pandas()"
   ]
  },
  {
   "cell_type": "code",
   "execution_count": 3,
   "metadata": {},
   "outputs": [],
   "source": [
    "#This header file contains all the common packages\n",
    "%matplotlib inline\n",
    "%run -i /home/adt35/des_y1_catalog/sa-master/lib/src/header.py $shape_cat $vol $z_range \n",
    "%run -i /home/adt35/des_y1_catalog/sa-master/lib/src/func.py  \n",
    "%run -i /home/adt35/des_y1_catalog/sa-master/lib/src/corr_func.py\n",
    "\n",
    "members= pd.read_pickle(\"/home/adt35/des_y1_catalog/sa-master/data/BPZ.pkl\") #load BPZ catalog\n",
    "red_members=pd.read_pickle(\"/home/adt35/des_y1_catalog/sa-master/data/shape_BPZ.pkl\")\n",
    "red_members_index=red_members.index\n",
    "red_members=None\n",
    "\n",
    "#uber=pd.read_pickle('/home/adt35/des_y1_catalog/sa-master/data/{}/{}/shapes{}.pkl'.format(\"mcal\",\"uber\",\"\"))\n",
    "vlim=pd.read_pickle('/home/adt35/des_y1_catalog/sa-master/data/{}/{}/shapes{}.pkl'.format(\"mcal\",\"vlim\",\"\"))"
   ]
  },
  {
   "cell_type": "code",
   "execution_count": null,
   "metadata": {},
   "outputs": [],
   "source": []
  },
  {
   "cell_type": "markdown",
   "metadata": {},
   "source": [
    "# foreground background"
   ]
  },
  {
   "cell_type": "code",
   "execution_count": null,
   "metadata": {},
   "outputs": [],
   "source": [
    "def get_ng_source(_clusters,_sources,_shapes,z_lower=z_bins[0],z_upper=z_bins[-1],lambda_lower=lambda_bins[0],lambda_upper=lambda_bins[-1],foreback=False,woRed=False,multi=True):\n",
    "#     print(len(_clusters))\n",
    "\n",
    "#     print(_clusters)\n",
    "    \n",
    "    if multi==False:\n",
    "        assert len(_clusters)==1\n",
    "        clusters_masked=_clusters\n",
    "    else:\n",
    "        assert len(_clusters)!=1\n",
    "        clusters_z_mask=(_clusters[('All','All','Z_LAMBDA')]>=z_lower)&(_clusters[('All','All','Z_LAMBDA')]<=z_upper)\n",
    "        clusters_lambda_mask=(_clusters[('All','All','LAMBDA_CHISQ')]>=lambda_lower)&(_clusters[('All','All','LAMBDA_CHISQ')]<=lambda_upper)\n",
    "        combined_mask=clusters_z_mask&clusters_lambda_mask\n",
    "        clusters_masked=_clusters[combined_mask]\n",
    "        \n",
    "        \n",
    "    \n",
    "    \n",
    "    if woRed==True:\n",
    "        _sources=_sources[woRedMask]\n",
    "        \n",
    "        \n",
    "        \n",
    "    center_id=clusters_masked[('Alt','Alt1','ID_CENT')]\n",
    "    centers=_shapes.loc[center_id]\n",
    "    \n",
    "#     print(center_id)\n",
    "#     print(centers)\n",
    "    \n",
    "    \n",
    "    \n",
    "    \n",
    "    assert ~np.any(np.isnan(centers[('All','RA')]))\n",
    "    \n",
    "#     print(\"The number of clusters is {}\".format(len(clusters_masked)))\n",
    "#     print(\"The number of sources is {}\".format(len(sources)))\n",
    "    \n",
    "    \n",
    "    UPPER_BOUND=10\n",
    "    distance=('All','angR')\n",
    "\n",
    "\n",
    "#     if mode1 == \"s\":\n",
    "#         def get_cluster_cen(cluster):\n",
    "#             return (get_unique_center_for_cluster(cluster))\n",
    "#         def get_cluster_sats(cluster):\n",
    "#             cen_mat_id=cluster.name\n",
    "#             cen_id=cluster[('Alt','Alt1','ID_CENT')]\n",
    "            \n",
    "\n",
    "            \n",
    "#             if source==True:\n",
    "#                 sats=members\n",
    "                \n",
    "#             else: \n",
    "#                 sats=members[members['All','MEM_MATCH_ID']==cen_mat_id]\n",
    "                         \n",
    "#             sats=sats[sats.index!=cen_id]\n",
    "#             return (sats)\n",
    "#     elif mode1=='r':\n",
    "#         def get_cluster_sats(cluster):\n",
    "#             return(shapes)\n",
    "#         def get_cluster_cen(cluster):\n",
    "#             return (random)\n",
    "\n",
    "#     else:\n",
    "#         raise\n",
    "\n",
    "\n",
    "    cen=centers\n",
    "    sats=sources\n",
    "    \n",
    "    if foreback==\"back\":\n",
    "        sats=sats[(sats[('All','mean_z')]-z_upper)>=0.1]\n",
    "        print(\"The number of background sources is {}\".format(len(sats)))\n",
    "    elif foreback==\"fore\":\n",
    "        sats=sats[(z_lower-sats[('All','mean_z')])>=0.1]\n",
    "        print(\"Calculating foreground sources\")\n",
    "        print(sats[('All','mean_z')].mean())\n",
    "        print(\"The number of foreground sources is {}\".format(len(sats)))\n",
    "\n",
    "    sats_e1=sats[('All','e1')].to_numpy()\n",
    "    sats_e2=sats[('All','e2')].to_numpy()\n",
    "    sats_angr=sats[distance]\n",
    "    \n",
    "\n",
    "#     print(sats_e1,sats_e2)\n",
    "\n",
    "    if type(cen[('All','RA')])==np.float64:\n",
    "        cen_angr=np.array(cen[distance]).reshape(1)\n",
    "        cen_ra=np.array(cen[('All','RA')]).reshape(1)\n",
    "        cen_dec=np.array(cen[('All','DEC')]).reshape(1)\n",
    "    else:\n",
    "#         cen_e1=cen[('All','e1')].to_numpy\n",
    "#         cen_e2=cen[('All','e2')].to_numpy()\n",
    "        cen_angr=cen[distance].to_numpy()\n",
    "        cen_ra=cen[('All','RA')].to_numpy()\n",
    "        cen_dec=cen[('All','DEC')].to_numpy()\n",
    "        \n",
    "\n",
    "\n",
    "\n",
    "\n",
    "#     print(cen_e1,cen_e2)\n",
    "\n",
    "    sats_ra=sats[('All','RA')].to_numpy()\n",
    "    sats_dec=sats[('All','DEC')].to_numpy()\n",
    "\n",
    "\n",
    "\n",
    "\n",
    "#     print(np.shape(cen_ra),np.shape(cen_dec))    \n",
    "#     print(cen_ra,cen_dec)    \n",
    "\n",
    "    sats_cat = treecorr.Catalog( g1 = sats_e1, g2   = sats_e2, \n",
    "                                 ra = sats_ra, dec = sats_dec,r=sats_angr,\n",
    "                                 ra_units='deg', dec_units='deg')\n",
    "\n",
    "    cen_cat = treecorr.Catalog( \n",
    "                                 ra = cen_ra, dec = cen_dec, r=cen_angr,\n",
    "                                 ra_units='deg', dec_units='deg')\n",
    "    \n",
    "    MINSEP=0.1\n",
    "    BINSLOP=0.1\n",
    "        \n",
    "\n",
    "    ng = treecorr.NGCorrelation(nbins=NBINS, min_sep=MINSEP, max_sep=UPPER_BOUND, bin_slop=BINSLOP,\n",
    "                               metric=\"Rperp\")\n",
    "    \n",
    "\n",
    "    ng.process(cen_cat,sats_cat)\n",
    "\n",
    "    return(ng)"
   ]
  },
  {
   "cell_type": "code",
   "execution_count": 4,
   "metadata": {},
   "outputs": [
    {
     "data": {
      "application/vnd.jupyter.widget-view+json": {
       "model_id": "1e58f5d37c33459cb47212aaf894e7e0",
       "version_major": 2,
       "version_minor": 0
      },
      "text/plain": [
       "HBox(children=(FloatProgress(value=0.0, max=3.0), HTML(value='')))"
      ]
     },
     "metadata": {},
     "output_type": "display_data"
    },
    {
     "data": {
      "application/vnd.jupyter.widget-view+json": {
       "model_id": "9b53080d258f41b2a1787050786d3367",
       "version_major": 2,
       "version_minor": 0
      },
      "text/plain": [
       "HBox(children=(FloatProgress(value=0.0, max=4.0), HTML(value='')))"
      ]
     },
     "metadata": {},
     "output_type": "display_data"
    },
    {
     "name": "stdout",
     "output_type": "stream",
     "text": [
      "\n",
      "\n"
     ]
    },
    {
     "ename": "NameError",
     "evalue": "name 'z_bins' is not defined",
     "output_type": "error",
     "traceback": [
      "\u001b[0;31m---------------------------------------------------------------------------\u001b[0m",
      "\u001b[0;31mNameError\u001b[0m                                 Traceback (most recent call last)",
      "\u001b[0;32m~/des_y1_catalog/sa-master/lib/src/corr_func.py\u001b[0m in \u001b[0;36m<module>\u001b[0;34m\u001b[0m\n\u001b[1;32m      3\u001b[0m \u001b[0;32mfor\u001b[0m \u001b[0mi\u001b[0m \u001b[0;32min\u001b[0m \u001b[0mtrange\u001b[0m\u001b[0;34m(\u001b[0m\u001b[0;36m3\u001b[0m\u001b[0;34m)\u001b[0m\u001b[0;34m:\u001b[0m\u001b[0;34m\u001b[0m\u001b[0;34m\u001b[0m\u001b[0m\n\u001b[1;32m      4\u001b[0m     \u001b[0;32mfor\u001b[0m \u001b[0mj\u001b[0m \u001b[0;32min\u001b[0m \u001b[0mtrange\u001b[0m\u001b[0;34m(\u001b[0m\u001b[0;36m4\u001b[0m\u001b[0;34m)\u001b[0m\u001b[0;34m:\u001b[0m\u001b[0;34m\u001b[0m\u001b[0;34m\u001b[0m\u001b[0m\n\u001b[0;32m----> 5\u001b[0;31m         \u001b[0mng\u001b[0m\u001b[0;34m=\u001b[0m\u001b[0mget_ng_source_ind\u001b[0m\u001b[0;34m(\u001b[0m\u001b[0mclusters\u001b[0m\u001b[0;34m,\u001b[0m\u001b[0mmembers\u001b[0m\u001b[0;34m,\u001b[0m\u001b[0mz_bins\u001b[0m\u001b[0;34m[\u001b[0m\u001b[0mi\u001b[0m\u001b[0;34m]\u001b[0m\u001b[0;34m,\u001b[0m\u001b[0mz_bins\u001b[0m\u001b[0;34m[\u001b[0m\u001b[0mi\u001b[0m\u001b[0;34m+\u001b[0m\u001b[0;36m1\u001b[0m\u001b[0;34m]\u001b[0m\u001b[0;34m,\u001b[0m\u001b[0mlambda_bins\u001b[0m\u001b[0;34m[\u001b[0m\u001b[0mj\u001b[0m\u001b[0;34m]\u001b[0m\u001b[0;34m,\u001b[0m\u001b[0mlambda_bins\u001b[0m\u001b[0;34m[\u001b[0m\u001b[0mj\u001b[0m\u001b[0;34m+\u001b[0m\u001b[0;36m1\u001b[0m\u001b[0;34m]\u001b[0m\u001b[0;34m,\u001b[0m\u001b[0mforeback\u001b[0m\u001b[0;34m=\u001b[0m\u001b[0;34m\"fore\"\u001b[0m\u001b[0;34m)\u001b[0m\u001b[0;34m\u001b[0m\u001b[0;34m\u001b[0m\u001b[0m\n\u001b[0m\u001b[1;32m      6\u001b[0m         \u001b[0mng_values\u001b[0m\u001b[0;34m=\u001b[0m\u001b[0mnp\u001b[0m\u001b[0;34m.\u001b[0m\u001b[0mcopy\u001b[0m\u001b[0;34m(\u001b[0m\u001b[0mnp\u001b[0m\u001b[0;34m.\u001b[0m\u001b[0marray\u001b[0m\u001b[0;34m(\u001b[0m\u001b[0;34m[\u001b[0m\u001b[0mng\u001b[0m\u001b[0;34m.\u001b[0m\u001b[0mmeanlogr\u001b[0m\u001b[0;34m,\u001b[0m\u001b[0mng\u001b[0m\u001b[0;34m.\u001b[0m\u001b[0mxi\u001b[0m\u001b[0;34m,\u001b[0m\u001b[0mng\u001b[0m\u001b[0;34m.\u001b[0m\u001b[0mvarxi\u001b[0m\u001b[0;34m]\u001b[0m\u001b[0;34m)\u001b[0m\u001b[0;34m)\u001b[0m\u001b[0;34m\u001b[0m\u001b[0;34m\u001b[0m\u001b[0m\n\u001b[1;32m      7\u001b[0m         \u001b[0mng_matrix_fore\u001b[0m\u001b[0;34m[\u001b[0m\u001b[0mi\u001b[0m\u001b[0;34m]\u001b[0m\u001b[0;34m[\u001b[0m\u001b[0mj\u001b[0m\u001b[0;34m]\u001b[0m\u001b[0;34m=\u001b[0m\u001b[0mng_values\u001b[0m\u001b[0;34m\u001b[0m\u001b[0;34m\u001b[0m\u001b[0m\n",
      "\u001b[0;31mNameError\u001b[0m: name 'z_bins' is not defined"
     ]
    }
   ],
   "source": [
    "ng_matrix_fore=[[None for i in range(4)] for j in range(3)]\n",
    "\n",
    "for i in trange(3):\n",
    "    for j in trange(4):\n",
    "        ng=get_ng_source(clusters,members,z_bins[i],z_bins[i+1],lambda_bins[j],lambda_bins[j+1],foreback=\"fore\")\n",
    "        ng_values=np.copy(np.array([ng.meanlogr,ng.xi,ng.varxi]))\n",
    "        ng_matrix_fore[i][j]=ng_values\n",
    "        del ng\n",
    "        gc.collect()"
   ]
  },
  {
   "cell_type": "code",
   "execution_count": null,
   "metadata": {},
   "outputs": [],
   "source": [
    "fig, axs = plt.subplots(3, 4,figsize=(20,15))\n",
    "for i in range(3):\n",
    "    for j in range(4):\n",
    "        values=ng_matrix_fore[i][j]\n",
    "        print((i,j),values[1])\n",
    "        axs[i,j].plot(np.exp(values[0]),values[1])\n",
    "        axs[i,j].set_xscale('log')\n",
    "        axs[i,j].set_yscale('log')"
   ]
  },
  {
   "cell_type": "code",
   "execution_count": null,
   "metadata": {},
   "outputs": [],
   "source": [
    "ng_matrix_back=[[None for i in range(4)] for j in range(3)]\n",
    "\n",
    "for i in trange(3):\n",
    "    for j in trange(4):\n",
    "        ng=get_ng_source(clusters,members,z_bins[i],z_bins[i+1],lambda_bins[j],lambda_bins[j+1],foreback=\"\")\n",
    "        ng_values=np.copy(np.array([ng.meanlogr,ng.xi,ng.varxi]))\n",
    "        ng_matrix_back[i][j]=ng_values\n",
    "        del ng\n",
    "        gc.collect()"
   ]
  },
  {
   "cell_type": "code",
   "execution_count": null,
   "metadata": {},
   "outputs": [],
   "source": [
    "fig, axs = plt.subplots(3, 4,figsize=(20,15))\n",
    "for i in range(3):\n",
    "    for j in range(4):\n",
    "        values=ng_matrix_fore[i][j]\n",
    "        print((i,j),values[0])\n",
    "        axs[i,j].plot(np.exp(values[0]),values[1])\n",
    "        axs[i,j].set_xscale('log')\n",
    "        axs[i,j].set_yscale('log')"
   ]
  },
  {
   "cell_type": "code",
   "execution_count": null,
   "metadata": {},
   "outputs": [],
   "source": []
  }
 ],
 "metadata": {
  "kernelspec": {
   "display_name": "Python 3",
   "language": "python",
   "name": "python3"
  },
  "language_info": {
   "codemirror_mode": {
    "name": "ipython",
    "version": 3
   },
   "file_extension": ".py",
   "mimetype": "text/x-python",
   "name": "python",
   "nbconvert_exporter": "python",
   "pygments_lexer": "ipython3",
   "version": "3.7.2"
  }
 },
 "nbformat": 4,
 "nbformat_minor": 4
}
