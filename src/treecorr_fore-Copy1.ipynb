{
 "cells": [
  {
   "cell_type": "code",
   "execution_count": 1,
   "metadata": {
    "tags": [
     "parameters"
    ]
   },
   "outputs": [],
   "source": [
    "shape_cat=\"\"\n",
    "vol=\"\"\n",
    "z_range=\"\"\n",
    "key=\"\"\n",
    "quantile=\"\"\n",
    "test=\"\"\n",
    "z_diff=\"\""
   ]
  },
  {
   "cell_type": "code",
   "execution_count": 2,
   "metadata": {},
   "outputs": [],
   "source": [
    "shape_cat=\"mcal\"\n",
    "vol=\"vlim\"\n",
    "z_range=\"all_z\""
   ]
  },
  {
   "cell_type": "code",
   "execution_count": 3,
   "metadata": {},
   "outputs": [],
   "source": [
    "#This header file contains all the common packages\n",
    "%matplotlib inline\n",
    "%run header.py $shape_cat $vol $z_range \n",
    "%run -i func.py  \n",
    "%run -i corr_func.py  "
   ]
  },
  {
   "cell_type": "code",
   "execution_count": 4,
   "metadata": {},
   "outputs": [
    {
     "name": "stdout",
     "output_type": "stream",
     "text": [
      "0.03805941343307495\n"
     ]
    }
   ],
   "source": [
    "dz = shapes[('All', 'ZRED2')] - shapes[('All', 'Z')]\n",
    "dz_std = dz.std()\n",
    "z_diff = 0.1\n",
    "print(dz_std)"
   ]
  },
  {
   "cell_type": "code",
   "execution_count": 5,
   "metadata": {
    "papermill": {
     "duration": 1.363795,
     "end_time": "2019-11-15T03:19:57.422495",
     "exception": false,
     "start_time": "2019-11-15T03:19:56.058700",
     "status": "completed"
    },
    "tags": []
   },
   "outputs": [],
   "source": [
    "if test==\"foreground\":\n",
    "    members=shapes[(shapes[('All','Z')]-shapes[('All','ZRED2')])>=z_diff]\n",
    "    diff=members[('All','Z')]-members[('All','ZRED2')]\n",
    "    diff.hist()\n",
    "    diff.describe()\n",
    "elif test==\"background\":\n",
    "    members=shapes[(shapes[('All','Z')]-shapes[('All','ZRED2')])<=-z_diff]\n",
    "    diff=members[('All','Z')]-members[('All','ZRED2')]\n",
    "    diff.hist()\n",
    "    diff.describe()\n",
    "elif test==\"\":\n",
    "    members=shapes\n",
    "else:\n",
    "    raise TypeError"
   ]
  },
  {
   "cell_type": "code",
   "execution_count": 6,
   "metadata": {},
   "outputs": [],
   "source": [
    "# if vol!=\"uber\":\n",
    "#     members=shapes"
   ]
  },
  {
   "cell_type": "code",
   "execution_count": 7,
   "metadata": {},
   "outputs": [],
   "source": [
    "if quantile!=\"\":\n",
    "    i=int(quantile)"
   ]
  },
  {
   "cell_type": "code",
   "execution_count": 8,
   "metadata": {},
   "outputs": [],
   "source": [
    "if key==\"lambda\":\n",
    "    key=('All','All','LAMBDA_CHISQ')\n",
    "elif key==\"z\":\n",
    "    key=('All','All','Z_LAMBDA')\n",
    "elif key==\"mag\":\n",
    "    key=('All','All','BCG_ZLUM')"
   ]
  },
  {
   "cell_type": "code",
   "execution_count": 9,
   "metadata": {},
   "outputs": [],
   "source": [
    "def thirds_by_key(catalog,key):\n",
    "    step0=catalog[key].quantile(0.0)\n",
    "    step1=catalog[key].quantile(0.333333)\n",
    "    step2=catalog[key].quantile(0.666666)\n",
    "    step3=catalog[key].quantile(1)\n",
    "    \n",
    "    catalog1=catalog[(catalog[key]>step0) & (catalog[key]<step1)]\n",
    "    catalog2=catalog[(catalog[key]>step1) & (catalog[key]<step2)]\n",
    "    catalog3=catalog[(catalog[key]>step2) & (catalog[key]<step3)]\n",
    "    \n",
    "    return (catalog1,catalog2,catalog3)"
   ]
  },
  {
   "cell_type": "code",
   "execution_count": 10,
   "metadata": {},
   "outputs": [],
   "source": [
    "if key!=\"\":\n",
    "    clusters_list=thirds_by_key(clusters,key)\n",
    "    clusters=clusters_list[i]"
   ]
  },
  {
   "cell_type": "code",
   "execution_count": 11,
   "metadata": {},
   "outputs": [],
   "source": [
    "sep=\"------------------------------------------------------------------------------\"\n",
    "np.set_printoptions(precision=4)"
   ]
  },
  {
   "cell_type": "code",
   "execution_count": 12,
   "metadata": {},
   "outputs": [],
   "source": [
    "NBINS=10"
   ]
  },
  {
   "cell_type": "code",
   "execution_count": 13,
   "metadata": {},
   "outputs": [],
   "source": [
    "import treecorr\n",
    "import astropy.cosmology\n",
    "from fastprogress import master_bar, progress_bar\n",
    "from ipywidgets import FloatProgress\n",
    "from IPython.display import display\n",
    "from tqdm import tqdm"
   ]
  },
  {
   "cell_type": "code",
   "execution_count": 14,
   "metadata": {},
   "outputs": [
    {
     "data": {
      "text/plain": [
       "105029"
      ]
     },
     "execution_count": 14,
     "metadata": {},
     "output_type": "execute_result"
    }
   ],
   "source": [
    "len(shapes)"
   ]
  },
  {
   "cell_type": "code",
   "execution_count": 15,
   "metadata": {},
   "outputs": [
    {
     "data": {
      "text/plain": [
       "105029"
      ]
     },
     "execution_count": 15,
     "metadata": {},
     "output_type": "execute_result"
    }
   ],
   "source": [
    "len(members)"
   ]
  },
  {
   "cell_type": "code",
   "execution_count": 16,
   "metadata": {},
   "outputs": [],
   "source": [
    "if key==\"\":\n",
    "    assert np.isin(shapes['All','MEM_MATCH_ID'].to_numpy(),clusters.index.to_numpy()).all()==True"
   ]
  },
  {
   "cell_type": "code",
   "execution_count": 17,
   "metadata": {},
   "outputs": [
    {
     "name": "stderr",
     "output_type": "stream",
     "text": [
      "4322it [09:03,  7.95it/s]\n",
      "2it [00:00, 17.83it/s]"
     ]
    },
    {
     "name": "stdout",
     "output_type": "stream",
     "text": [
      "Number of empty sat catalogs is 0\n"
     ]
    },
    {
     "name": "stderr",
     "output_type": "stream",
     "text": [
      "4322it [09:19,  7.72it/s]"
     ]
    },
    {
     "name": "stdout",
     "output_type": "stream",
     "text": [
      "Number of empty sat catalogs is 0\n"
     ]
    },
    {
     "name": "stderr",
     "output_type": "stream",
     "text": [
      "\n"
     ]
    }
   ],
   "source": [
    "ng_abs=get_ng_list('abs', 'f')\n",
    "ng_rel=get_ng_list('rel', 'f')"
   ]
  },
  {
   "cell_type": "code",
   "execution_count": 18,
   "metadata": {},
   "outputs": [],
   "source": [
    "try:\n",
    "    ng_r=get_xi_meanlogr_varxi_npairs(clusters,'r','abs')\n",
    "except ValueError as e:\n",
    "    print(e)\n",
    "    ng_r=np.array([[1],[1],[1],[1]])"
   ]
  },
  {
   "cell_type": "code",
   "execution_count": 19,
   "metadata": {},
   "outputs": [],
   "source": [
    "# ng_list=np.load(\"/global/project/projectdirs/des/zhou/sa/data/{}/ng_list_cross.npy\".format(dir_string))\n",
    "# ng_r=np.load(\"/global/project/projectdirs/des/zhou/sa/data/{}/ng_r_list_cross.npy\".format(dir_string))"
   ]
  },
  {
   "cell_type": "code",
   "execution_count": 20,
   "metadata": {},
   "outputs": [],
   "source": [
    "sum_abs=get_sum(ng_abs)\n",
    "mean_abs=get_mean(ng_abs)\n",
    "sig_abs=get_sigma(ng_abs)\n",
    "\n",
    "sum_rel=get_sum(ng_rel)\n",
    "mean_rel=get_mean(ng_rel)\n",
    "sig_rel=get_sigma(ng_rel)\n",
    "\n",
    "cov_rel=get_cov(ng_rel)"
   ]
  },
  {
   "cell_type": "code",
   "execution_count": 21,
   "metadata": {},
   "outputs": [],
   "source": [
    "r_xi=ng_r[0]/ng_r[3]\n",
    "r_meanlogr=ng_r[1]/ng_r[3]\n",
    "r_sigma=r_xi/np.sqrt(len(clusters))"
   ]
  },
  {
   "cell_type": "code",
   "execution_count": 22,
   "metadata": {},
   "outputs": [],
   "source": [
    "if key!=\"\":\n",
    "    np.savez(\"/home/adt35/des_y1_catalog/sa-master/data/2pt/{}_{}_{}_{}.npz\".format(shape_cat,vol,key,quantile),sum_abs=sum_abs,mean_abs=mean_abs,sig_abs=sig_abs,sum_rel=sum_rel,mean_rel=mean_rel,sig_rel=sig_rel,r_xi=r_xi,r_meanlogr=r_meanlogr,r_sigma=r_sigma)"
   ]
  },
  {
   "cell_type": "code",
   "execution_count": 23,
   "metadata": {},
   "outputs": [],
   "source": [
    "# matplotlib.rcParams.update({'font.size': 11}) # before plotting coode\n",
    "# plt.figure(figsize=(6.2,5))\n",
    "# ...\n",
    "# plt.tight_layout()\n",
    "# plt.subplots_adjust(hspace=0,wspace=0) # if doing multiple panels/subplots\n",
    "# plt.savefig('namee.pdf', bbox_inches='tight')\n",
    "\n",
    "def plt_w_error(meanlogr,xi,varxi,title):\n",
    "    matplotlib.rcParams.update({'font.size': 11}) \n",
    "    plt.figure(figsize=(6.2,5))\n",
    "    plt.errorbar(np.exp(meanlogr),xi,yerr=varxi,fmt='o')\n",
    "    plt.title(title)\n",
    "    plt.xscale('log')\n",
    "#     ax.set_ylim(-0.020,0.020)\n",
    "    \n",
    "    if title==r\"$\\gamma_+$ of Clusters, Normalized by R_LAMBDA\":\n",
    "        plt.savefig(\"/home/adt35/des_y1_catalog/sa-master/images/rel_{}_{}_{}.png\".format(shape_cat,vol,z_range))\n",
    "#     plt.xscale('log')\n",
    "#     plt.yscale('log')"
   ]
  },
  {
   "cell_type": "markdown",
   "metadata": {},
   "source": [
    "# Statistics"
   ]
  },
  {
   "cell_type": "code",
   "execution_count": 24,
   "metadata": {},
   "outputs": [],
   "source": [
    "def print_data(sum_,mean_):\n",
    "    sum_string=[\"Aggregated xi:\", \"Aggregated meanlogr:\",\"Aggregated npairs:\"]\n",
    "    for i,data in enumerate(sum_):\n",
    "        print(sum_string[i])\n",
    "        print(sum_[i])\n",
    "        print(sep)\n",
    "    mean_string=[\"Mean xi:\", \"Mean meanlogr:\",\"Mean npairs:\"]\n",
    "    for i,data in enumerate(mean_):\n",
    "        print(mean_string[i])\n",
    "        print(mean_[i])\n",
    "        print(sep)"
   ]
  },
  {
   "cell_type": "markdown",
   "metadata": {},
   "source": [
    "# Redshift distribution"
   ]
  },
  {
   "cell_type": "code",
   "execution_count": 25,
   "metadata": {},
   "outputs": [
    {
     "data": {
      "text/plain": [
       "ID\n",
       "3007825827    0.619567\n",
       "3007931336    0.408113\n",
       "3007938592    0.408113\n",
       "3007938814    0.408113\n",
       "3007938890    0.408113\n",
       "3007939007    0.408113\n",
       "3007939125    0.408113\n",
       "3007941517    0.408113\n",
       "3007941644    0.408113\n",
       "3007941684    0.408113\n",
       "3007941775    0.408113\n",
       "3007941915    0.408113\n",
       "3007941974    0.408113\n",
       "3007942055    0.408113\n",
       "3007944213    0.408113\n",
       "3007944262    0.408113\n",
       "3007944424    0.408113\n",
       "3007944442    0.408113\n",
       "3007944591    0.408113\n",
       "3007944816    0.408113\n",
       "3007944907    0.408113\n",
       "3007945120    0.408113\n",
       "3007945165    0.408113\n",
       "3007945179    0.408113\n",
       "3007947355    0.408113\n",
       "3007947497    0.408113\n",
       "3007947631    0.408113\n",
       "3007947742    0.408113\n",
       "3007947936    0.408113\n",
       "3007947996    0.408113\n",
       "                ...   \n",
       "3159867562    0.657482\n",
       "3159867613    0.657482\n",
       "3159868278    0.657482\n",
       "3159902051    0.392961\n",
       "3159902961    0.392961\n",
       "3159903152    0.392961\n",
       "3159903244    0.392961\n",
       "3159903463    0.392961\n",
       "3159904225    0.392961\n",
       "3159904377    0.392961\n",
       "3159904656    0.392961\n",
       "3159904704    0.392961\n",
       "3159905114    0.392961\n",
       "3159905259    0.392961\n",
       "3159905808    0.392961\n",
       "3159906099    0.392961\n",
       "3159906104    0.392961\n",
       "3159906323    0.392961\n",
       "3159906440    0.392961\n",
       "3159906650    0.392961\n",
       "3159906789    0.392961\n",
       "3159907402    0.392961\n",
       "3159907580    0.392961\n",
       "3159943467    0.385452\n",
       "3159943713    0.385452\n",
       "3159944414    0.385452\n",
       "3159944537    0.385452\n",
       "3159945177    0.385452\n",
       "3159945721    0.385452\n",
       "3159946033    0.385452\n",
       "Name: (All, Z), Length: 105029, dtype: float32"
      ]
     },
     "execution_count": 25,
     "metadata": {},
     "output_type": "execute_result"
    }
   ],
   "source": [
    "members[('All','Z')]"
   ]
  },
  {
   "cell_type": "code",
   "execution_count": 26,
   "metadata": {},
   "outputs": [
    {
     "data": {
      "image/png": "[encoded data removed]",
      "text/plain": [
       "<Figure size 1200x900 with 1 Axes>"
      ]
     },
     "metadata": {
      "needs_background": "light"
     },
     "output_type": "display_data"
    }
   ],
   "source": [
    "fig,ax=plt.subplots(figsize=(8,6),dpi=150)\n",
    "ax.hist(members[('All','ZRED2')],histtype='step')\n",
    "ax.set_xlabel(\"Redshift z\")\n",
    "ax.set_ylabel(\"Number of redMaPPer member galaxies\")\n",
    "ax.set_title(\"Redshift Distribution of redMaPPer member galaxies\")\n",
    "plt.savefig(\"/home/adt35/des_y1_catalog/sa-master/images/z_hist.pdf\")"
   ]
  },
  {
   "cell_type": "markdown",
   "metadata": {},
   "source": [
    "# Abs Plots"
   ]
  },
  {
   "cell_type": "code",
   "execution_count": 27,
   "metadata": {},
   "outputs": [
    {
     "name": "stdout",
     "output_type": "stream",
     "text": [
      "Aggregated xi:\n",
      "[-31.9287 -45.5413 -30.5534 -30.411  -19.831   12.4068  56.5369  53.9039\n",
      "  18.8562  11.8206]\n",
      "------------------------------------------------------------------------------\n",
      "Aggregated meanlogr:\n",
      "[ -3270.4744  -6237.2362  -8684.1673 -12299.6673 -17111.2203 -22085.9614\n",
      " -24873.4467 -22522.817  -12976.9775  -1283.4677]\n",
      "------------------------------------------------------------------------------\n",
      "Aggregated npairs:\n",
      "[  756.  1618.  2563.  4241.  7064. 11391. 17001. 22830. 25101. 10057.]\n",
      "------------------------------------------------------------------------------\n",
      "Mean xi:\n",
      "[-0.0422 -0.0281 -0.0119 -0.0072 -0.0028  0.0011  0.0033  0.0024  0.0008\n",
      "  0.0012]\n",
      "------------------------------------------------------------------------------\n",
      "Mean meanlogr:\n",
      "[-4.326  -3.8549 -3.3883 -2.9002 -2.4223 -1.9389 -1.4631 -0.9865 -0.517\n",
      " -0.1276]\n",
      "------------------------------------------------------------------------------\n"
     ]
    },
    {
     "data": {
      "image/png": "[encoded data removed]",
      "text/plain": [
       "<Figure size 446.4x360 with 1 Axes>"
      ]
     },
     "metadata": {
      "needs_background": "light"
     },
     "output_type": "display_data"
    }
   ],
   "source": [
    "plt_w_error(mean_abs[1],-mean_abs[0],sig_abs,r\"$\\gamma_+$ of Clusters On a Absolute Scale \")\n",
    "print_data(sum_abs,mean_abs)"
   ]
  },
  {
   "cell_type": "code",
   "execution_count": 28,
   "metadata": {},
   "outputs": [
    {
     "name": "stdout",
     "output_type": "stream",
     "text": [
      "[ 8.0614e-03 -4.0169e-03  8.0985e-04 -8.0003e-04 -1.1234e-03 -1.6914e-05\n",
      "  3.4635e-04 -8.3508e-05  1.5886e-04  6.9678e-05]\n",
      "[-1.2262e-04  6.1101e-05 -1.2319e-05  1.2169e-05  1.7087e-05  2.5728e-07\n",
      " -5.2684e-06  1.2702e-06 -2.4164e-06 -1.0599e-06]\n"
     ]
    },
    {
     "data": {
      "image/png": "[encoded data removed]",
      "text/plain": [
       "<Figure size 446.4x360 with 1 Axes>"
      ]
     },
     "metadata": {
      "needs_background": "light"
     },
     "output_type": "display_data"
    }
   ],
   "source": [
    "plt_w_error(r_meanlogr,-r_xi,r_sigma,r\"$\\gamma_+$ with Random Catalog\")\n",
    "print(-r_xi)\n",
    "print(r_sigma)"
   ]
  },
  {
   "cell_type": "code",
   "execution_count": 29,
   "metadata": {},
   "outputs": [
    {
     "data": {
      "image/png": "[encoded data removed]",
      "text/plain": [
       "<Figure size 446.4x360 with 1 Axes>"
      ]
     },
     "metadata": {
      "needs_background": "light"
     },
     "output_type": "display_data"
    }
   ],
   "source": [
    "plt_w_error(mean_abs[1],-(mean_abs[0]+r_xi),np.hypot(r_sigma,sig_abs),r\"$\\gamma_+$ of Clusters - $\\gamma_T$ with Random Catalog\")"
   ]
  },
  {
   "cell_type": "markdown",
   "metadata": {},
   "source": [
    "# Rel plots"
   ]
  },
  {
   "cell_type": "code",
   "execution_count": 30,
   "metadata": {},
   "outputs": [
    {
     "name": "stdout",
     "output_type": "stream",
     "text": [
      "Aggregated xi:\n",
      "[-21.1173 -40.8097 -40.1438 -24.6775 -42.0851  12.9622  18.4487  41.9417\n",
      "  29.0067  43.7416]\n",
      "------------------------------------------------------------------------------\n",
      "Aggregated meanlogr:\n",
      "[ -1789.9361  -4336.6956  -7163.3725  -9536.5457 -13278.8433 -17579.1658\n",
      " -20700.9518 -20040.472  -13281.9982  -2004.5663]\n",
      "------------------------------------------------------------------------------\n",
      "Aggregated npairs:\n",
      "[  416.  1124.  2111.  3281.  5466.  9008. 14028. 19968. 24992. 20981.]\n",
      "------------------------------------------------------------------------------\n",
      "Mean xi:\n",
      "[-0.0508 -0.0363 -0.019  -0.0075 -0.0077  0.0014  0.0013  0.0021  0.0012\n",
      "  0.0021]\n",
      "------------------------------------------------------------------------------\n",
      "Mean meanlogr:\n",
      "[-4.3027 -3.8583 -3.3934 -2.9066 -2.4294 -1.9515 -1.4757 -1.0036 -0.5314\n",
      " -0.0955]\n",
      "------------------------------------------------------------------------------\n"
     ]
    },
    {
     "data": {
      "image/png": "[encoded data removed]",
      "text/plain": [
       "<Figure size 446.4x360 with 1 Axes>"
      ]
     },
     "metadata": {
      "needs_background": "light"
     },
     "output_type": "display_data"
    }
   ],
   "source": [
    "plt_w_error(mean_rel[1],-mean_rel[0],sig_rel,r\"-$\\gamma_T$ of Clusters, Normalized by R_LAMBDA\")\n",
    "plt.xlabel(\"Distance from BCG [R_LAMBDA]\")\n",
    "plt.ylabel(r\"-$\\gamma_T$\")\n",
    "plt.savefig(\"/home/adt35/des_y1_catalog/sa-master/images/gamma_T_rel.pdf\")\n",
    "print_data(sum_rel,mean_rel)"
   ]
  },
  {
   "cell_type": "code",
   "execution_count": 31,
   "metadata": {},
   "outputs": [
    {
     "name": "stdout",
     "output_type": "stream",
     "text": [
      "Error bar size\n",
      "[0.0047 0.0032 0.0026 0.0023 0.0019 0.0016 0.0013 0.0011 0.001  0.0011]\n"
     ]
    }
   ],
   "source": [
    "print(\"Error bar size\")\n",
    "print(sig_rel)"
   ]
  },
  {
   "cell_type": "code",
   "execution_count": 32,
   "metadata": {},
   "outputs": [
    {
     "data": {
      "text/plain": [
       "18.09303773807688"
      ]
     },
     "execution_count": 32,
     "metadata": {},
     "output_type": "execute_result"
    }
   ],
   "source": [
    "np.sqrt(np.dot(np.dot(mean_rel[0],np.linalg.inv(cov_rel)),mean_rel[0]))"
   ]
  },
  {
   "cell_type": "code",
   "execution_count": 33,
   "metadata": {},
   "outputs": [
    {
     "data": {
      "text/plain": [
       "10"
      ]
     },
     "execution_count": 33,
     "metadata": {},
     "output_type": "execute_result"
    }
   ],
   "source": [
    "len(cov_rel)"
   ]
  },
  {
   "cell_type": "code",
   "execution_count": 34,
   "metadata": {},
   "outputs": [
    {
     "data": {
      "text/plain": [
       "array([[ 2.1895e-05, -6.4492e-08,  2.3650e-07,  3.4631e-07, -1.2260e-07,\n",
       "         1.3889e-07,  4.6098e-09,  9.6441e-08,  4.8434e-08,  6.5456e-08],\n",
       "       [-6.4492e-08,  1.0426e-05,  1.6357e-07,  4.9499e-08,  9.7238e-08,\n",
       "         1.2840e-08,  4.9130e-08,  8.5058e-08,  6.1714e-09, -8.5014e-08],\n",
       "       [ 2.3650e-07,  1.6357e-07,  6.9734e-06,  7.0925e-08,  1.2502e-07,\n",
       "        -9.1725e-08,  8.9091e-08,  4.9898e-08, -6.1187e-08,  5.9065e-10],\n",
       "       [ 3.4631e-07,  4.9499e-08,  7.0925e-08,  5.1951e-06, -2.8396e-08,\n",
       "        -2.8244e-08,  7.7971e-08,  3.8550e-08,  4.6556e-09, -7.9232e-10],\n",
       "       [-1.2260e-07,  9.7238e-08,  1.2502e-07, -2.8396e-08,  3.6981e-06,\n",
       "        -1.8643e-08, -1.8838e-08,  3.0054e-08, -2.5209e-08, -4.1627e-08],\n",
       "       [ 1.3889e-07,  1.2840e-08, -9.1725e-08, -2.8244e-08, -1.8643e-08,\n",
       "         2.4247e-06, -8.5287e-09,  3.4956e-09, -6.5076e-08,  4.2275e-08],\n",
       "       [ 4.6098e-09,  4.9130e-08,  8.9091e-08,  7.7971e-08, -1.8838e-08,\n",
       "        -8.5287e-09,  1.6500e-06,  2.0541e-08,  2.4475e-08, -3.0446e-08],\n",
       "       [ 9.6441e-08,  8.5058e-08,  4.9898e-08,  3.8550e-08,  3.0054e-08,\n",
       "         3.4956e-09,  2.0541e-08,  1.2143e-06, -4.3467e-09, -7.4801e-09],\n",
       "       [ 4.8434e-08,  6.1714e-09, -6.1187e-08,  4.6556e-09, -2.5209e-08,\n",
       "        -6.5076e-08,  2.4475e-08, -4.3467e-09,  9.6530e-07,  1.6893e-09],\n",
       "       [ 6.5456e-08, -8.5014e-08,  5.9065e-10, -7.9232e-10, -4.1627e-08,\n",
       "         4.2275e-08, -3.0446e-08, -7.4801e-09,  1.6893e-09,  1.1739e-06]])"
      ]
     },
     "execution_count": 34,
     "metadata": {},
     "output_type": "execute_result"
    }
   ],
   "source": [
    "cov_rel"
   ]
  },
  {
   "cell_type": "code",
   "execution_count": 35,
   "metadata": {},
   "outputs": [
    {
     "data": {
      "text/plain": [
       "-1.2260209670591766e-07"
      ]
     },
     "execution_count": 35,
     "metadata": {},
     "output_type": "execute_result"
    }
   ],
   "source": [
    "cov_rel.min()"
   ]
  },
  {
   "cell_type": "code",
   "execution_count": 36,
   "metadata": {},
   "outputs": [
    {
     "data": {
      "text/plain": [
       "2.1894708855266627e-05"
      ]
     },
     "execution_count": 36,
     "metadata": {},
     "output_type": "execute_result"
    }
   ],
   "source": [
    "cov_rel.max()"
   ]
  },
  {
   "cell_type": "code",
   "execution_count": 37,
   "metadata": {},
   "outputs": [
    {
     "name": "stdout",
     "output_type": "stream",
     "text": [
      "['0.01', '0.02', '0.03', '0.05', '0.09', '0.14', '0.23', '0.37', '0.59', '0.91']\n"
     ]
    }
   ],
   "source": [
    "ticks_val=np.exp(mean_rel[1])\n",
    "ticks_string=[\"{:.2f}\".format(val) for val in ticks_val]\n",
    "print(ticks_string)"
   ]
  },
  {
   "cell_type": "code",
   "execution_count": 38,
   "metadata": {},
   "outputs": [
    {
     "data": {
      "image/png": "[encoded data removed]",
      "text/plain": [
       "<Figure size 446.4x360 with 2 Axes>"
      ]
     },
     "metadata": {
      "needs_background": "light"
     },
     "output_type": "display_data"
    }
   ],
   "source": [
    "fig,ax=plt.subplots(figsize=(6.2,5))\n",
    "\n",
    "from matplotlib.ticker import StrMethodFormatter\n",
    "import matplotlib.ticker as ticker\n",
    "import matplotlib.colors as colors\n",
    "\n",
    "plt.matshow(np.abs(cov_rel),fignum=0,norm=colors.LogNorm(vmin=np.abs(cov_rel).min(),vmax=np.abs(cov_rel).max()))\n",
    "\n",
    "ax.xaxis.set_major_locator(ticker.MultipleLocator(1.00))\n",
    "ax.yaxis.set_major_locator(ticker.MultipleLocator(1.00))\n",
    "\n",
    "ax.set_xticks(range(len(ticks_val)))\n",
    "ax.set_yticks(range(len(ticks_val)))\n",
    "\n",
    "ax.set_xticklabels(ticks_val)\n",
    "\n",
    "\n",
    "ax.xaxis.set_major_formatter(ticker.FixedFormatter(ticks_string))\n",
    "ax.yaxis.set_major_formatter(ticker.FixedFormatter(ticks_string))\n",
    "\n",
    "ax.set_xlabel(\"[R_LAMBDA]\",labelpad=10)\n",
    "\n",
    "def fmt(x, pos):\n",
    "    a, b = '{:.2e}'.format(x).split('e')\n",
    "    b = int(b)\n",
    "    return r'${} \\times 10^{{{}}}$'.format(a, b)\n",
    "\n",
    "\n",
    "cb=plt.colorbar(pad=0.06,format=ticker.FuncFormatter(fmt))\n",
    "\n",
    "\n",
    "\n",
    "\n",
    "ax.set_title('Covariance Matrix of $-\\gamma_T$ at Different R_LAMBDA',fontsize=11,pad=12);\n",
    "plt.savefig('/home/adt35/des_y1_catalog/sa-master/images/cov.pdf')"
   ]
  },
  {
   "cell_type": "code",
   "execution_count": 39,
   "metadata": {},
   "outputs": [],
   "source": [
    "# print(f.number)"
   ]
  },
  {
   "cell_type": "code",
   "execution_count": 40,
   "metadata": {},
   "outputs": [
    {
     "data": {
      "text/plain": [
       "array([-2314.1578, -3445.1028, -2531.5522, -1267.7241, -1976.8049,\n",
       "         621.9854,  1066.621 ,  2342.2174,  1157.1501,  1604.3187])"
      ]
     },
     "execution_count": 40,
     "metadata": {},
     "output_type": "execute_result"
    }
   ],
   "source": [
    "np.dot(mean_rel[0],np.linalg.inv(cov_rel))"
   ]
  },
  {
   "cell_type": "code",
   "execution_count": 41,
   "metadata": {},
   "outputs": [
    {
     "data": {
      "text/plain": [
       "array([-0.0508, -0.0363, -0.019 , -0.0075, -0.0077,  0.0014,  0.0013,\n",
       "        0.0021,  0.0012,  0.0021])"
      ]
     },
     "execution_count": 41,
     "metadata": {},
     "output_type": "execute_result"
    }
   ],
   "source": [
    "mean_rel[0]"
   ]
  },
  {
   "cell_type": "code",
   "execution_count": 42,
   "metadata": {},
   "outputs": [
    {
     "data": {
      "text/plain": [
       "array([[ 2.1895e-05, -6.4492e-08,  2.3650e-07,  3.4631e-07, -1.2260e-07,\n",
       "         1.3889e-07,  4.6098e-09,  9.6441e-08,  4.8434e-08,  6.5456e-08],\n",
       "       [-6.4492e-08,  1.0426e-05,  1.6357e-07,  4.9499e-08,  9.7238e-08,\n",
       "         1.2840e-08,  4.9130e-08,  8.5058e-08,  6.1714e-09, -8.5014e-08],\n",
       "       [ 2.3650e-07,  1.6357e-07,  6.9734e-06,  7.0925e-08,  1.2502e-07,\n",
       "        -9.1725e-08,  8.9091e-08,  4.9898e-08, -6.1187e-08,  5.9065e-10],\n",
       "       [ 3.4631e-07,  4.9499e-08,  7.0925e-08,  5.1951e-06, -2.8396e-08,\n",
       "        -2.8244e-08,  7.7971e-08,  3.8550e-08,  4.6556e-09, -7.9232e-10],\n",
       "       [-1.2260e-07,  9.7238e-08,  1.2502e-07, -2.8396e-08,  3.6981e-06,\n",
       "        -1.8643e-08, -1.8838e-08,  3.0054e-08, -2.5209e-08, -4.1627e-08],\n",
       "       [ 1.3889e-07,  1.2840e-08, -9.1725e-08, -2.8244e-08, -1.8643e-08,\n",
       "         2.4247e-06, -8.5287e-09,  3.4956e-09, -6.5076e-08,  4.2275e-08],\n",
       "       [ 4.6098e-09,  4.9130e-08,  8.9091e-08,  7.7971e-08, -1.8838e-08,\n",
       "        -8.5287e-09,  1.6500e-06,  2.0541e-08,  2.4475e-08, -3.0446e-08],\n",
       "       [ 9.6441e-08,  8.5058e-08,  4.9898e-08,  3.8550e-08,  3.0054e-08,\n",
       "         3.4956e-09,  2.0541e-08,  1.2143e-06, -4.3467e-09, -7.4801e-09],\n",
       "       [ 4.8434e-08,  6.1714e-09, -6.1187e-08,  4.6556e-09, -2.5209e-08,\n",
       "        -6.5076e-08,  2.4475e-08, -4.3467e-09,  9.6530e-07,  1.6893e-09],\n",
       "       [ 6.5456e-08, -8.5014e-08,  5.9065e-10, -7.9232e-10, -4.1627e-08,\n",
       "         4.2275e-08, -3.0446e-08, -7.4801e-09,  1.6893e-09,  1.1739e-06]])"
      ]
     },
     "execution_count": 42,
     "metadata": {},
     "output_type": "execute_result"
    }
   ],
   "source": [
    "cov_rel"
   ]
  },
  {
   "cell_type": "code",
   "execution_count": 43,
   "metadata": {},
   "outputs": [
    {
     "data": {
      "text/plain": [
       "array([[ 4.5793e+04,  3.2216e+02, -1.5914e+03, -3.0142e+03,  1.5118e+03,\n",
       "        -2.7295e+03,  1.3180e+02, -3.5540e+03, -2.5457e+03, -2.3949e+03],\n",
       "       [ 3.2216e+02,  9.6099e+04, -2.1542e+03, -8.3689e+02, -2.3432e+03,\n",
       "        -7.7723e+02, -2.5185e+03, -6.5003e+03, -8.5393e+02,  6.7813e+03],\n",
       "       [-1.5914e+03, -2.1542e+03,  1.4391e+05, -1.6861e+03, -4.7840e+03,\n",
       "         5.7430e+03, -7.7380e+03, -5.3198e+03,  9.6593e+03, -7.6574e+02],\n",
       "       [-3.0142e+03, -8.3689e+02, -1.6861e+03,  1.9292e+05,  1.4688e+03,\n",
       "         2.3366e+03, -8.8866e+03, -5.6520e+03, -4.8486e+02, -5.9338e+01],\n",
       "       [ 1.5118e+03, -2.3432e+03, -4.7840e+03,  1.4688e+03,  2.7092e+05,\n",
       "         1.8837e+03,  3.5109e+03, -6.4947e+03,  6.6963e+03,  9.3285e+03],\n",
       "       [-2.7295e+03, -7.7723e+02,  5.7430e+03,  2.3366e+03,  1.8837e+03,\n",
       "         4.1386e+05,  1.0927e+03, -1.2846e+03,  2.8437e+04, -1.4763e+04],\n",
       "       [ 1.3180e+02, -2.5185e+03, -7.7380e+03, -8.8866e+03,  3.5109e+03,\n",
       "         1.0927e+03,  6.0766e+05, -9.5630e+03, -1.5751e+04,  1.5615e+04],\n",
       "       [-3.5540e+03, -6.5003e+03, -5.3198e+03, -5.6520e+03, -6.4947e+03,\n",
       "        -1.2846e+03, -9.5630e+03,  8.2501e+05,  3.6032e+03,  4.5459e+03],\n",
       "       [-2.5457e+03, -8.5393e+02,  9.6593e+03, -4.8486e+02,  6.6963e+03,\n",
       "         2.8437e+04, -1.5751e+04,  3.6032e+03,  1.0392e+06, -2.5926e+03],\n",
       "       [-2.3949e+03,  6.7813e+03, -7.6574e+02, -5.9338e+01,  9.3285e+03,\n",
       "        -1.4763e+04,  1.5615e+04,  4.5459e+03, -2.5926e+03,  8.5376e+05]])"
      ]
     },
     "execution_count": 43,
     "metadata": {},
     "output_type": "execute_result"
    }
   ],
   "source": [
    "np.linalg.inv(cov_rel)"
   ]
  },
  {
   "cell_type": "code",
   "execution_count": 44,
   "metadata": {},
   "outputs": [
    {
     "data": {
      "text/plain": [
       "327.3580145914742"
      ]
     },
     "execution_count": 44,
     "metadata": {},
     "output_type": "execute_result"
    }
   ],
   "source": [
    "np.dot(mean_rel[0], np.dot(np.linalg.inv(cov_rel), mean_rel[0]))"
   ]
  }
 ],
 "metadata": {
  "kernelspec": {
   "display_name": "Python 3",
   "language": "python",
   "name": "python3"
  },
  "language_info": {
   "codemirror_mode": {
    "name": "ipython",
    "version": 3
   },
   "file_extension": ".py",
   "mimetype": "text/x-python",
   "name": "python",
   "nbconvert_exporter": "python",
   "pygments_lexer": "ipython3",
   "version": "3.7.2"
  }
 },
 "nbformat": 4,
 "nbformat_minor": 4
}
