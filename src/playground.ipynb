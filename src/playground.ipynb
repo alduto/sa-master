{
 "cells": [
  {
   "cell_type": "code",
   "execution_count": 2,
   "metadata": {},
   "outputs": [],
   "source": [
    "import pandas as pd\n",
    "import io\n",
    "import numpy as np"
   ]
  },
  {
   "cell_type": "code",
   "execution_count": 3,
   "metadata": {},
   "outputs": [],
   "source": [
    "arrays = [[1, 1, 2, 2], ['red', 'blue', 'red', 'blue']]"
   ]
  },
  {
   "cell_type": "code",
   "execution_count": 4,
   "metadata": {},
   "outputs": [
    {
     "data": {
      "text/plain": [
       "MultiIndex(levels=[[1, 2], ['blue', 'red']],\n",
       "           codes=[[0, 0, 1, 1], [1, 0, 1, 0]],\n",
       "           names=['number', 'color'])"
      ]
     },
     "execution_count": 4,
     "metadata": {},
     "output_type": "execute_result"
    }
   ],
   "source": [
    "pd.MultiIndex.from_arrays(arrays, names=('number', 'color'))"
   ]
  },
  {
   "cell_type": "code",
   "execution_count": 5,
   "metadata": {},
   "outputs": [
    {
     "data": {
      "text/html": [
       "<div>\n",
       "<style scoped>\n",
       "    .dataframe tbody tr th:only-of-type {\n",
       "        vertical-align: middle;\n",
       "    }\n",
       "\n",
       "    .dataframe tbody tr th {\n",
       "        vertical-align: top;\n",
       "    }\n",
       "\n",
       "    .dataframe thead th {\n",
       "        text-align: right;\n",
       "    }\n",
       "</style>\n",
       "<table border=\"1\" class=\"dataframe\">\n",
       "  <thead>\n",
       "    <tr style=\"text-align: right;\">\n",
       "      <th></th>\n",
       "      <th>Fruit</th>\n",
       "      <th>Color</th>\n",
       "      <th>Count</th>\n",
       "      <th>Price</th>\n",
       "    </tr>\n",
       "  </thead>\n",
       "  <tbody>\n",
       "    <tr>\n",
       "      <th>0</th>\n",
       "      <td>Apple</td>\n",
       "      <td>Red</td>\n",
       "      <td>3</td>\n",
       "      <td>$1.29</td>\n",
       "    </tr>\n",
       "    <tr>\n",
       "      <th>1</th>\n",
       "      <td>Apple</td>\n",
       "      <td>Green</td>\n",
       "      <td>9</td>\n",
       "      <td>$0.99</td>\n",
       "    </tr>\n",
       "    <tr>\n",
       "      <th>2</th>\n",
       "      <td>Pear</td>\n",
       "      <td>Red</td>\n",
       "      <td>25</td>\n",
       "      <td>$2.59</td>\n",
       "    </tr>\n",
       "    <tr>\n",
       "      <th>3</th>\n",
       "      <td>Pear</td>\n",
       "      <td>Green</td>\n",
       "      <td>26</td>\n",
       "      <td>$2.79</td>\n",
       "    </tr>\n",
       "    <tr>\n",
       "      <th>4</th>\n",
       "      <td>Lime</td>\n",
       "      <td>Green</td>\n",
       "      <td>99</td>\n",
       "      <td>$0.39</td>\n",
       "    </tr>\n",
       "  </tbody>\n",
       "</table>\n",
       "</div>"
      ],
      "text/plain": [
       "   Fruit  Color  Count  Price\n",
       "0  Apple    Red      3  $1.29\n",
       "1  Apple  Green      9  $0.99\n",
       "2   Pear    Red     25  $2.59\n",
       "3   Pear  Green     26  $2.79\n",
       "4   Lime  Green     99  $0.39"
      ]
     },
     "execution_count": 5,
     "metadata": {},
     "output_type": "execute_result"
    }
   ],
   "source": [
    "data = io.StringIO('''Fruit,Color,Count,Price\n",
    "Apple,Red,3,$1.29\n",
    "Apple,Green,9,$0.99\n",
    "Pear,Red,25,$2.59\n",
    "Pear,Green,26,$2.79\n",
    "Lime,Green,99,$0.39\n",
    "''')\n",
    "df_unindexed = pd.read_csv(data)\n",
    "df_unindexed"
   ]
  },
  {
   "cell_type": "code",
   "execution_count": 9,
   "metadata": {},
   "outputs": [],
   "source": [
    "band_columns=pd.MultiIndex.from_product([['g','r','i','z'],\n",
    "                                       ['MODEL_MAG','MODEL_MAGERR','MAG_LAMBDA_ERR']],\n",
    "                                     names=['band','data'])"
   ]
  },
  {
   "cell_type": "code",
   "execution_count": 11,
   "metadata": {},
   "outputs": [],
   "source": [
    "pz_bins=[m+str(n) for m,n in zip(['pz_bins_']*21,range(21))]\n",
    "pz_val =[m+str(n) for m,n in zip(['pz_bins_']*21,range(21))]\n",
    "pz_columns=pd.MultiIndex.from_product([pz_bins,\n",
    "                                       ['MODEL_MAG','MODEL_MAGERR','MAG_LAMBDA_ERR']],\n",
    "                                     names=['band','data'])"
   ]
  },
  {
   "cell_type": "code",
   "execution_count": 14,
   "metadata": {},
   "outputs": [],
   "source": [
    "alt_bins=[m+str(n) for m,n in zip(['alt_']*5,range(5))]\n",
    "alt_columns=pd.MultiIndex.from_product([pz_bins,\n",
    "                                       ['MODEL_MAG','MODEL_MAGERR','MAG_LAMBDA_ERR']],\n",
    "                                     names=['band','data'])"
   ]
  },
  {
   "cell_type": "code",
   "execution_count": 30,
   "metadata": {},
   "outputs": [
    {
     "name": "stdout",
     "output_type": "stream",
     "text": [
      "0       3089939451\n",
      "1       3047101906\n",
      "2       3069562192\n",
      "3       3092286075\n",
      "4       3138662814\n",
      "5       3119806344\n",
      "6       3008918135\n",
      "7       3020459591\n",
      "8       3010448045\n",
      "9       3157162066\n",
      "10      3070344110\n",
      "11      3016466598\n",
      "12      3034626206\n",
      "13      3008565300\n",
      "14      3129061131\n",
      "15      3058900488\n",
      "16      3155750926\n",
      "17      3119773430\n",
      "18      3038715907\n",
      "19      3091623101\n",
      "20      3147350726\n",
      "21      3088730045\n",
      "22      3038560090\n",
      "23      3033998639\n",
      "24      3148132353\n",
      "25      3105157976\n",
      "26      3082542813\n",
      "27      3098478675\n",
      "28      3111484896\n",
      "29      3158368426\n",
      "           ...    \n",
      "7036    3049418198\n",
      "7037    3089665500\n",
      "7038    3129320419\n",
      "7039    3032565609\n",
      "7040    3044388739\n",
      "7041    3108788531\n",
      "7042    3028295834\n",
      "7043    3044677347\n",
      "7044    3072219615\n",
      "7045    3032080379\n",
      "7046    3083393436\n",
      "7047    3157143483\n",
      "7048    3048844388\n",
      "7049    3104118364\n",
      "7050    3070443273\n",
      "7051    3158247805\n",
      "7052    3109678113\n",
      "7053    3127212155\n",
      "7054    3034346942\n",
      "7055    3034337303\n",
      "7056    3151673825\n",
      "7057    3156937890\n",
      "7058    3125770845\n",
      "7059    3098630257\n",
      "7060    3119076931\n",
      "7061    3125722960\n",
      "7062    3067653261\n",
      "7063    3067376486\n",
      "7064    3114745735\n",
      "7065    3172662857\n",
      "Name: (ID_CENT,0), Length: 7066, dtype: int64\n"
     ]
    }
   ],
   "source": [
    "print(center['(ID_CENT,0)'])"
   ]
  },
  {
   "cell_type": "code",
   "execution_count": 15,
   "metadata": {},
   "outputs": [
    {
     "ename": "SyntaxError",
     "evalue": "Missing parentheses in call to 'print'. Did you mean print(self.value)? (<ipython-input-15-650d04f893c0>, line 19)",
     "output_type": "error",
     "traceback": [
      "\u001b[0;36m  File \u001b[0;32m\"<ipython-input-15-650d04f893c0>\"\u001b[0;36m, line \u001b[0;32m19\u001b[0m\n\u001b[0;31m    print self.value\u001b[0m\n\u001b[0m             ^\u001b[0m\n\u001b[0;31mSyntaxError\u001b[0m\u001b[0;31m:\u001b[0m Missing parentheses in call to 'print'. Did you mean print(self.value)?\n"
     ]
    }
   ],
   "source": [
    "class Template(object):\n",
    "\n",
    "    def __init__(self):\n",
    "        self.value = \"hello\"\n",
    "        self.other_value = \"bonjour\"\n",
    "        self.constant_value = 42\n",
    "        current_class = self.__class__\n",
    "        inits = []\n",
    "        while (current_class.__name__ != \"Template\"):\n",
    "            inits.append(current_class.init)\n",
    "            current_class = current_class.__bases__[0]\n",
    "        for i in reversed(inits):\n",
    "            i(self)\n",
    "\n",
    "    def init(self):\n",
    "        pass\n",
    "\n",
    "    def info(self):\n",
    "        print self.value\n",
    "        print self.other_value\n",
    "        print self.constant_value\n",
    "        print \"\"    "
   ]
  },
  {
   "cell_type": "code",
   "execution_count": 5,
   "metadata": {},
   "outputs": [],
   "source": [
    "a=np.array([1,2,3])\n",
    "b=np.array([2,3])\n",
    "tlist=[a,b]"
   ]
  },
  {
   "cell_type": "code",
   "execution_count": 6,
   "metadata": {},
   "outputs": [
    {
     "data": {
      "text/plain": [
       "array([1, 2, 3, 2, 3])"
      ]
     },
     "execution_count": 6,
     "metadata": {},
     "output_type": "execute_result"
    }
   ],
   "source": [
    "np.concatenate(tlist)"
   ]
  },
  {
   "cell_type": "code",
   "execution_count": 7,
   "metadata": {},
   "outputs": [
    {
     "data": {
      "text/plain": [
       "list"
      ]
     },
     "execution_count": 7,
     "metadata": {},
     "output_type": "execute_result"
    }
   ],
   "source": [
    "type(tlist)"
   ]
  },
  {
   "cell_type": "code",
   "execution_count": 1,
   "metadata": {},
   "outputs": [],
   "source": [
    "import numpy as np\n",
    "\n",
    "a = np.array([[[1,2],[3,4]],[[5,6],[7,8]],[[9,10],[10,11]]])"
   ]
  },
  {
   "cell_type": "code",
   "execution_count": 5,
   "metadata": {},
   "outputs": [
    {
     "data": {
      "text/plain": [
       "array([[15, 18],\n",
       "       [20, 23]])"
      ]
     },
     "execution_count": 5,
     "metadata": {},
     "output_type": "execute_result"
    }
   ],
   "source": [
    "np.sum(a,axis=0)"
   ]
  },
  {
   "cell_type": "code",
   "execution_count": 9,
   "metadata": {},
   "outputs": [
    {
     "data": {
      "text/plain": [
       "array([[ 2,  4],\n",
       "       [ 6,  8],\n",
       "       [10, 11]])"
      ]
     },
     "execution_count": 9,
     "metadata": {},
     "output_type": "execute_result"
    }
   ],
   "source": [
    "a[:,:,1]"
   ]
  },
  {
   "cell_type": "code",
   "execution_count": 2,
   "metadata": {},
   "outputs": [
    {
     "data": {
      "application/vnd.jupyter.widget-view+json": {
       "model_id": "491a5cc5f83e4f8a958de38fdd6108b8",
       "version_major": 2,
       "version_minor": 0
      },
      "text/plain": [
       "HBox(children=(IntProgress(value=0, description='1st loop', max=3, style=ProgressStyle(description_width='init…"
      ]
     },
     "metadata": {},
     "output_type": "display_data"
    },
    {
     "data": {
      "application/vnd.jupyter.widget-view+json": {
       "model_id": "f18da3f649c44f269bf5caebdfceb69b",
       "version_major": 2,
       "version_minor": 0
      },
      "text/plain": [
       "HBox(children=(IntProgress(value=0, description='2nd loop', style=ProgressStyle(description_width='initial')),…"
      ]
     },
     "metadata": {},
     "output_type": "display_data"
    },
    {
     "name": "stdout",
     "output_type": "stream",
     "text": [
      "\n"
     ]
    },
    {
     "data": {
      "application/vnd.jupyter.widget-view+json": {
       "model_id": "b4c5ff7ad2d64beea859c08ac029cc0a",
       "version_major": 2,
       "version_minor": 0
      },
      "text/plain": [
       "HBox(children=(IntProgress(value=0, description='2nd loop', style=ProgressStyle(description_width='initial')),…"
      ]
     },
     "metadata": {},
     "output_type": "display_data"
    },
    {
     "name": "stdout",
     "output_type": "stream",
     "text": [
      "\n"
     ]
    },
    {
     "data": {
      "application/vnd.jupyter.widget-view+json": {
       "model_id": "7571adf6e45142598a074a72f5ce91a4",
       "version_major": 2,
       "version_minor": 0
      },
      "text/plain": [
       "HBox(children=(IntProgress(value=0, description='2nd loop', style=ProgressStyle(description_width='initial')),…"
      ]
     },
     "metadata": {},
     "output_type": "display_data"
    },
    {
     "name": "stdout",
     "output_type": "stream",
     "text": [
      "\n"
     ]
    },
    {
     "ename": "KeyboardInterrupt",
     "evalue": "",
     "output_type": "error",
     "traceback": [
      "\u001b[0;31m---------------------------------------------------------------------------\u001b[0m",
      "\u001b[0;31mKeyboardInterrupt\u001b[0m                         Traceback (most recent call last)",
      "\u001b[0;32m<ipython-input-2-acbf69e45cbb>\u001b[0m in \u001b[0;36m<module>\u001b[0;34m\u001b[0m\n\u001b[1;32m      4\u001b[0m \u001b[0;32mfor\u001b[0m \u001b[0mi\u001b[0m \u001b[0;32min\u001b[0m \u001b[0mtrange\u001b[0m\u001b[0;34m(\u001b[0m\u001b[0;36m3\u001b[0m\u001b[0;34m,\u001b[0m \u001b[0mdesc\u001b[0m\u001b[0;34m=\u001b[0m\u001b[0;34m'1st loop'\u001b[0m\u001b[0;34m)\u001b[0m\u001b[0;34m:\u001b[0m\u001b[0;34m\u001b[0m\u001b[0;34m\u001b[0m\u001b[0m\n\u001b[1;32m      5\u001b[0m     \u001b[0;32mfor\u001b[0m \u001b[0mj\u001b[0m \u001b[0;32min\u001b[0m \u001b[0mtqdm\u001b[0m\u001b[0;34m(\u001b[0m\u001b[0mrange\u001b[0m\u001b[0;34m(\u001b[0m\u001b[0;36m100\u001b[0m\u001b[0;34m)\u001b[0m\u001b[0;34m,\u001b[0m \u001b[0mdesc\u001b[0m\u001b[0;34m=\u001b[0m\u001b[0;34m'2nd loop'\u001b[0m\u001b[0;34m)\u001b[0m\u001b[0;34m:\u001b[0m\u001b[0;34m\u001b[0m\u001b[0;34m\u001b[0m\u001b[0m\n\u001b[0;32m----> 6\u001b[0;31m         \u001b[0msleep\u001b[0m\u001b[0;34m(\u001b[0m\u001b[0;36m0.01\u001b[0m\u001b[0;34m)\u001b[0m\u001b[0;34m\u001b[0m\u001b[0;34m\u001b[0m\u001b[0m\n\u001b[0m",
      "\u001b[0;31mKeyboardInterrupt\u001b[0m: "
     ]
    }
   ],
   "source": [
    "from tqdm.notebook import trange, tqdm\n",
    "from time import sleep\n",
    "\n",
    "for i in trange(3, desc='1st loop'):\n",
    "    for j in tqdm(range(100), desc='2nd loop'):\n",
    "        sleep(0.01)"
   ]
  },
  {
   "cell_type": "code",
   "execution_count": 1,
   "metadata": {},
   "outputs": [
    {
     "data": {
      "application/vnd.jupyter.widget-view+json": {
       "model_id": "d55333206efb4cd7b991b16b81cb2828",
       "version_major": 2,
       "version_minor": 0
      },
      "text/plain": [
       "Button(style=ButtonStyle())"
      ]
     },
     "metadata": {},
     "output_type": "display_data"
    }
   ],
   "source": [
    "from ipywidgets import Button\n",
    "\n",
    "Button()"
   ]
  },
  {
   "cell_type": "code",
   "execution_count": 22,
   "metadata": {},
   "outputs": [],
   "source": [
    "import numpy as np\n",
    "\n",
    "a=np.array([[1,2],[3,4],[5,6]])\n",
    "b=np.empty([20,3,2])"
   ]
  },
  {
   "cell_type": "code",
   "execution_count": 23,
   "metadata": {},
   "outputs": [],
   "source": [
    "b[0,:,:]=a"
   ]
  },
  {
   "cell_type": "code",
   "execution_count": 50,
   "metadata": {},
   "outputs": [
    {
     "data": {
      "text/plain": [
       "array([[[1.00000000e+000, 2.00000000e+000],\n",
       "        [3.00000000e+000, 4.00000000e+000],\n",
       "        [5.00000000e+000, 6.00000000e+000]],\n",
       "\n",
       "       [[4.65308186e-310, 6.90139430e-310],\n",
       "        [6.90140939e-310, 6.90140168e-310],\n",
       "        [0.00000000e+000, 4.65308187e-310]],\n",
       "\n",
       "       [[0.00000000e+000, 0.00000000e+000],\n",
       "        [4.94065646e-324, 0.00000000e+000],\n",
       "        [2.12199580e-314, 0.00000000e+000]],\n",
       "\n",
       "       [[            nan, 0.00000000e+000],\n",
       "        [0.00000000e+000, 0.00000000e+000],\n",
       "        [0.00000000e+000, 0.00000000e+000]],\n",
       "\n",
       "       [[0.00000000e+000, 0.00000000e+000],\n",
       "        [0.00000000e+000, 0.00000000e+000],\n",
       "        [0.00000000e+000, 0.00000000e+000]],\n",
       "\n",
       "       [[0.00000000e+000, 0.00000000e+000],\n",
       "        [0.00000000e+000, 0.00000000e+000],\n",
       "        [0.00000000e+000, 0.00000000e+000]],\n",
       "\n",
       "       [[0.00000000e+000, 0.00000000e+000],\n",
       "        [0.00000000e+000, 0.00000000e+000],\n",
       "        [0.00000000e+000, 0.00000000e+000]],\n",
       "\n",
       "       [[0.00000000e+000, 4.02925356e-319],\n",
       "        [0.00000000e+000, 0.00000000e+000],\n",
       "        [0.00000000e+000, 0.00000000e+000]],\n",
       "\n",
       "       [[4.65307950e-310, 4.65307950e-310],\n",
       "        [0.00000000e+000, 0.00000000e+000],\n",
       "        [0.00000000e+000, 0.00000000e+000]],\n",
       "\n",
       "       [[0.00000000e+000, 0.00000000e+000],\n",
       "        [0.00000000e+000, 0.00000000e+000],\n",
       "        [0.00000000e+000, 0.00000000e+000]],\n",
       "\n",
       "       [[0.00000000e+000, 0.00000000e+000],\n",
       "        [0.00000000e+000, 0.00000000e+000],\n",
       "        [0.00000000e+000, 6.90139430e-310]],\n",
       "\n",
       "       [[6.90139429e-310, 4.65307950e-310],\n",
       "        [6.90139430e-310, 6.90139429e-310],\n",
       "        [4.65308167e-310, 4.65307950e-310]],\n",
       "\n",
       "       [[4.65307950e-310, 0.00000000e+000],\n",
       "        [0.00000000e+000, 0.00000000e+000],\n",
       "        [3.08296963e-321, 2.76676762e-321]],\n",
       "\n",
       "       [[0.00000000e+000, 6.90139435e-310],\n",
       "        [            nan, 0.00000000e+000],\n",
       "        [4.65307950e-310, 9.88131292e-323]],\n",
       "\n",
       "       [[4.65308186e-310, 6.90139427e-310],\n",
       "        [6.90140939e-310, 6.90140168e-310],\n",
       "        [0.00000000e+000, 4.65308187e-310]],\n",
       "\n",
       "       [[0.00000000e+000, 0.00000000e+000],\n",
       "        [4.94065646e-324, 0.00000000e+000],\n",
       "        [6.36598739e-314, 0.00000000e+000]],\n",
       "\n",
       "       [[5.30498948e-312, 0.00000000e+000],\n",
       "        [0.00000000e+000, 0.00000000e+000],\n",
       "        [0.00000000e+000, 0.00000000e+000]],\n",
       "\n",
       "       [[0.00000000e+000, 0.00000000e+000],\n",
       "        [0.00000000e+000, 0.00000000e+000],\n",
       "        [0.00000000e+000, 0.00000000e+000]],\n",
       "\n",
       "       [[0.00000000e+000, 0.00000000e+000],\n",
       "        [0.00000000e+000, 0.00000000e+000],\n",
       "        [0.00000000e+000, 0.00000000e+000]],\n",
       "\n",
       "       [[0.00000000e+000, 0.00000000e+000],\n",
       "        [0.00000000e+000, 0.00000000e+000],\n",
       "        [0.00000000e+000, 0.00000000e+000]]])"
      ]
     },
     "execution_count": 50,
     "metadata": {},
     "output_type": "execute_result"
    }
   ],
   "source": [
    "b"
   ]
  },
  {
   "cell_type": "code",
   "execution_count": 36,
   "metadata": {},
   "outputs": [
    {
     "data": {
      "text/latex": [
       "$\\displaystyle \\left[\\begin{matrix}1.0 & 2.0\\\\3.0 & 4.0\\\\5.0 & 6.0\\end{matrix}\\right]$"
      ],
      "text/plain": [
       "⎡1.0  2.0⎤\n",
       "⎢        ⎥\n",
       "⎢3.0  4.0⎥\n",
       "⎢        ⎥\n",
       "⎣5.0  6.0⎦"
      ]
     },
     "execution_count": 36,
     "metadata": {},
     "output_type": "execute_result"
    }
   ],
   "source": [
    "Matrix(list(b[0]))"
   ]
  },
  {
   "cell_type": "code",
   "execution_count": 1,
   "metadata": {},
   "outputs": [],
   "source": [
    "import numpy as np"
   ]
  },
  {
   "cell_type": "code",
   "execution_count": 2,
   "metadata": {},
   "outputs": [
    {
     "data": {
      "text/plain": [
       "-0.42264973081037416"
      ]
     },
     "execution_count": 2,
     "metadata": {},
     "output_type": "execute_result"
    }
   ],
   "source": [
    "1/np.sqrt(3)-1"
   ]
  },
  {
   "cell_type": "code",
   "execution_count": 5,
   "metadata": {},
   "outputs": [],
   "source": [
    "from sympy import *"
   ]
  },
  {
   "cell_type": "code",
   "execution_count": 33,
   "metadata": {},
   "outputs": [],
   "source": [
    "x,y,z,t = symbols('x y z t')\n",
    "init_printing()"
   ]
  },
  {
   "cell_type": "code",
   "execution_count": 9,
   "metadata": {},
   "outputs": [
    {
     "data": {
      "image/png": "[encoded data removed]",
      "text/latex": [
       "$\\displaystyle \\int \\sqrt{\\frac{1}{x}}\\, dx$"
      ],
      "text/plain": [
       "⌠           \n",
       "⎮     ___   \n",
       "⎮    ╱ 1    \n",
       "⎮   ╱  ─  dx\n",
       "⎮ ╲╱   x    \n",
       "⌡           "
      ]
     },
     "execution_count": 9,
     "metadata": {},
     "output_type": "execute_result"
    }
   ],
   "source": [
    "Integral(sqrt(1/x),x)"
   ]
  },
  {
   "cell_type": "code",
   "execution_count": 13,
   "metadata": {},
   "outputs": [
    {
     "data": {
      "text/latex": [
       "$\\displaystyle \\left[\\begin{matrix}1 & -1\\\\3 & 4\\\\0 & 2\\end{matrix}\\right]$"
      ],
      "text/plain": [
       "⎡1  -1⎤\n",
       "⎢     ⎥\n",
       "⎢3  4 ⎥\n",
       "⎢     ⎥\n",
       "⎣0  2 ⎦"
      ]
     },
     "execution_count": 13,
     "metadata": {},
     "output_type": "execute_result"
    }
   ],
   "source": [
    "Matrix([[1, -1], [3, 4], [0, 2]])"
   ]
  },
  {
   "cell_type": "code",
   "execution_count": 20,
   "metadata": {},
   "outputs": [],
   "source": [
    "test=np.arange(0,9).reshape(3,3)"
   ]
  },
  {
   "cell_type": "code",
   "execution_count": 21,
   "metadata": {},
   "outputs": [
    {
     "data": {
      "text/latex": [
       "$\\displaystyle \\left[\\begin{matrix}0 & 1 & 2\\\\3 & 4 & 5\\\\6 & 7 & 8\\end{matrix}\\right]$"
      ],
      "text/plain": [
       "⎡0  1  2⎤\n",
       "⎢       ⎥\n",
       "⎢3  4  5⎥\n",
       "⎢       ⎥\n",
       "⎣6  7  8⎦"
      ]
     },
     "execution_count": 21,
     "metadata": {},
     "output_type": "execute_result"
    }
   ],
   "source": [
    "Matrix(list(test))"
   ]
  },
  {
   "cell_type": "code",
   "execution_count": 37,
   "metadata": {},
   "outputs": [],
   "source": [
    "from IPython.display import display\n"
   ]
  },
  {
   "cell_type": "code",
   "execution_count": 49,
   "metadata": {},
   "outputs": [
    {
     "data": {
      "text/latex": [
       "$\\displaystyle \\left[\\begin{matrix}1.0 & 2.0\\\\3.0 & 4.0\\\\5.0 & 6.0\\end{matrix}\\right]$"
      ],
      "text/plain": [
       "⎡1.0  2.0⎤\n",
       "⎢        ⎥\n",
       "⎢3.0  4.0⎥\n",
       "⎢        ⎥\n",
       "⎣5.0  6.0⎦"
      ]
     },
     "metadata": {},
     "output_type": "display_data"
    },
    {
     "data": {
      "text/latex": [
       "$\\displaystyle \\left[\\begin{matrix}4.65308186478763 \\cdot 10^{-310} & 6.90139429796055 \\cdot 10^{-310}\\\\6.90140939364545 \\cdot 10^{-310} & 6.90140168239573 \\cdot 10^{-310}\\\\0.0 & 4.65308187461164 \\cdot 10^{-310}\\end{matrix}\\right]$"
      ],
      "text/plain": [
       "⎡4.65308186478763e-310  6.90139429796055e-310⎤\n",
       "⎢                                            ⎥\n",
       "⎢6.90140939364545e-310  6.90140168239573e-310⎥\n",
       "⎢                                            ⎥\n",
       "⎣         0.0           4.65308187461164e-310⎦"
      ]
     },
     "metadata": {},
     "output_type": "display_data"
    },
    {
     "data": {
      "text/latex": [
       "$\\displaystyle \\left[\\begin{matrix}0.0 & 0.0\\\\5.0 \\cdot 10^{-324} & 0.0\\\\2.121995796 \\cdot 10^{-314} & 0.0\\end{matrix}\\right]$"
      ],
      "text/plain": [
       "⎡      0.0         0.0⎤\n",
       "⎢                     ⎥\n",
       "⎢    5.0e-324      0.0⎥\n",
       "⎢                     ⎥\n",
       "⎣2.121995796e-314  0.0⎦"
      ]
     },
     "metadata": {},
     "output_type": "display_data"
    },
    {
     "data": {
      "text/latex": [
       "$\\displaystyle \\left[\\begin{matrix}\\text{NaN} & 0.0\\\\0.0 & 0.0\\\\0.0 & 0.0\\end{matrix}\\right]$"
      ],
      "text/plain": [
       "⎡nan  0.0⎤\n",
       "⎢        ⎥\n",
       "⎢0.0  0.0⎥\n",
       "⎢        ⎥\n",
       "⎣0.0  0.0⎦"
      ]
     },
     "metadata": {},
     "output_type": "display_data"
    },
    {
     "data": {
      "text/latex": [
       "$\\displaystyle \\left[\\begin{matrix}0.0 & 0.0\\\\0.0 & 0.0\\\\0.0 & 0.0\\end{matrix}\\right]$"
      ],
      "text/plain": [
       "⎡0.0  0.0⎤\n",
       "⎢        ⎥\n",
       "⎢0.0  0.0⎥\n",
       "⎢        ⎥\n",
       "⎣0.0  0.0⎦"
      ]
     },
     "metadata": {},
     "output_type": "display_data"
    },
    {
     "data": {
      "text/latex": [
       "$\\displaystyle \\left[\\begin{matrix}0.0 & 0.0\\\\0.0 & 0.0\\\\0.0 & 0.0\\end{matrix}\\right]$"
      ],
      "text/plain": [
       "⎡0.0  0.0⎤\n",
       "⎢        ⎥\n",
       "⎢0.0  0.0⎥\n",
       "⎢        ⎥\n",
       "⎣0.0  0.0⎦"
      ]
     },
     "metadata": {},
     "output_type": "display_data"
    },
    {
     "data": {
      "text/latex": [
       "$\\displaystyle \\left[\\begin{matrix}0.0 & 0.0\\\\0.0 & 0.0\\\\0.0 & 0.0\\end{matrix}\\right]$"
      ],
      "text/plain": [
       "⎡0.0  0.0⎤\n",
       "⎢        ⎥\n",
       "⎢0.0  0.0⎥\n",
       "⎢        ⎥\n",
       "⎣0.0  0.0⎦"
      ]
     },
     "metadata": {},
     "output_type": "display_data"
    },
    {
     "data": {
      "text/latex": [
       "$\\displaystyle \\left[\\begin{matrix}0.0 & 4.02925 \\cdot 10^{-319}\\\\0.0 & 0.0\\\\0.0 & 0.0\\end{matrix}\\right]$"
      ],
      "text/plain": [
       "⎡0.0  4.02925e-319⎤\n",
       "⎢                 ⎥\n",
       "⎢0.0      0.0     ⎥\n",
       "⎢                 ⎥\n",
       "⎣0.0      0.0     ⎦"
      ]
     },
     "metadata": {},
     "output_type": "display_data"
    },
    {
     "data": {
      "text/latex": [
       "$\\displaystyle \\left[\\begin{matrix}4.6530794985851 \\cdot 10^{-310} & 4.6530794985851 \\cdot 10^{-310}\\\\0.0 & 0.0\\\\0.0 & 0.0\\end{matrix}\\right]$"
      ],
      "text/plain": [
       "⎡4.6530794985851e-310  4.6530794985851e-310⎤\n",
       "⎢                                          ⎥\n",
       "⎢        0.0                   0.0         ⎥\n",
       "⎢                                          ⎥\n",
       "⎣        0.0                   0.0         ⎦"
      ]
     },
     "metadata": {},
     "output_type": "display_data"
    },
    {
     "data": {
      "text/latex": [
       "$\\displaystyle \\left[\\begin{matrix}0.0 & 0.0\\\\0.0 & 0.0\\\\0.0 & 0.0\\end{matrix}\\right]$"
      ],
      "text/plain": [
       "⎡0.0  0.0⎤\n",
       "⎢        ⎥\n",
       "⎢0.0  0.0⎥\n",
       "⎢        ⎥\n",
       "⎣0.0  0.0⎦"
      ]
     },
     "metadata": {},
     "output_type": "display_data"
    },
    {
     "data": {
      "text/latex": [
       "$\\displaystyle \\left[\\begin{matrix}0.0 & 0.0\\\\0.0 & 0.0\\\\0.0 & 6.9013942951989 \\cdot 10^{-310}\\end{matrix}\\right]$"
      ],
      "text/plain": [
       "⎡0.0          0.0         ⎤\n",
       "⎢                         ⎥\n",
       "⎢0.0          0.0         ⎥\n",
       "⎢                         ⎥\n",
       "⎣0.0  6.9013942951989e-310⎦"
      ]
     },
     "metadata": {},
     "output_type": "display_data"
    },
    {
     "data": {
      "text/latex": [
       "$\\displaystyle \\left[\\begin{matrix}6.9013942923187 \\cdot 10^{-310} & 4.6530794955646 \\cdot 10^{-310}\\\\6.90139429505347 \\cdot 10^{-310} & 6.90139429380763 \\cdot 10^{-310}\\\\4.65308166817797 \\cdot 10^{-310} & 4.6530794992278 \\cdot 10^{-310}\\end{matrix}\\right]$"
      ],
      "text/plain": [
       "⎡6.9013942923187e-310   4.6530794955646e-310 ⎤\n",
       "⎢                                            ⎥\n",
       "⎢6.90139429505347e-310  6.90139429380763e-310⎥\n",
       "⎢                                            ⎥\n",
       "⎣4.65308166817797e-310  4.6530794992278e-310 ⎦"
      ]
     },
     "metadata": {},
     "output_type": "display_data"
    },
    {
     "data": {
      "text/latex": [
       "$\\displaystyle \\left[\\begin{matrix}4.65307949535907 \\cdot 10^{-310} & 0.0\\\\0.0 & 0.0\\\\3.083 \\cdot 10^{-321} & 2.767 \\cdot 10^{-321}\\end{matrix}\\right]$"
      ],
      "text/plain": [
       "⎡4.65307949535907e-310     0.0    ⎤\n",
       "⎢                                 ⎥\n",
       "⎢         0.0              0.0    ⎥\n",
       "⎢                                 ⎥\n",
       "⎣     3.083e-321        2.767e-321⎦"
      ]
     },
     "metadata": {},
     "output_type": "display_data"
    },
    {
     "data": {
      "text/latex": [
       "$\\displaystyle \\left[\\begin{matrix}0.0 & 6.9013943479173 \\cdot 10^{-310}\\\\\\text{NaN} & 0.0\\\\4.65307949902543 \\cdot 10^{-310} & 1.0 \\cdot 10^{-322}\\end{matrix}\\right]$"
      ],
      "text/plain": [
       "⎡         0.0           6.9013943479173e-310⎤\n",
       "⎢                                           ⎥\n",
       "⎢         nan                   0.0         ⎥\n",
       "⎢                                           ⎥\n",
       "⎣4.65307949902543e-310        1.0e-322      ⎦"
      ]
     },
     "metadata": {},
     "output_type": "display_data"
    },
    {
     "data": {
      "text/latex": [
       "$\\displaystyle \\left[\\begin{matrix}4.65308186478763 \\cdot 10^{-310} & 6.90139427250075 \\cdot 10^{-310}\\\\6.90140939364545 \\cdot 10^{-310} & 6.90140168239573 \\cdot 10^{-310}\\\\0.0 & 4.65308187464247 \\cdot 10^{-310}\\end{matrix}\\right]$"
      ],
      "text/plain": [
       "⎡4.65308186478763e-310  6.90139427250075e-310⎤\n",
       "⎢                                            ⎥\n",
       "⎢6.90140939364545e-310  6.90140168239573e-310⎥\n",
       "⎢                                            ⎥\n",
       "⎣         0.0           4.65308187464247e-310⎦"
      ]
     },
     "metadata": {},
     "output_type": "display_data"
    },
    {
     "data": {
      "text/latex": [
       "$\\displaystyle \\left[\\begin{matrix}0.0 & 0.0\\\\5.0 \\cdot 10^{-324} & 0.0\\\\6.3659873877 \\cdot 10^{-314} & 0.0\\end{matrix}\\right]$"
      ],
      "text/plain": [
       "⎡       0.0         0.0⎤\n",
       "⎢                      ⎥\n",
       "⎢    5.0e-324       0.0⎥\n",
       "⎢                      ⎥\n",
       "⎣6.3659873877e-314  0.0⎦"
      ]
     },
     "metadata": {},
     "output_type": "display_data"
    },
    {
     "data": {
      "text/latex": [
       "$\\displaystyle \\left[\\begin{matrix}5.304989478006 \\cdot 10^{-312} & 0.0\\\\0.0 & 0.0\\\\0.0 & 0.0\\end{matrix}\\right]$"
      ],
      "text/plain": [
       "⎡5.304989478006e-312  0.0⎤\n",
       "⎢                        ⎥\n",
       "⎢        0.0          0.0⎥\n",
       "⎢                        ⎥\n",
       "⎣        0.0          0.0⎦"
      ]
     },
     "metadata": {},
     "output_type": "display_data"
    },
    {
     "data": {
      "text/latex": [
       "$\\displaystyle \\left[\\begin{matrix}0.0 & 0.0\\\\0.0 & 0.0\\\\0.0 & 0.0\\end{matrix}\\right]$"
      ],
      "text/plain": [
       "⎡0.0  0.0⎤\n",
       "⎢        ⎥\n",
       "⎢0.0  0.0⎥\n",
       "⎢        ⎥\n",
       "⎣0.0  0.0⎦"
      ]
     },
     "metadata": {},
     "output_type": "display_data"
    },
    {
     "data": {
      "text/latex": [
       "$\\displaystyle \\left[\\begin{matrix}0.0 & 0.0\\\\0.0 & 0.0\\\\0.0 & 0.0\\end{matrix}\\right]$"
      ],
      "text/plain": [
       "⎡0.0  0.0⎤\n",
       "⎢        ⎥\n",
       "⎢0.0  0.0⎥\n",
       "⎢        ⎥\n",
       "⎣0.0  0.0⎦"
      ]
     },
     "metadata": {},
     "output_type": "display_data"
    },
    {
     "data": {
      "text/latex": [
       "$\\displaystyle \\left[\\begin{matrix}0.0 & 0.0\\\\0.0 & 0.0\\\\0.0 & 0.0\\end{matrix}\\right]$"
      ],
      "text/plain": [
       "⎡0.0  0.0⎤\n",
       "⎢        ⎥\n",
       "⎢0.0  0.0⎥\n",
       "⎢        ⎥\n",
       "⎣0.0  0.0⎦"
      ]
     },
     "metadata": {},
     "output_type": "display_data"
    }
   ],
   "source": [
    "for b_ in b:\n",
    "    display(Matrix(b_))"
   ]
  },
  {
   "cell_type": "code",
   "execution_count": 44,
   "metadata": {},
   "outputs": [
    {
     "data": {
      "text/plain": [
       "['C',\n",
       " 'D',\n",
       " 'H',\n",
       " 'LDLdecomposition',\n",
       " 'LDLsolve',\n",
       " 'LUdecomposition',\n",
       " 'LUdecompositionFF',\n",
       " 'LUdecomposition_Simple',\n",
       " 'LUsolve',\n",
       " 'QRdecomposition',\n",
       " 'QRsolve',\n",
       " 'T',\n",
       " '_LDLdecomposition',\n",
       " '__abs__',\n",
       " '__add__',\n",
       " '__array__',\n",
       " '__array_priority__',\n",
       " '__class__',\n",
       " '__delattr__',\n",
       " '__dict__',\n",
       " '__dir__',\n",
       " '__div__',\n",
       " '__doc__',\n",
       " '__eq__',\n",
       " '__format__',\n",
       " '__ge__',\n",
       " '__getattr__',\n",
       " '__getattribute__',\n",
       " '__getitem__',\n",
       " '__gt__',\n",
       " '__hash__',\n",
       " '__init__',\n",
       " '__init_subclass__',\n",
       " '__le__',\n",
       " '__len__',\n",
       " '__lt__',\n",
       " '__mathml__',\n",
       " '__matmul__',\n",
       " '__module__',\n",
       " '__mul__',\n",
       " '__ne__',\n",
       " '__neg__',\n",
       " '__new__',\n",
       " '__pow__',\n",
       " '__radd__',\n",
       " '__reduce__',\n",
       " '__reduce_ex__',\n",
       " '__repr__',\n",
       " '__rmatmul__',\n",
       " '__rmul__',\n",
       " '__rsub__',\n",
       " '__setattr__',\n",
       " '__setitem__',\n",
       " '__sizeof__',\n",
       " '__str__',\n",
       " '__sub__',\n",
       " '__subclasshook__',\n",
       " '__truediv__',\n",
       " '__weakref__',\n",
       " '_accept_eval_derivative',\n",
       " '_cache_eigenvects',\n",
       " '_cache_is_diagonalizable',\n",
       " '_cholesky',\n",
       " '_class_priority',\n",
       " '_diagonal_solve',\n",
       " '_diagonalize_clear_subproducts',\n",
       " '_diff_wrt',\n",
       " '_eval_Abs',\n",
       " '_eval_Mod',\n",
       " '_eval_add',\n",
       " '_eval_adjoint',\n",
       " '_eval_applyfunc',\n",
       " '_eval_as_real_imag',\n",
       " '_eval_atoms',\n",
       " '_eval_berkowitz_toeplitz_matrix',\n",
       " '_eval_berkowitz_vector',\n",
       " '_eval_col_del',\n",
       " '_eval_col_insert',\n",
       " '_eval_col_join',\n",
       " '_eval_col_op_add_multiple_to_other_col',\n",
       " '_eval_col_op_multiply_col_by_const',\n",
       " '_eval_col_op_swap',\n",
       " '_eval_conjugate',\n",
       " '_eval_derivative',\n",
       " '_eval_det_bareiss',\n",
       " '_eval_det_berkowitz',\n",
       " '_eval_det_lu',\n",
       " '_eval_determinant',\n",
       " '_eval_diag',\n",
       " '_eval_echelon_form',\n",
       " '_eval_extract',\n",
       " '_eval_eye',\n",
       " '_eval_free_symbols',\n",
       " '_eval_get_diag_blocks',\n",
       " '_eval_has',\n",
       " '_eval_inverse',\n",
       " '_eval_is_Identity',\n",
       " '_eval_is_anti_symmetric',\n",
       " '_eval_is_diagonal',\n",
       " '_eval_is_echelon',\n",
       " '_eval_is_lower',\n",
       " '_eval_is_lower_hessenberg',\n",
       " '_eval_is_matrix_hermitian',\n",
       " '_eval_is_symbolic',\n",
       " '_eval_is_symmetric',\n",
       " '_eval_is_upper_hessenberg',\n",
       " '_eval_is_zero',\n",
       " '_eval_jordan_block',\n",
       " '_eval_matrix_mul',\n",
       " '_eval_matrix_mul_elementwise',\n",
       " '_eval_matrix_rmul',\n",
       " '_eval_ones',\n",
       " '_eval_permute_cols',\n",
       " '_eval_permute_rows',\n",
       " '_eval_pow_by_recursion',\n",
       " '_eval_row_del',\n",
       " '_eval_row_insert',\n",
       " '_eval_row_join',\n",
       " '_eval_row_op_add_multiple_to_other_row',\n",
       " '_eval_row_op_multiply_row_by_const',\n",
       " '_eval_row_op_swap',\n",
       " '_eval_rref',\n",
       " '_eval_scalar_mul',\n",
       " '_eval_scalar_rmul',\n",
       " '_eval_simplify',\n",
       " '_eval_tolist',\n",
       " '_eval_trace',\n",
       " '_eval_transpose',\n",
       " '_eval_trigsimp',\n",
       " '_eval_values',\n",
       " '_eval_vec',\n",
       " '_eval_zeros',\n",
       " '_format_str',\n",
       " '_handle_creation_inputs',\n",
       " '_legacy_array_dot',\n",
       " '_lower_triangular_solve',\n",
       " '_mat',\n",
       " '_matrix_pow_by_jordan_blocks',\n",
       " '_new',\n",
       " '_normalize_op_args',\n",
       " '_op_priority',\n",
       " '_permute_complexity_right',\n",
       " '_repr_latex_',\n",
       " '_repr_latex_orig',\n",
       " '_row_reduce',\n",
       " '_setitem',\n",
       " '_simplify',\n",
       " '_sympify',\n",
       " '_upper_triangular_solve',\n",
       " '_visit_eval_derivative_array',\n",
       " '_visit_eval_derivative_scalar',\n",
       " 'add',\n",
       " 'adjoint',\n",
       " 'adjugate',\n",
       " 'applyfunc',\n",
       " 'as_immutable',\n",
       " 'as_mutable',\n",
       " 'as_real_imag',\n",
       " 'atoms',\n",
       " 'berkowitz',\n",
       " 'berkowitz_charpoly',\n",
       " 'berkowitz_det',\n",
       " 'berkowitz_eigenvals',\n",
       " 'berkowitz_minors',\n",
       " 'charpoly',\n",
       " 'cholesky',\n",
       " 'cholesky_solve',\n",
       " 'cofactor',\n",
       " 'cofactorMatrix',\n",
       " 'cofactor_matrix',\n",
       " 'col',\n",
       " 'col_del',\n",
       " 'col_insert',\n",
       " 'col_join',\n",
       " 'col_op',\n",
       " 'col_swap',\n",
       " 'cols',\n",
       " 'columnspace',\n",
       " 'condition_number',\n",
       " 'conjugate',\n",
       " 'copy',\n",
       " 'copyin_list',\n",
       " 'copyin_matrix',\n",
       " 'cross',\n",
       " 'det',\n",
       " 'det_LU_decomposition',\n",
       " 'det_bareis',\n",
       " 'det_bareiss',\n",
       " 'diag',\n",
       " 'diagonal_solve',\n",
       " 'diagonalize',\n",
       " 'diff',\n",
       " 'doit',\n",
       " 'dot',\n",
       " 'dual',\n",
       " 'echelon_form',\n",
       " 'eigenvals',\n",
       " 'eigenvects',\n",
       " 'elementary_col_op',\n",
       " 'elementary_row_op',\n",
       " 'equals',\n",
       " 'evalf',\n",
       " 'exp',\n",
       " 'expand',\n",
       " 'extract',\n",
       " 'eye',\n",
       " 'fill',\n",
       " 'free_symbols',\n",
       " 'gauss_jordan_solve',\n",
       " 'get_diag_blocks',\n",
       " 'has',\n",
       " 'hstack',\n",
       " 'integrate',\n",
       " 'inv',\n",
       " 'inv_mod',\n",
       " 'inverse_ADJ',\n",
       " 'inverse_GE',\n",
       " 'inverse_LU',\n",
       " 'is_Identity',\n",
       " 'is_Matrix',\n",
       " 'is_MatrixExpr',\n",
       " 'is_anti_symmetric',\n",
       " 'is_diagonal',\n",
       " 'is_diagonalizable',\n",
       " 'is_echelon',\n",
       " 'is_hermitian',\n",
       " 'is_lower',\n",
       " 'is_lower_hessenberg',\n",
       " 'is_nilpotent',\n",
       " 'is_square',\n",
       " 'is_symbolic',\n",
       " 'is_symmetric',\n",
       " 'is_upper',\n",
       " 'is_upper_hessenberg',\n",
       " 'is_zero',\n",
       " 'jacobian',\n",
       " 'jordan_block',\n",
       " 'jordan_cell',\n",
       " 'jordan_cells',\n",
       " 'jordan_form',\n",
       " 'key2bounds',\n",
       " 'key2ij',\n",
       " 'left_eigenvects',\n",
       " 'limit',\n",
       " 'lower_triangular_solve',\n",
       " 'minor',\n",
       " 'minorEntry',\n",
       " 'minorMatrix',\n",
       " 'minor_submatrix',\n",
       " 'multiply',\n",
       " 'multiply_elementwise',\n",
       " 'n',\n",
       " 'norm',\n",
       " 'normalized',\n",
       " 'nullspace',\n",
       " 'ones',\n",
       " 'orthogonalize',\n",
       " 'permute',\n",
       " 'permuteBkwd',\n",
       " 'permuteFwd',\n",
       " 'permute_cols',\n",
       " 'permute_rows',\n",
       " 'pinv',\n",
       " 'pinv_solve',\n",
       " 'print_nonzero',\n",
       " 'project',\n",
       " 'rank',\n",
       " 'rank_decomposition',\n",
       " 'refine',\n",
       " 'replace',\n",
       " 'reshape',\n",
       " 'row',\n",
       " 'row_del',\n",
       " 'row_insert',\n",
       " 'row_join',\n",
       " 'row_op',\n",
       " 'row_swap',\n",
       " 'rows',\n",
       " 'rowspace',\n",
       " 'rref',\n",
       " 'shape',\n",
       " 'simplify',\n",
       " 'singular_values',\n",
       " 'solve',\n",
       " 'solve_least_squares',\n",
       " 'subs',\n",
       " 'table',\n",
       " 'tolist',\n",
       " 'trace',\n",
       " 'transpose',\n",
       " 'upper_triangular_solve',\n",
       " 'values',\n",
       " 'vec',\n",
       " 'vech',\n",
       " 'vstack',\n",
       " 'xreplace',\n",
       " 'zeros',\n",
       " 'zip_row_op']"
      ]
     },
     "execution_count": 44,
     "metadata": {},
     "output_type": "execute_result"
    }
   ],
   "source": [
    "dir(test)"
   ]
  },
  {
   "cell_type": "code",
   "execution_count": 1,
   "metadata": {},
   "outputs": [],
   "source": [
    "from astropy.io import fits\n",
    "\n",
    "test=fits.open('/lsst/troxel/y1a1/lgt20_member_mcal_combined_masked.fits')[1].data"
   ]
  },
  {
   "cell_type": "code",
   "execution_count": 2,
   "metadata": {},
   "outputs": [
    {
     "data": {
      "text/plain": [
       "FITS_rec([(  620, 0.6195673 , 317.677388,   0.374833, 0.9359845 , 0.37668574, 1., 1.        , 0.3735815 , [23.936417, 22.699234, 21.887648, 21.394642], [0.21665056, 0.08458415, 0.08165719, 0.06625264], 21.394642, 0.06625264, 21.394642, 0.06625264, 0.5699856 , 0.02964939, 0.5658164 , 0.03096493,  4.8996563, 0., -1., 3007825807, 21.394642, 0.06625264, -0.11620652,  0.30772882, 0),\n",
       "          (  620, 0.6195673 , 317.699737,   0.375196, 0.82037365, 0.64015824, 1., 0.91338086, 0.97669536, [24.573011, 23.020987, 22.204763, 21.820244], [0.37513608, 0.11011413, 0.10478773, 0.0917574 ], 21.820244, 0.0917574 , 21.820244, 0.0917574 , 0.5620036 , 0.03712609, 0.55829316, 0.03786867,  1.1743062, 0., -1., 3007825827, 21.820244, 0.0917574 ,  0.14884643,  0.27462463, 0),\n",
       "          (27440, 0.86541253, 317.794355,   0.494609, 0.8178727 , 0.0396228 , 1., 1.        , 0.29946288, [23.44639 , 22.420584, 21.427374, 20.720676], [0.16972046, 0.07665789, 0.06010197, 0.0534607 ], 20.720676, 0.0534607 , 20.720676, 0.0534607 , 0.91417223, 0.02567202, 0.90504897, 0.03516678, 11.073144 , 0., -1., 3007833567, 20.720676, 0.0534607 ,  0.12349084,  0.0817527 , 0),\n",
       "          ...,\n",
       "          ( 3274, 0.8804348 , 307.854786, -54.3519  , 0.71616507, 0.3114723 , 1., 1.        , 0.99955654, [25.2656  , 22.738523, 21.702568, 21.118034], [0.41788903, 0.06913365, 0.05447042, 0.05906022], 21.118034, 0.05906022, 21.118034, 0.05906022, 0.74258304, 0.03546221, 0.7281777 , 0.03546221,  6.696568 , 0., -1., 3159964153, 21.118034, 0.05906022,  0.07512814,  0.09652877, 0),\n",
       "          ( 3274, 0.8804348 , 307.955722, -54.348451, 0.8418558 , 0.4465742 , 1., 1.        , 0.7911207 , [25.073372, 22.904324, 21.780537, 21.250477], [0.42282563, 0.08392917, 0.05505835, 0.06477373], 21.250477, 0.06477373, 21.250477, 0.06477373, 0.77289873, 0.03220297, 0.7621892 , 0.03312469,  4.0191903, 0., -1., 3159964436, 21.250477, 0.06477373, -0.61345063, -0.25471378, 0),\n",
       "          ( 3274, 0.8804348 , 307.892367, -54.345326, 0.6275083 , 0.65314204, 1., 1.        , 0.9999998 , [25.497332, 23.855795, 22.543562, 21.801899], [0.43975368, 0.13333906, 0.07162251, 0.07439488], 21.801899, 0.07439488, 21.801899, 0.07439488, 0.92641664, 0.0279657 , 0.9161752 , 0.03723101,  1.2566712, 0., -1., 3159964619, 21.801899, 0.07439488,  0.0282694 , -0.02044059, 0)],\n",
       "         dtype=(numpy.record, [('MEM_MATCH_ID', '>i4'), ('Z', '>f4'), ('RA', '>f8'), ('DEC', '>f8'), ('R', '>f4'), ('P', '>f4'), ('PFREE', '>f4'), ('THETA_I', '>f4'), ('THETA_R', '>f4'), ('MODEL_MAG', '>f4', (4,)), ('MODEL_MAGERR', '>f4', (4,)), ('REFMAG_FIT', '>f4'), ('REFMAG_FIT_E', '>f4'), ('REFMAG', '>f4'), ('REFMAG_ERR', '>f4'), ('ZRED', '>f4'), ('ZRED_E', '>f4'), ('ZRED2', '>f4'), ('ZRED2_E', '>f4'), ('CHISQ', '>f4'), ('EBV', '>f4'), ('ZSPEC', '>f4'), ('ID', '>i8'), ('ZMAG', '>f4'), ('ZMAG_ERR', '>f4'), ('e1', '>f8'), ('e2', '>f8'), ('flags_select', '>i8')]))"
      ]
     },
     "execution_count": 2,
     "metadata": {},
     "output_type": "execute_result"
    }
   ],
   "source": [
    "test"
   ]
  },
  {
   "cell_type": "code",
   "execution_count": 4,
   "metadata": {},
   "outputs": [
    {
     "data": {
      "text/plain": [
       "array([317.677388, 317.699737, 317.794355, ..., 307.854786, 307.955722,\n",
       "       307.892367])"
      ]
     },
     "execution_count": 4,
     "metadata": {},
     "output_type": "execute_result"
    }
   ],
   "source": [
    "test['RA']"
   ]
  },
  {
   "cell_type": "code",
   "execution_count": 130,
   "metadata": {},
   "outputs": [],
   "source": [
    "from astropy.table import Table\n",
    "shapes = Table.read('/lsst/troxel/y1a1/lgt20_member_mcal_combined_masked.fits', format='fits')"
   ]
  },
  {
   "cell_type": "code",
   "execution_count": 131,
   "metadata": {},
   "outputs": [],
   "source": [
    "clusters = Table.read('/lsst/troxel/y1a1/lgt20_cluster_masked.fits', format='fits')"
   ]
  },
  {
   "cell_type": "code",
   "execution_count": 132,
   "metadata": {},
   "outputs": [],
   "source": [
    "from astropy.coordinates import SkyCoord  # High-level coordinates\n",
    "import astropy.units as u\n",
    "def get_theta_for_obj(obj1,obj2):\n",
    "    ra1,dec1=(obj1['RA'],obj1['DEC'])\n",
    "    ra2,dec2=(obj2['RA'],obj2['DEC'])\n",
    "    \n",
    "    \n",
    "    \n",
    "    c1=SkyCoord(ra1*u.deg,dec1*u.deg)\n",
    "    c2=SkyCoord(ra2*u.deg,dec2*u.deg)\n",
    "    \n",
    "    \n",
    "    return(90-c1.position_angle(c2).degree)"
   ]
  },
  {
   "cell_type": "code",
   "execution_count": 133,
   "metadata": {},
   "outputs": [],
   "source": [
    "def get_rel_theta(member):\n",
    "    cluster=clusters[clusters['MEM_MATCH_ID']==member['MEM_MATCH_ID']]\n",
    "    center_id=cluster['ID_CENT'][0]\n",
    "    center=shapes[shapes['ID']==center_id]\n",
    "    theta=get_theta_for_obj(center,member)\n",
    "    return(theta)"
   ]
  },
  {
   "cell_type": "code",
   "execution_count": 134,
   "metadata": {},
   "outputs": [
    {
     "data": {
      "text/plain": [
       "(array([  380.,   296.,   477.,   620.,   413.,   616.,   591.,   738.,\n",
       "          679.,   840.,   783.,   878.,  1190.,  1235.,  2378.,  1956.,\n",
       "         1524.,  6152.,  9262., 10520., 13486., 16973., 15392., 20565.,\n",
       "        20213., 18608., 16854., 16474., 23935., 26737., 24315., 20814.,\n",
       "        27009., 19683., 19132., 17992., 15565.,  5058.,  1930.,  2065.,\n",
       "         1567.,  1449.,  1100.,   805.,   800.,  1207.,  1233.,   822.,\n",
       "          872.,  1380.,   996.,   721.,   860.,  1301.,  1947.,  1736.,\n",
       "         3027.,  4737.,  6283.,  5600.,  4385.,  3940.,  4065.,  4173.,\n",
       "         3892.,  4894.,  5000.,  3154.,  4555.,  5384.,  5065.,  3244.,\n",
       "         3887.,  2491.,  2404.,  2275.,  1718.,  1616.,  1318.,   906.,\n",
       "          959.,   894.,   861.,   719.,   678.,   838.,   634.,   687.,\n",
       "          568.,   860.]),\n",
       " array([-269.99680786, -265.99684333, -261.9968788 , -257.99691427,\n",
       "        -253.99694974, -249.99698521, -245.99702067, -241.99705614,\n",
       "        -237.99709161, -233.99712708, -229.99716255, -225.99719801,\n",
       "        -221.99723348, -217.99726895, -213.99730442, -209.99733989,\n",
       "        -205.99737536, -201.99741082, -197.99744629, -193.99748176,\n",
       "        -189.99751723, -185.9975527 , -181.99758816, -177.99762363,\n",
       "        -173.9976591 , -169.99769457, -165.99773004, -161.99776551,\n",
       "        -157.99780097, -153.99783644, -149.99787191, -145.99790738,\n",
       "        -141.99794285, -137.99797831, -133.99801378, -129.99804925,\n",
       "        -125.99808472, -121.99812019, -117.99815566, -113.99819112,\n",
       "        -109.99822659, -105.99826206, -101.99829753,  -97.998333  ,\n",
       "         -93.99836846,  -89.99840393,  -85.9984394 ,  -81.99847487,\n",
       "         -77.99851034,  -73.9985458 ,  -69.99858127,  -65.99861674,\n",
       "         -61.99865221,  -57.99868768,  -53.99872315,  -49.99875861,\n",
       "         -45.99879408,  -41.99882955,  -37.99886502,  -33.99890049,\n",
       "         -29.99893595,  -25.99897142,  -21.99900689,  -17.99904236,\n",
       "         -13.99907783,   -9.9991133 ,   -5.99914876,   -1.99918423,\n",
       "           2.0007803 ,    6.00074483,   10.00070936,   14.0006739 ,\n",
       "          18.00063843,   22.00060296,   26.00056749,   30.00053202,\n",
       "          34.00049655,   38.00046109,   42.00042562,   46.00039015,\n",
       "          50.00035468,   54.00031921,   58.00028375,   62.00024828,\n",
       "          66.00021281,   70.00017734,   74.00014187,   78.0001064 ,\n",
       "          82.00007094,   86.00003547,   90.        ]),\n",
       " <a list of 90 Patch objects>)"
      ]
     },
     "execution_count": 134,
     "metadata": {},
     "output_type": "execute_result"
    },
    {
     "data": {
      "image/png": "[encoded data removed]",
      "text/plain": [
       "<Figure size 432x288 with 1 Axes>"
      ]
     },
     "metadata": {
      "needs_background": "light"
     },
     "output_type": "display_data"
    }
   ],
   "source": [
    "test=get_rel_theta(shapes)\n",
    "\n",
    "import matplotlib.pyplot as plt\n",
    "plt.hist(test,bins=90)"
   ]
  },
  {
   "cell_type": "code",
   "execution_count": 129,
   "metadata": {},
   "outputs": [
    {
     "data": {
      "text/html": [
       "<i>Row index=400000</i>\n",
       "<table id=\"table139982061128056\">\n",
       "<thead><tr><th>MEM_MATCH_ID</th><th>Z</th><th>RA</th><th>DEC</th><th>R</th><th>P</th><th>PFREE</th><th>THETA_I</th><th>THETA_R</th><th>MODEL_MAG [4]</th><th>MODEL_MAGERR [4]</th><th>REFMAG_FIT</th><th>REFMAG_FIT_E</th><th>REFMAG</th><th>REFMAG_ERR</th><th>ZRED</th><th>ZRED_E</th><th>ZRED2</th><th>ZRED2_E</th><th>CHISQ</th><th>EBV</th><th>ZSPEC</th><th>ID</th><th>ZMAG</th><th>ZMAG_ERR</th><th>e1</th><th>e2</th><th>flags_select</th></tr></thead>\n",
       "<thead><tr><th>int32</th><th>float32</th><th>float64</th><th>float64</th><th>float32</th><th>float32</th><th>float32</th><th>float32</th><th>float32</th><th>float32</th><th>float32</th><th>float32</th><th>float32</th><th>float32</th><th>float32</th><th>float32</th><th>float32</th><th>float32</th><th>float32</th><th>float32</th><th>float32</th><th>float32</th><th>int64</th><th>float32</th><th>float32</th><th>float64</th><th>float64</th><th>int64</th></tr></thead>\n",
       "<tr><td>5887</td><td>0.4877638</td><td>354.647498</td><td>-46.996916999999996</td><td>0.36694467</td><td>0.8906776</td><td>1.0</td><td>1.0</td><td>1.0</td><td>22.333103 .. 19.57226</td><td>0.043343037 .. 0.02011184</td><td>19.57226</td><td>0.02011184</td><td>19.57226</td><td>0.02011184</td><td>0.47980618</td><td>0.018919446</td><td>0.47945076</td><td>0.017249577</td><td>0.2635038</td><td>0.0</td><td>-1.0</td><td>3130863376</td><td>19.57226</td><td>0.02011184</td><td>-0.007164748145162531</td><td>0.027846042545768102</td><td>0</td></tr>\n",
       "</table>"
      ],
      "text/plain": [
       "<Row index=400000>\n",
       "MEM_MATCH_ID     Z         RA             DEC             R          P      PFREE  THETA_I THETA_R     MODEL_MAG [4]          MODEL_MAGERR [4]     REFMAG_FIT REFMAG_FIT_E  REFMAG  REFMAG_ERR    ZRED       ZRED_E     ZRED2      ZRED2_E     CHISQ     EBV    ZSPEC      ID       ZMAG    ZMAG_ERR            e1                   e2          flags_select\n",
       "   int32      float32   float64         float64        float32    float32  float32 float32 float32        float32                 float32           float32     float32    float32   float32    float32     float32    float32     float32    float32  float32 float32   int64    float32   float32          float64              float64           int64    \n",
       "------------ --------- ---------- ------------------- ---------- --------- ------- ------- ------- --------------------- ------------------------- ---------- ------------ -------- ---------- ---------- ----------- ---------- ----------- --------- ------- ------- ---------- -------- ---------- --------------------- -------------------- ------------\n",
       "        5887 0.4877638 354.647498 -46.996916999999996 0.36694467 0.8906776     1.0     1.0     1.0 22.333103 .. 19.57226 0.043343037 .. 0.02011184   19.57226   0.02011184 19.57226 0.02011184 0.47980618 0.018919446 0.47945076 0.017249577 0.2635038     0.0    -1.0 3130863376 19.57226 0.02011184 -0.007164748145162531 0.027846042545768102            0"
      ]
     },
     "execution_count": 129,
     "metadata": {},
     "output_type": "execute_result"
    }
   ],
   "source": [
    "shapes[400000]"
   ]
  },
  {
   "cell_type": "code",
   "execution_count": 111,
   "metadata": {},
   "outputs": [
    {
     "data": {
      "text/plain": [
       "False"
      ]
     },
     "execution_count": 111,
     "metadata": {},
     "output_type": "execute_result"
    }
   ],
   "source": [
    "import numpy as np\n",
    "np.any(shapes['flags_select'])"
   ]
  },
  {
   "cell_type": "code",
   "execution_count": 112,
   "metadata": {},
   "outputs": [],
   "source": [
    "test_2=shapes[shapes['P']*shapes['PFREE']>=0.55]\n",
    "test_3=get_rel_theta(test_2)"
   ]
  },
  {
   "cell_type": "code",
   "execution_count": 113,
   "metadata": {},
   "outputs": [
    {
     "data": {
      "text/plain": [
       "(array([  198.,   146.,   288.,   331.,   251.,   349.,   327.,   416.,\n",
       "          395.,   531.,   491.,   508.,   640.,   699.,  1309.,  1123.,\n",
       "          929.,  3581.,  5503.,  6192.,  7561.,  9496.,  8649., 11781.,\n",
       "        11871., 10812.,  9614.,  9401., 13616., 15325., 13656., 11850.,\n",
       "        15409., 11347., 10617., 10270.,  8524.,  2783.,  1111.,  1196.,\n",
       "          935.,   868.,   566.,   402.,   501.,   683.,   680.,   410.,\n",
       "          514.,   858.,   568.,   428.,   478.,   815.,  1085.,  1010.,\n",
       "         1636.,  2645.,  3488.,  3015.,  2405.,  2207.,  2317.,  2341.,\n",
       "         2127.,  2901.,  2872.,  1792.,  2693.,  2821.,  2799.,  1807.,\n",
       "         2141.,  1457.,  1371.,  1338.,  1013.,   957.,   811.,   471.,\n",
       "          548.,   484.,   443.,   398.,   372.,   483.,   332.,   381.,\n",
       "          324.,   439.]),\n",
       " array([-269.97274114, -265.97304401, -261.97334689, -257.97364976,\n",
       "        -253.97395264, -249.97425552, -245.97455839, -241.97486127,\n",
       "        -237.97516415, -233.97546702, -229.9757699 , -225.97607277,\n",
       "        -221.97637565, -217.97667853, -213.9769814 , -209.97728428,\n",
       "        -205.97758716, -201.97789003, -197.97819291, -193.97849578,\n",
       "        -189.97879866, -185.97910154, -181.97940441, -177.97970729,\n",
       "        -173.98001017, -169.98031304, -165.98061592, -161.98091879,\n",
       "        -157.98122167, -153.98152455, -149.98182742, -145.9821303 ,\n",
       "        -141.98243318, -137.98273605, -133.98303893, -129.98334181,\n",
       "        -125.98364468, -121.98394756, -117.98425043, -113.98455331,\n",
       "        -109.98485619, -105.98515906, -101.98546194,  -97.98576482,\n",
       "         -93.98606769,  -89.98637057,  -85.98667344,  -81.98697632,\n",
       "         -77.9872792 ,  -73.98758207,  -69.98788495,  -65.98818783,\n",
       "         -61.9884907 ,  -57.98879358,  -53.98909645,  -49.98939933,\n",
       "         -45.98970221,  -41.99000508,  -37.99030796,  -33.99061084,\n",
       "         -29.99091371,  -25.99121659,  -21.99151946,  -17.99182234,\n",
       "         -13.99212522,   -9.99242809,   -5.99273097,   -1.99303385,\n",
       "           2.00666328,    6.0063604 ,   10.00605753,   14.00575465,\n",
       "          18.00545177,   22.0051489 ,   26.00484602,   30.00454314,\n",
       "          34.00424027,   38.00393739,   42.00363452,   46.00333164,\n",
       "          50.00302876,   54.00272589,   58.00242301,   62.00212013,\n",
       "          66.00181726,   70.00151438,   74.00121151,   78.00090863,\n",
       "          82.00060575,   86.00030288,   90.        ]),\n",
       " <a list of 90 Patch objects>)"
      ]
     },
     "execution_count": 113,
     "metadata": {},
     "output_type": "execute_result"
    },
    {
     "data": {
      "image/png": "[encoded data removed]",
      "text/plain": [
       "<Figure size 432x288 with 1 Axes>"
      ]
     },
     "metadata": {
      "needs_background": "light"
     },
     "output_type": "display_data"
    }
   ],
   "source": [
    "import matplotlib.pyplot as plt\n",
    "\n",
    "plt.hist(test_3,bins=90)"
   ]
  },
  {
   "cell_type": "code",
   "execution_count": 117,
   "metadata": {},
   "outputs": [
    {
     "data": {
      "text/plain": [
       "1"
      ]
     },
     "execution_count": 117,
     "metadata": {},
     "output_type": "execute_result"
    }
   ],
   "source": [
    "np.sum(test_3==90)"
   ]
  },
  {
   "cell_type": "code",
   "execution_count": 67,
   "metadata": {
    "tags": [
     "parameters"
    ]
   },
   "outputs": [],
   "source": [
    "shape_cat=\"mcal\"\n",
    "vol=\"all\""
   ]
  },
  {
   "cell_type": "code",
   "execution_count": 68,
   "metadata": {},
   "outputs": [],
   "source": [
    "from astropy.io import fits\n",
    "from astropy.table import Table\n",
    "import pandas as pd\n",
    "import fitsio as fio\n",
    "import numpy as np\n",
    "import ast\n",
    "\n",
    "import astropy.cosmology\n",
    "from astropy.coordinates import SkyCoord  # High-level coordinates\n",
    "from astropy.coordinates import ICRS, Galactic, FK4, FK5  # Low-level frames\n",
    "from astropy.coordinates import Angle, Latitude, Longitude  # Angles\n",
    "import astropy.units as u\n",
    "from IPython.display import display, Math"
   ]
  },
  {
   "cell_type": "code",
   "execution_count": 69,
   "metadata": {},
   "outputs": [
    {
     "name": "stdout",
     "output_type": "stream",
     "text": [
      "809723\n",
      "16966\n",
      "5621\n"
     ]
    }
   ],
   "source": [
    "if vol==\"vlim\":\n",
    "    cluster_table=Table(fits.open('/lsst/troxel/y1a1/y1a1_gold_1.0.3-d10-mof-001d_run_redmapper_v6.4.17-vlim_lgt20_desformat_catalog.fit')[1].data)\n",
    "    member_table=Table(fits.open('/lsst/troxel/y1a1/y1a1_gold_1.0.3-d10-mof-001d_run_redmapper_v6.4.17-vlim_lgt20_desformat_catalog_members.fit')[1].data)\n",
    "    random_table=Table(fits.open('/lsst/troxel/y1a1/y1a1_gold_1.0.3_wide+d10-mof-001d_run_redmapper_v6.4.17-2_randcat_z0.10-0.95_lgt020_vl50.fit')[1].data)\n",
    "elif vol==\"all\":\n",
    "    cluster_table=Table(fits.open('/lsst/troxel/y1a1/y1a1_gold_1.0.3-d10-mof-001d_run_redmapper_v6.4.17_lgt20_desformat_catalog.fit')[1].data)\n",
    "    member_table=Table(fits.open('/lsst/troxel/y1a1/y1a1_gold_1.0.3-d10-mof-001d_run_redmapper_v6.4.17_lgt20_desformat_catalog_members.fit')[1].data)\n",
    "    random_table=Table(fits.open('/lsst/troxel/y1a1/y1a1_gold_1.0.3_wide+d10-mof-001d_run_redmapper_v6.4.17-2_randcat_z0.10-0.95_lgt020_vl02.fit')[1].data)\n",
    "else:\n",
    "    raise TypeError(\"Wrong vol\")\n",
    "cluster_table.remove_columns(['P_C','C_LAMBDA','C_LAMBDA_ERR','Q_CEN']) #unknown columns\n",
    "\n",
    "print(len(member_table))\n",
    "print(len(cluster_table))\n",
    "print(len(member_table['ID'])-len(np.unique(member_table['ID'])))"
   ]
  },
  {
   "cell_type": "code",
   "execution_count": 73,
   "metadata": {},
   "outputs": [],
   "source": [
    "shapes=member_table\n",
    "clusters=cluster_table"
   ]
  },
  {
   "cell_type": "code",
   "execution_count": 74,
   "metadata": {},
   "outputs": [],
   "source": [
    "test=get_rel_theta(shapes)"
   ]
  },
  {
   "cell_type": "code",
   "execution_count": 78,
   "metadata": {},
   "outputs": [
    {
     "data": {
      "text/plain": [
       "(array([5.9180e+03, 5.8000e+03, 7.1950e+03, 5.7130e+03, 6.3260e+03,\n",
       "        4.9180e+03, 5.7000e+03, 4.8270e+03, 5.8840e+03, 6.8500e+03,\n",
       "        7.0360e+03, 7.2670e+03, 9.5720e+03, 1.0551e+04, 1.0426e+04,\n",
       "        1.2248e+04, 1.3403e+04, 1.4185e+04, 1.6381e+04, 1.9367e+04,\n",
       "        2.1951e+04, 2.1679e+04, 1.6375e+04, 1.2483e+04, 1.3770e+04,\n",
       "        1.2068e+04, 9.2680e+03, 3.8620e+03, 2.7000e+01, 4.0000e+00,\n",
       "        5.0000e+00, 7.8000e+01, 8.1000e+01, 6.0000e+00, 6.0000e+00,\n",
       "        7.0000e+00, 1.5000e+01, 1.8000e+01, 1.7000e+01, 1.7000e+01,\n",
       "        6.9600e+02, 4.9000e+01, 5.0000e+00, 5.0000e+00, 1.1000e+01,\n",
       "        2.3000e+01, 9.0000e+00, 4.1000e+01, 5.7000e+01, 7.4000e+01,\n",
       "        6.7000e+01, 6.3000e+01, 1.3500e+02, 3.8000e+01, 8.6000e+01,\n",
       "        1.2940e+03, 1.2284e+04, 2.4161e+04, 2.0680e+04, 2.0750e+04,\n",
       "        1.7493e+04, 1.8223e+04, 1.4370e+04, 1.2177e+04, 1.6063e+04,\n",
       "        2.4970e+04, 2.4578e+04, 2.1203e+04, 2.1930e+04, 2.7931e+04,\n",
       "        2.5787e+04, 2.1412e+04, 2.3369e+04, 1.8632e+04, 1.7347e+04,\n",
       "        1.6841e+04, 1.6088e+04, 1.4467e+04, 9.4030e+03, 7.3000e+03,\n",
       "        5.4790e+03, 7.2470e+03, 8.9830e+03, 8.9810e+03, 6.5970e+03,\n",
       "        7.1640e+03, 6.5810e+03, 6.4960e+03, 5.9650e+03, 4.8140e+03]),\n",
       " array([  0.        ,   3.99997692,   7.99995384,  11.99993076,\n",
       "         15.99990769,  19.99988461,  23.99986153,  27.99983845,\n",
       "         31.99981537,  35.99979229,  39.99976921,  43.99974614,\n",
       "         47.99972306,  51.99969998,  55.9996769 ,  59.99965382,\n",
       "         63.99963074,  67.99960766,  71.99958458,  75.99956151,\n",
       "         79.99953843,  83.99951535,  87.99949227,  91.99946919,\n",
       "         95.99944611,  99.99942303, 103.99939996, 107.99937688,\n",
       "        111.9993538 , 115.99933072, 119.99930764, 123.99928456,\n",
       "        127.99926148, 131.99923841, 135.99921533, 139.99919225,\n",
       "        143.99916917, 147.99914609, 151.99912301, 155.99909993,\n",
       "        159.99907686, 163.99905378, 167.9990307 , 171.99900762,\n",
       "        175.99898454, 179.99896146, 183.99893838, 187.9989153 ,\n",
       "        191.99889223, 195.99886915, 199.99884607, 203.99882299,\n",
       "        207.99879991, 211.99877683, 215.99875375, 219.99873068,\n",
       "        223.9987076 , 227.99868452, 231.99866144, 235.99863836,\n",
       "        239.99861528, 243.9985922 , 247.99856913, 251.99854605,\n",
       "        255.99852297, 259.99849989, 263.99847681, 267.99845373,\n",
       "        271.99843065, 275.99840758, 279.9983845 , 283.99836142,\n",
       "        287.99833834, 291.99831526, 295.99829218, 299.9982691 ,\n",
       "        303.99824602, 307.99822295, 311.99819987, 315.99817679,\n",
       "        319.99815371, 323.99813063, 327.99810755, 331.99808447,\n",
       "        335.9980614 , 339.99803832, 343.99801524, 347.99799216,\n",
       "        351.99796908, 355.997946  , 359.99792292]),\n",
       " <a list of 90 Patch objects>)"
      ]
     },
     "execution_count": 78,
     "metadata": {},
     "output_type": "execute_result"
    },
    {
     "data": {
      "image/png": "[encoded data removed]",
      "text/plain": [
       "<Figure size 432x288 with 1 Axes>"
      ]
     },
     "metadata": {
      "needs_background": "light"
     },
     "output_type": "display_data"
    }
   ],
   "source": [
    "plt.hist(test,bins=90)"
   ]
  },
  {
   "cell_type": "code",
   "execution_count": 89,
   "metadata": {},
   "outputs": [
    {
     "data": {
      "text/plain": [
       "0"
      ]
     },
     "execution_count": 89,
     "metadata": {},
     "output_type": "execute_result"
    }
   ],
   "source": [
    "shapes[]"
   ]
  }
 ],
 "metadata": {
  "kernelspec": {
   "display_name": "Python 3",
   "language": "python",
   "name": "python3"
  },
  "language_info": {
   "codemirror_mode": {
    "name": "ipython",
    "version": 3
   },
   "file_extension": ".py",
   "mimetype": "text/x-python",
   "name": "python",
   "nbconvert_exporter": "python",
   "pygments_lexer": "ipython3",
   "version": "3.7.3"
  }
 },
 "nbformat": 4,
 "nbformat_minor": 4
}
