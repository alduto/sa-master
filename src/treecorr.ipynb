{
 "cells": [
  {
   "cell_type": "code",
   "execution_count": 1,
   "metadata": {
    "tags": [
     "parameters"
    ]
   },
   "outputs": [],
   "source": [
    "shape_cat=\"\"\n",
    "vol=\"\"\n",
    "z_range=\"\"\n",
    "key=\"\"\n",
    "quantile=\"\"\n",
    "test=\"\"\n",
    "z_diff=\"\""
   ]
  },
  {
   "cell_type": "code",
   "execution_count": 2,
   "metadata": {},
   "outputs": [],
   "source": [
    "shape_cat=\"mcal\"\n",
    "vol=\"vlim\"\n",
    "z_range=\"all_z\""
   ]
  },
  {
   "cell_type": "code",
   "execution_count": 3,
   "metadata": {},
   "outputs": [],
   "source": [
    "#This header file contains all the common packages\n",
    "%matplotlib inline\n",
    "%run header.py $shape_cat $vol $z_range \n",
    "%run -i func.py  \n",
    "%run -i corr_func.py  "
   ]
  },
  {
   "cell_type": "code",
   "execution_count": 4,
   "metadata": {
    "papermill": {
     "duration": 1.363795,
     "end_time": "2019-11-15T03:19:57.422495",
     "exception": false,
     "start_time": "2019-11-15T03:19:56.058700",
     "status": "completed"
    },
    "tags": []
   },
   "outputs": [],
   "source": [
    "if test==\"foreground\":\n",
    "    members=shapes[(shapes[('All','Z')]-shapes[('All','ZRED2')])>=z_diff]\n",
    "    diff=members[('All','Z')]-members[('All','ZRED2')]\n",
    "    diff.hist()\n",
    "    diff.describe()\n",
    "    \n",
    "elif test==\"background\":\n",
    "    members=shapes[(shapes[('All','Z')]-shapes[('All','ZRED2')])<=-z_diff]\n",
    "    diff=members[('All','Z')]-members[('All','ZRED2')]\n",
    "    diff.hist()\n",
    "    diff.describe()\n",
    "elif test==\"\":\n",
    "    members=shapes\n",
    "else:\n",
    "    raise TypeError"
   ]
  },
  {
   "cell_type": "code",
   "execution_count": 5,
   "metadata": {},
   "outputs": [],
   "source": [
    "# shapes[('All','Z')]"
   ]
  },
  {
   "cell_type": "code",
   "execution_count": 6,
   "metadata": {},
   "outputs": [],
   "source": [
    "# for index,cluster in tqdm(clusters.iterrows()):\n",
    "#     central = get_unique_center_for_cluster(cluster)\n",
    "#     clus_mems = members[members['All','MEM_MATCH_ID']==cluster.name]\n",
    "#     print(central[('All','Z')], cluster[('All','All','Z')], clus_mems.shape)\n",
    "#     print(sum(abs(clus_mems[('All','ZRED2')]-central[('All','Z')])>=0.1))"
   ]
  },
  {
   "cell_type": "code",
   "execution_count": 7,
   "metadata": {},
   "outputs": [],
   "source": [
    "if vol!=\"uber\":\n",
    "    members=shapes"
   ]
  },
  {
   "cell_type": "code",
   "execution_count": 8,
   "metadata": {},
   "outputs": [],
   "source": [
    "if quantile!=\"\":\n",
    "    i=int(quantile)"
   ]
  },
  {
   "cell_type": "code",
   "execution_count": 9,
   "metadata": {},
   "outputs": [],
   "source": [
    "if key==\"lambda\":\n",
    "    key=('All','All','LAMBDA_CHISQ')\n",
    "elif key==\"z\":\n",
    "    key=('All','All','Z_LAMBDA')\n",
    "elif key==\"mag\":\n",
    "    key=('All','All','BCG_ZLUM')"
   ]
  },
  {
   "cell_type": "code",
   "execution_count": 10,
   "metadata": {},
   "outputs": [],
   "source": [
    "def thirds_by_key(catalog,key):\n",
    "    step0=catalog[key].quantile(0.0)\n",
    "    step1=catalog[key].quantile(0.333333)\n",
    "    step2=catalog[key].quantile(0.666666)\n",
    "    step3=catalog[key].quantile(1)\n",
    "    \n",
    "    catalog1=catalog[(catalog[key]>step0) & (catalog[key]<step1)]\n",
    "    catalog2=catalog[(catalog[key]>step1) & (catalog[key]<step2)]\n",
    "    catalog3=catalog[(catalog[key]>step2) & (catalog[key]<step3)]\n",
    "    \n",
    "    return (catalog1,catalog2,catalog3)"
   ]
  },
  {
   "cell_type": "code",
   "execution_count": 11,
   "metadata": {},
   "outputs": [],
   "source": [
    "if key!=\"\":\n",
    "    clusters_list=thirds_by_key(clusters,key)\n",
    "    clusters=clusters_list[i]"
   ]
  },
  {
   "cell_type": "code",
   "execution_count": 12,
   "metadata": {},
   "outputs": [],
   "source": [
    "sep=\"------------------------------------------------------------------------------\"\n",
    "np.set_printoptions(precision=4)"
   ]
  },
  {
   "cell_type": "code",
   "execution_count": 13,
   "metadata": {},
   "outputs": [],
   "source": [
    "NBINS=10"
   ]
  },
  {
   "cell_type": "code",
   "execution_count": 14,
   "metadata": {},
   "outputs": [],
   "source": [
    "import treecorr\n",
    "import astropy.cosmology\n",
    "from fastprogress import master_bar, progress_bar\n",
    "from ipywidgets import FloatProgress\n",
    "from IPython.display import display\n",
    "from tqdm import tqdm"
   ]
  },
  {
   "cell_type": "code",
   "execution_count": 15,
   "metadata": {},
   "outputs": [
    {
     "data": {
      "text/plain": [
       "105029"
      ]
     },
     "execution_count": 15,
     "metadata": {},
     "output_type": "execute_result"
    }
   ],
   "source": [
    "len(shapes)"
   ]
  },
  {
   "cell_type": "code",
   "execution_count": 16,
   "metadata": {},
   "outputs": [
    {
     "data": {
      "text/plain": [
       "105029"
      ]
     },
     "execution_count": 16,
     "metadata": {},
     "output_type": "execute_result"
    }
   ],
   "source": [
    "len(members)"
   ]
  },
  {
   "cell_type": "code",
   "execution_count": 17,
   "metadata": {},
   "outputs": [
    {
     "data": {
      "text/plain": [
       "4322"
      ]
     },
     "execution_count": 17,
     "metadata": {},
     "output_type": "execute_result"
    }
   ],
   "source": [
    "len(clusters)"
   ]
  },
  {
   "cell_type": "code",
   "execution_count": 18,
   "metadata": {},
   "outputs": [],
   "source": [
    "if key==\"\":\n",
    "    assert np.isin(shapes['All','MEM_MATCH_ID'].to_numpy(),clusters.index.to_numpy()).all()==True"
   ]
  },
  {
   "cell_type": "code",
   "execution_count": 19,
   "metadata": {},
   "outputs": [
    {
     "name": "stderr",
     "output_type": "stream",
     "text": [
      "4322it [00:38, 112.31it/s]\n",
      "13it [00:00, 128.92it/s]"
     ]
    },
    {
     "name": "stdout",
     "output_type": "stream",
     "text": [
      "Number of empty sat catalogs is 0\n"
     ]
    },
    {
     "name": "stderr",
     "output_type": "stream",
     "text": [
      "4322it [00:33, 130.37it/s]"
     ]
    },
    {
     "name": "stdout",
     "output_type": "stream",
     "text": [
      "Number of empty sat catalogs is 0\n"
     ]
    },
    {
     "name": "stderr",
     "output_type": "stream",
     "text": [
      "\n"
     ]
    }
   ],
   "source": [
    "ng_abs=get_ng_list('abs')\n",
    "ng_rel=get_ng_list('rel')"
   ]
  },
  {
   "cell_type": "code",
   "execution_count": 20,
   "metadata": {},
   "outputs": [],
   "source": [
    "try:\n",
    "    ng_r=get_xi_meanlogr_varxi_npairs(clusters,'r','abs')\n",
    "except ValueError as e:\n",
    "    print(e)\n",
    "    ng_r=np.array([[1],[1],[1],[1]])"
   ]
  },
  {
   "cell_type": "code",
   "execution_count": 21,
   "metadata": {},
   "outputs": [],
   "source": [
    "# ng_list=np.load(\"/global/project/projectdirs/des/zhou/sa/data/{}/ng_list_cross.npy\".format(dir_string))\n",
    "# ng_r=np.load(\"/global/project/projectdirs/des/zhou/sa/data/{}/ng_r_list_cross.npy\".format(dir_string))"
   ]
  },
  {
   "cell_type": "code",
   "execution_count": 22,
   "metadata": {},
   "outputs": [],
   "source": [
    "sum_abs=get_sum(ng_abs)\n",
    "mean_abs=get_mean(ng_abs)\n",
    "sig_abs=get_sigma(ng_abs)\n",
    "\n",
    "sum_rel=get_sum(ng_rel)\n",
    "mean_rel=get_mean(ng_rel)\n",
    "sig_rel=get_sigma(ng_rel)\n",
    "\n",
    "cov_rel=get_cov(ng_rel)"
   ]
  },
  {
   "cell_type": "code",
   "execution_count": 23,
   "metadata": {},
   "outputs": [
    {
     "data": {
      "text/plain": [
       "(array([-0.0482, -0.0347, -0.0182, -0.0067, -0.0074,  0.0012,  0.0014,\n",
       "         0.0018,  0.0008,  0.0011]),\n",
       " array([-4.074 , -3.6442, -3.2074, -2.7525, -2.2892, -1.8191, -1.3297,\n",
       "        -0.8541, -0.4154, -0.0711]))"
      ]
     },
     "execution_count": 23,
     "metadata": {},
     "output_type": "execute_result"
    }
   ],
   "source": [
    "mean_rel"
   ]
  },
  {
   "cell_type": "code",
   "execution_count": 24,
   "metadata": {},
   "outputs": [],
   "source": [
    "r_xi=ng_r[0]/ng_r[3]\n",
    "r_meanlogr=ng_r[1]/ng_r[3]\n",
    "r_sigma=r_xi/np.sqrt(len(clusters))"
   ]
  },
  {
   "cell_type": "code",
   "execution_count": 25,
   "metadata": {},
   "outputs": [],
   "source": [
    "if key!=\"\":\n",
    "    np.savez(\"/global/project/projectdirs/des/zhou/sa/data/2pt/{}_{}_{}_{}.npz\".format(shape_cat,vol,key,quantile),sum_abs=sum_abs,mean_abs=mean_abs,sig_abs=sig_abs,sum_rel=sum_rel,mean_rel=mean_rel,sig_rel=sig_rel,r_xi=r_xi,r_meanlogr=r_meanlogr,r_sigma=r_sigma)"
   ]
  },
  {
   "cell_type": "code",
   "execution_count": 26,
   "metadata": {},
   "outputs": [],
   "source": [
    "# matplotlib.rcParams.update({'font.size': 11}) # before plotting coode\n",
    "# plt.figure(figsize=(6.2,5))\n",
    "# ...\n",
    "# plt.tight_layout()\n",
    "# plt.subplots_adjust(hspace=0,wspace=0) # if doing multiple panels/subplots\n",
    "# plt.savefig('namee.pdf', bbox_inches='tight')\n",
    "\n",
    "def plt_w_error(meanlogr,xi,varxi,title):\n",
    "    matplotlib.rcParams.update({'font.size': 11}) \n",
    "    plt.figure(figsize=(6.2,5))\n",
    "    plt.errorbar(np.exp(meanlogr),xi,yerr=varxi,fmt='o')\n",
    "    plt.title(title)\n",
    "    plt.xscale('log')\n",
    "#     ax.set_ylim(-0.020,0.020)\n",
    "    \n",
    "    if title==r\"$\\gamma_+$ of Clusters, Normalized by R_LAMBDA\":\n",
    "        plt.savefig(\"/global/project/projectdirs/des/zhou/sa/image/rel_{}_{}_{}.png\".format(shape_cat,vol,z_range))\n",
    "#     plt.xscale('log')\n",
    "#     plt.yscale('log')"
   ]
  },
  {
   "cell_type": "markdown",
   "metadata": {},
   "source": [
    "# Statistics"
   ]
  },
  {
   "cell_type": "code",
   "execution_count": 27,
   "metadata": {},
   "outputs": [],
   "source": [
    "def print_data(sum_,mean_):\n",
    "    sum_string=[\"Aggregated xi:\", \"Aggregated meanlogr:\",\"Aggregated npairs:\"]\n",
    "    for i,data in enumerate(sum_):\n",
    "        print(sum_string[i])\n",
    "        print(sum_[i])\n",
    "        print(sep)\n",
    "    mean_string=[\"Mean xi:\", \"Mean meanlogr:\",\"Mean npairs:\"]\n",
    "    for i,data in enumerate(mean_):\n",
    "        print(mean_string[i])\n",
    "        print(mean_[i])\n",
    "        print(sep)"
   ]
  },
  {
   "cell_type": "markdown",
   "metadata": {},
   "source": [
    "# Redshift distribution"
   ]
  },
  {
   "cell_type": "code",
   "execution_count": 28,
   "metadata": {},
   "outputs": [
    {
     "data": {
      "text/plain": [
       "ID\n",
       "3007825827    0.619567\n",
       "3007931336    0.408113\n",
       "3007938592    0.408113\n",
       "3007938814    0.408113\n",
       "3007938890    0.408113\n",
       "3007939007    0.408113\n",
       "3007939125    0.408113\n",
       "3007941517    0.408113\n",
       "3007941644    0.408113\n",
       "3007941684    0.408113\n",
       "3007941775    0.408113\n",
       "3007941915    0.408113\n",
       "3007941974    0.408113\n",
       "3007942055    0.408113\n",
       "3007944213    0.408113\n",
       "3007944262    0.408113\n",
       "3007944424    0.408113\n",
       "3007944442    0.408113\n",
       "3007944591    0.408113\n",
       "3007944816    0.408113\n",
       "3007944907    0.408113\n",
       "3007945120    0.408113\n",
       "3007945165    0.408113\n",
       "3007945179    0.408113\n",
       "3007947355    0.408113\n",
       "3007947497    0.408113\n",
       "3007947631    0.408113\n",
       "3007947742    0.408113\n",
       "3007947936    0.408113\n",
       "3007947996    0.408113\n",
       "                ...   \n",
       "3159867562    0.657482\n",
       "3159867613    0.657482\n",
       "3159868278    0.657482\n",
       "3159902051    0.392961\n",
       "3159902961    0.392961\n",
       "3159903152    0.392961\n",
       "3159903244    0.392961\n",
       "3159903463    0.392961\n",
       "3159904225    0.392961\n",
       "3159904377    0.392961\n",
       "3159904656    0.392961\n",
       "3159904704    0.392961\n",
       "3159905114    0.392961\n",
       "3159905259    0.392961\n",
       "3159905808    0.392961\n",
       "3159906099    0.392961\n",
       "3159906104    0.392961\n",
       "3159906323    0.392961\n",
       "3159906440    0.392961\n",
       "3159906650    0.392961\n",
       "3159906789    0.392961\n",
       "3159907402    0.392961\n",
       "3159907580    0.392961\n",
       "3159943467    0.385452\n",
       "3159943713    0.385452\n",
       "3159944414    0.385452\n",
       "3159944537    0.385452\n",
       "3159945177    0.385452\n",
       "3159945721    0.385452\n",
       "3159946033    0.385452\n",
       "Name: (All, Z), Length: 105029, dtype: float32"
      ]
     },
     "execution_count": 28,
     "metadata": {},
     "output_type": "execute_result"
    }
   ],
   "source": [
    "members[('All','Z')]"
   ]
  },
  {
   "cell_type": "code",
   "execution_count": 29,
   "metadata": {},
   "outputs": [
    {
     "data": {
      "image/png": "[encoded data removed]",
      "text/plain": [
       "<Figure size 1200x900 with 1 Axes>"
      ]
     },
     "metadata": {
      "needs_background": "light"
     },
     "output_type": "display_data"
    }
   ],
   "source": [
    "fig,ax=plt.subplots(figsize=(8,6),dpi=150)\n",
    "ax.hist(members[('All','ZRED2')],histtype='step')\n",
    "ax.set_xlabel(\"Redshift z\")\n",
    "ax.set_ylabel(\"Number of redMaPPer member galaxies\")\n",
    "ax.set_title(\"Redshift Distribution of redMaPPer member galaxies\")\n",
    "plt.savefig(\"/home/adt35/des_y1_catalog/sa-master/images/z_hist.pdf\")"
   ]
  },
  {
   "cell_type": "markdown",
   "metadata": {},
   "source": [
    "# Abs Plots"
   ]
  },
  {
   "cell_type": "code",
   "execution_count": 30,
   "metadata": {},
   "outputs": [
    {
     "name": "stdout",
     "output_type": "stream",
     "text": [
      "Aggregated xi:\n",
      "[-30.6552 -44.18   -28.1825 -28.2658 -20.0874  10.3704  47.8977  39.4538\n",
      "   7.9123   1.1832]\n",
      "------------------------------------------------------------------------------\n",
      "Aggregated meanlogr:\n",
      "[ -3099.8335  -5921.8027  -8248.6565 -11687.7202 -16130.7827 -20407.7512\n",
      " -21934.0953 -18342.2955  -9373.7347   -902.3618]\n",
      "------------------------------------------------------------------------------\n",
      "Aggregated npairs:\n",
      "[  761.  1627.  2572.  4272.  7100. 11481. 17120. 22818. 24649.  8133.]\n",
      "------------------------------------------------------------------------------\n",
      "Mean xi:\n",
      "[-0.0403 -0.0272 -0.011  -0.0066 -0.0028  0.0009  0.0028  0.0017  0.0003\n",
      "  0.0001]\n",
      "------------------------------------------------------------------------------\n",
      "Mean meanlogr:\n",
      "[-4.0734 -3.6397 -3.2071 -2.7359 -2.2719 -1.7775 -1.2812 -0.8039 -0.3803\n",
      " -0.111 ]\n",
      "------------------------------------------------------------------------------\n"
     ]
    },
    {
     "data": {
      "image/png": "[encoded data removed]",
      "text/plain": [
       "<Figure size 446.4x360 with 1 Axes>"
      ]
     },
     "metadata": {
      "needs_background": "light"
     },
     "output_type": "display_data"
    }
   ],
   "source": [
    "plt_w_error(mean_abs[1],-mean_abs[0],sig_abs,r\"$\\gamma_+$ of Clusters On a Absolute Scale \")\n",
    "print_data(sum_abs,mean_abs)"
   ]
  },
  {
   "cell_type": "code",
   "execution_count": 31,
   "metadata": {},
   "outputs": [
    {
     "name": "stdout",
     "output_type": "stream",
     "text": [
      "[ 6.6265e-03 -3.1496e-03  7.9696e-04 -8.4909e-04 -7.5887e-04 -1.1094e-05\n",
      "  2.9640e-04 -1.0069e-04  1.1638e-04  3.3685e-05]\n",
      "[-1.0080e-04  4.7908e-05 -1.2123e-05  1.2915e-05  1.1543e-05  1.6875e-07\n",
      " -4.5086e-06  1.5316e-06 -1.7703e-06 -5.1238e-07]\n"
     ]
    },
    {
     "data": {
      "image/png": "[encoded data removed]",
      "text/plain": [
       "<Figure size 446.4x360 with 1 Axes>"
      ]
     },
     "metadata": {
      "needs_background": "light"
     },
     "output_type": "display_data"
    }
   ],
   "source": [
    "plt_w_error(r_meanlogr,-r_xi,r_sigma,r\"$\\gamma_+$ with Random Catalog\")\n",
    "print(-r_xi)\n",
    "print(r_sigma)"
   ]
  },
  {
   "cell_type": "code",
   "execution_count": 32,
   "metadata": {},
   "outputs": [
    {
     "data": {
      "image/png": "[encoded data removed]",
      "text/plain": [
       "<Figure size 446.4x360 with 1 Axes>"
      ]
     },
     "metadata": {
      "needs_background": "light"
     },
     "output_type": "display_data"
    }
   ],
   "source": [
    "plt_w_error(mean_abs[1],-(mean_abs[0]+r_xi),np.hypot(r_sigma,sig_abs),r\"$\\gamma_+$ of Clusters - $\\gamma_T$ with Random Catalog\")"
   ]
  },
  {
   "cell_type": "markdown",
   "metadata": {},
   "source": [
    "# Rel plots"
   ]
  },
  {
   "cell_type": "code",
   "execution_count": 33,
   "metadata": {},
   "outputs": [
    {
     "name": "stdout",
     "output_type": "stream",
     "text": [
      "Aggregated xi:\n",
      "[-20.0885 -39.2258 -38.5723 -22.0437 -40.726   10.6303  19.5253  35.5274\n",
      "  20.5928  22.4758]\n",
      "------------------------------------------------------------------------------\n",
      "Aggregated meanlogr:\n",
      "[ -1698.8585  -4125.2643  -6809.3607  -9061.182  -12604.5946 -16486.5316\n",
      " -18795.7992 -17143.5207 -10298.2972  -1431.2205]\n",
      "------------------------------------------------------------------------------\n",
      "Aggregated npairs:\n",
      "[  417.  1132.  2123.  3292.  5506.  9063. 14135. 20072. 24791. 20118.]\n",
      "------------------------------------------------------------------------------\n",
      "Mean xi:\n",
      "[-0.0482 -0.0347 -0.0182 -0.0067 -0.0074  0.0012  0.0014  0.0018  0.0008\n",
      "  0.0011]\n",
      "------------------------------------------------------------------------------\n",
      "Mean meanlogr:\n",
      "[-4.074  -3.6442 -3.2074 -2.7525 -2.2892 -1.8191 -1.3297 -0.8541 -0.4154\n",
      " -0.0711]\n",
      "------------------------------------------------------------------------------\n"
     ]
    },
    {
     "data": {
      "image/png": "[encoded data removed]",
      "text/plain": [
       "<Figure size 446.4x360 with 1 Axes>"
      ]
     },
     "metadata": {
      "needs_background": "light"
     },
     "output_type": "display_data"
    }
   ],
   "source": [
    "plt_w_error(mean_rel[1],-mean_rel[0],sig_rel,r\"-$\\gamma_T$ of Clusters, Normalized by R_LAMBDA\")\n",
    "plt.xlabel(\"Distance from BCG [R_LAMBDA]\")\n",
    "plt.ylabel(r\"-$\\gamma_T$\")\n",
    "plt.savefig(\"/home/adt35/des_y1_catalog/sa-master/images/gamma_T_rel.pdf\")\n",
    "print_data(sum_rel,mean_rel)"
   ]
  },
  {
   "cell_type": "code",
   "execution_count": 34,
   "metadata": {},
   "outputs": [
    {
     "name": "stdout",
     "output_type": "stream",
     "text": [
      "Error bar size\n",
      "[0.0043 0.003  0.0025 0.0021 0.0018 0.0014 0.0011 0.0009 0.0007 0.0008]\n"
     ]
    }
   ],
   "source": [
    "print(\"Error bar size\")\n",
    "print(sig_rel)"
   ]
  },
  {
   "cell_type": "code",
   "execution_count": 35,
   "metadata": {},
   "outputs": [
    {
     "data": {
      "text/plain": [
       "18.31401530514931"
      ]
     },
     "execution_count": 35,
     "metadata": {},
     "output_type": "execute_result"
    }
   ],
   "source": [
    "np.sqrt(np.dot(np.dot(mean_rel[0],np.linalg.inv(cov_rel)),mean_rel[0]))"
   ]
  },
  {
   "cell_type": "code",
   "execution_count": 36,
   "metadata": {},
   "outputs": [
    {
     "data": {
      "text/plain": [
       "10"
      ]
     },
     "execution_count": 36,
     "metadata": {},
     "output_type": "execute_result"
    }
   ],
   "source": [
    "len(cov_rel)"
   ]
  },
  {
   "cell_type": "code",
   "execution_count": 37,
   "metadata": {},
   "outputs": [
    {
     "data": {
      "text/plain": [
       "array([[ 1.8849e-05, -5.7874e-08,  3.0389e-07,  2.9309e-07, -1.0633e-07,\n",
       "         1.2224e-07,  4.1403e-09,  6.0666e-08,  3.8225e-08,  3.0759e-08],\n",
       "       [-5.7874e-08,  9.2802e-06,  1.4093e-07,  4.1195e-08,  5.5726e-08,\n",
       "         6.3779e-09,  4.3096e-08,  5.5475e-08,  2.1255e-08, -5.1031e-08],\n",
       "       [ 3.0389e-07,  1.4093e-07,  6.1933e-06,  5.8366e-08,  9.5962e-08,\n",
       "        -8.1348e-08,  4.7643e-08,  4.1170e-08, -4.3094e-08,  4.1096e-09],\n",
       "       [ 2.9309e-07,  4.1195e-08,  5.8366e-08,  4.5418e-06, -2.8859e-08,\n",
       "        -3.0382e-08,  5.4458e-08,  3.0980e-08,  1.3245e-09,  3.8445e-09],\n",
       "       [-1.0633e-07,  5.5726e-08,  9.5962e-08, -2.8859e-08,  3.1721e-06,\n",
       "        -9.0526e-09, -1.7261e-08,  1.9906e-08, -3.2269e-08, -1.9102e-08],\n",
       "       [ 1.2224e-07,  6.3779e-09, -8.1348e-08, -3.0382e-08, -9.0526e-09,\n",
       "         2.0327e-06, -1.3138e-08, -2.1369e-09, -4.8261e-08,  2.9602e-08],\n",
       "       [ 4.1403e-09,  4.3096e-08,  4.7643e-08,  5.4458e-08, -1.7261e-08,\n",
       "        -1.3138e-08,  1.2939e-06,  1.8492e-08,  1.9287e-08, -2.4914e-08],\n",
       "       [ 6.0666e-08,  5.5475e-08,  4.1170e-08,  3.0980e-08,  1.9906e-08,\n",
       "        -2.1369e-09,  1.8492e-08,  8.4129e-07,  3.9542e-09, -9.4568e-09],\n",
       "       [ 3.8225e-08,  2.1255e-08, -4.3094e-08,  1.3245e-09, -3.2269e-08,\n",
       "        -4.8261e-08,  1.9287e-08,  3.9542e-09,  5.5844e-07,  6.0741e-12],\n",
       "       [ 3.0759e-08, -5.1031e-08,  4.1096e-09,  3.8445e-09, -1.9102e-08,\n",
       "         2.9602e-08, -2.4914e-08, -9.4568e-09,  6.0741e-12,  5.7324e-07]])"
      ]
     },
     "execution_count": 37,
     "metadata": {},
     "output_type": "execute_result"
    }
   ],
   "source": [
    "cov_rel"
   ]
  },
  {
   "cell_type": "code",
   "execution_count": 38,
   "metadata": {},
   "outputs": [
    {
     "data": {
      "text/plain": [
       "-1.0632932333022352e-07"
      ]
     },
     "execution_count": 38,
     "metadata": {},
     "output_type": "execute_result"
    }
   ],
   "source": [
    "cov_rel.min()"
   ]
  },
  {
   "cell_type": "code",
   "execution_count": 39,
   "metadata": {},
   "outputs": [
    {
     "data": {
      "text/plain": [
       "1.8848622294133405e-05"
      ]
     },
     "execution_count": 39,
     "metadata": {},
     "output_type": "execute_result"
    }
   ],
   "source": [
    "cov_rel.max()"
   ]
  },
  {
   "cell_type": "code",
   "execution_count": 40,
   "metadata": {},
   "outputs": [
    {
     "name": "stdout",
     "output_type": "stream",
     "text": [
      "['0.02', '0.03', '0.04', '0.06', '0.10', '0.16', '0.26', '0.43', '0.66', '0.93']\n"
     ]
    }
   ],
   "source": [
    "ticks_val=np.exp(mean_rel[1])\n",
    "ticks_string=[\"{:.2f}\".format(val) for val in ticks_val]\n",
    "print(ticks_string)"
   ]
  },
  {
   "cell_type": "code",
   "execution_count": 41,
   "metadata": {},
   "outputs": [
    {
     "data": {
      "image/png": "[encoded data removed]",
      "text/plain": [
       "<Figure size 446.4x360 with 2 Axes>"
      ]
     },
     "metadata": {
      "needs_background": "light"
     },
     "output_type": "display_data"
    }
   ],
   "source": [
    "fig,ax=plt.subplots(figsize=(6.2,5))\n",
    "\n",
    "from matplotlib.ticker import StrMethodFormatter\n",
    "import matplotlib.ticker as ticker\n",
    "import matplotlib.colors as colors\n",
    "\n",
    "plt.matshow(np.abs(cov_rel),fignum=0,norm=colors.LogNorm(vmin=np.abs(cov_rel).min(),vmax=np.abs(cov_rel).max()))\n",
    "\n",
    "ax.xaxis.set_major_locator(ticker.MultipleLocator(1.00))\n",
    "ax.yaxis.set_major_locator(ticker.MultipleLocator(1.00))\n",
    "\n",
    "ax.set_xticks(range(len(ticks_val)))\n",
    "ax.set_yticks(range(len(ticks_val)))\n",
    "\n",
    "ax.set_xticklabels(ticks_val)\n",
    "\n",
    "\n",
    "ax.xaxis.set_major_formatter(ticker.FixedFormatter(ticks_string))\n",
    "ax.yaxis.set_major_formatter(ticker.FixedFormatter(ticks_string))\n",
    "\n",
    "ax.set_xlabel(\"[R_LAMBDA]\",labelpad=10)\n",
    "\n",
    "def fmt(x, pos):\n",
    "    a, b = '{:.2e}'.format(x).split('e')\n",
    "    b = int(b)\n",
    "    return r'${} \\times 10^{{{}}}$'.format(a, b)\n",
    "\n",
    "\n",
    "cb=plt.colorbar(pad=0.06,format=ticker.FuncFormatter(fmt))\n",
    "\n",
    "\n",
    "\n",
    "\n",
    "ax.set_title('Covariance Matrix of $-\\gamma_T$ at Different R_LAMBDA',fontsize=11,pad=12);\n",
    "plt.savefig('/home/adt35/des_y1_catalog/sa-master/images/cov.pdf')"
   ]
  },
  {
   "cell_type": "code",
   "execution_count": 42,
   "metadata": {},
   "outputs": [],
   "source": [
    "# print(f.number)"
   ]
  },
  {
   "cell_type": "code",
   "execution_count": 43,
   "metadata": {},
   "outputs": [
    {
     "data": {
      "text/plain": [
       "array([-2535.6313, -3706.0982, -2688.7552, -1289.0574, -2264.9699,\n",
       "         624.2006,  1301.7591,  2749.8639,  1456.2783,  1777.1799])"
      ]
     },
     "execution_count": 43,
     "metadata": {},
     "output_type": "execute_result"
    }
   ],
   "source": [
    "np.dot(mean_rel[0],np.linalg.inv(cov_rel))"
   ]
  },
  {
   "cell_type": "code",
   "execution_count": 44,
   "metadata": {},
   "outputs": [
    {
     "data": {
      "text/plain": [
       "array([-0.0482, -0.0347, -0.0182, -0.0067, -0.0074,  0.0012,  0.0014,\n",
       "        0.0018,  0.0008,  0.0011])"
      ]
     },
     "execution_count": 44,
     "metadata": {},
     "output_type": "execute_result"
    }
   ],
   "source": [
    "mean_rel[0]"
   ]
  },
  {
   "cell_type": "code",
   "execution_count": 45,
   "metadata": {},
   "outputs": [
    {
     "data": {
      "text/plain": [
       "array([[ 1.8849e-05, -5.7874e-08,  3.0389e-07,  2.9309e-07, -1.0633e-07,\n",
       "         1.2224e-07,  4.1403e-09,  6.0666e-08,  3.8225e-08,  3.0759e-08],\n",
       "       [-5.7874e-08,  9.2802e-06,  1.4093e-07,  4.1195e-08,  5.5726e-08,\n",
       "         6.3779e-09,  4.3096e-08,  5.5475e-08,  2.1255e-08, -5.1031e-08],\n",
       "       [ 3.0389e-07,  1.4093e-07,  6.1933e-06,  5.8366e-08,  9.5962e-08,\n",
       "        -8.1348e-08,  4.7643e-08,  4.1170e-08, -4.3094e-08,  4.1096e-09],\n",
       "       [ 2.9309e-07,  4.1195e-08,  5.8366e-08,  4.5418e-06, -2.8859e-08,\n",
       "        -3.0382e-08,  5.4458e-08,  3.0980e-08,  1.3245e-09,  3.8445e-09],\n",
       "       [-1.0633e-07,  5.5726e-08,  9.5962e-08, -2.8859e-08,  3.1721e-06,\n",
       "        -9.0526e-09, -1.7261e-08,  1.9906e-08, -3.2269e-08, -1.9102e-08],\n",
       "       [ 1.2224e-07,  6.3779e-09, -8.1348e-08, -3.0382e-08, -9.0526e-09,\n",
       "         2.0327e-06, -1.3138e-08, -2.1369e-09, -4.8261e-08,  2.9602e-08],\n",
       "       [ 4.1403e-09,  4.3096e-08,  4.7643e-08,  5.4458e-08, -1.7261e-08,\n",
       "        -1.3138e-08,  1.2939e-06,  1.8492e-08,  1.9287e-08, -2.4914e-08],\n",
       "       [ 6.0666e-08,  5.5475e-08,  4.1170e-08,  3.0980e-08,  1.9906e-08,\n",
       "        -2.1369e-09,  1.8492e-08,  8.4129e-07,  3.9542e-09, -9.4568e-09],\n",
       "       [ 3.8225e-08,  2.1255e-08, -4.3094e-08,  1.3245e-09, -3.2269e-08,\n",
       "        -4.8261e-08,  1.9287e-08,  3.9542e-09,  5.5844e-07,  6.0741e-12],\n",
       "       [ 3.0759e-08, -5.1031e-08,  4.1096e-09,  3.8445e-09, -1.9102e-08,\n",
       "         2.9602e-08, -2.4914e-08, -9.4568e-09,  6.0741e-12,  5.7324e-07]])"
      ]
     },
     "execution_count": 45,
     "metadata": {},
     "output_type": "execute_result"
    }
   ],
   "source": [
    "cov_rel"
   ]
  },
  {
   "cell_type": "code",
   "execution_count": 46,
   "metadata": {},
   "outputs": [
    {
     "data": {
      "text/plain": [
       "array([[ 5.3207e+04,  3.9530e+02, -2.6630e+03, -3.3873e+03,  1.7837e+03,\n",
       "        -3.4111e+03,  1.0878e+02, -3.6714e+03, -4.0241e+03, -2.5982e+03],\n",
       "       [ 3.9530e+02,  1.0793e+05, -2.4160e+03, -9.1238e+02, -1.7827e+03,\n",
       "        -7.4704e+02, -3.1591e+03, -6.7583e+03, -4.3299e+03,  9.3406e+03],\n",
       "       [-2.6630e+03, -2.4160e+03,  1.6202e+05, -1.7536e+03, -4.8076e+03,\n",
       "         6.9061e+03, -5.9322e+03, -7.3377e+03,  1.3357e+04, -2.1178e+03],\n",
       "       [-3.3873e+03, -9.1238e+02, -1.7536e+03,  2.2062e+05,  1.9628e+03,\n",
       "         3.4144e+03, -9.0549e+03, -7.5970e+03,  3.8302e+02, -1.9963e+03],\n",
       "       [ 1.7837e+03, -1.7827e+03, -4.8076e+03,  1.9628e+03,  3.1583e+05,\n",
       "         1.4364e+03,  4.4136e+03, -7.3825e+03,  1.7844e+04,  1.0287e+04],\n",
       "       [-3.4111e+03, -7.4704e+02,  6.9061e+03,  3.4144e+03,  1.4364e+03,\n",
       "         4.9393e+05,  3.5318e+03,  4.8650e+02,  4.3431e+04, -2.5253e+04],\n",
       "       [ 1.0878e+02, -3.1591e+03, -5.9322e+03, -9.0549e+03,  4.4136e+03,\n",
       "         3.5318e+03,  7.7494e+05, -1.5807e+04, -2.6417e+04,  3.3200e+04],\n",
       "       [-3.6714e+03, -6.7583e+03, -7.3377e+03, -7.5970e+03, -7.3825e+03,\n",
       "         4.8650e+02, -1.5807e+04,  1.1908e+06, -8.3100e+03,  1.8385e+04],\n",
       "       [-4.0241e+03, -4.3299e+03,  1.3357e+04,  3.8302e+02,  1.7844e+04,\n",
       "         4.3431e+04, -2.6417e+04, -8.3100e+03,  1.7979e+06, -3.2202e+03],\n",
       "       [-2.5982e+03,  9.3406e+03, -2.1178e+03, -1.9963e+03,  1.0287e+04,\n",
       "        -2.5253e+04,  3.3200e+04,  1.8385e+04, -3.2202e+03,  1.7489e+06]])"
      ]
     },
     "execution_count": 46,
     "metadata": {},
     "output_type": "execute_result"
    }
   ],
   "source": [
    "np.linalg.inv(cov_rel)"
   ]
  }
 ],
 "metadata": {
  "kernelspec": {
   "display_name": "Python 3",
   "language": "python",
   "name": "python3"
  },
  "language_info": {
   "codemirror_mode": {
    "name": "ipython",
    "version": 3
   },
   "file_extension": ".py",
   "mimetype": "text/x-python",
   "name": "python",
   "nbconvert_exporter": "python",
   "pygments_lexer": "ipython3",
   "version": "3.7.2"
  }
 },
 "nbformat": 4,
 "nbformat_minor": 4
}
